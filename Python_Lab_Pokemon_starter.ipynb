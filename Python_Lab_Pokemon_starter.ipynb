{
 "cells": [
  {
   "cell_type": "markdown",
   "metadata": {
    "colab_type": "text",
    "id": "9EW8Fih8r-g_"
   },
   "source": [
    "<img src=\"http://imgur.com/1ZcRyrc.png\" style=\"float: left; margin: 15px; height: 80px\">\n",
    "\n",
    "# Lab 1.01: Data Structures and Python with Pokemon\n",
    "\n",
    "### Building \"Pokemon Stay\"\n",
    "\n",
    "---\n",
    "You are an analyst at a \"scrappy\" online gaming company that specializes in remakes of last year's fads.\n",
    "\n",
    "Your boss, who runs the product development team, is convinced that Pokemon Go's fatal flaw was that you had to actually move around outside. She has design mock-ups for a new game called Pokemon Stay: in this version players still need to move, but just from website to website. Pokemon gyms are now popular online destinations, and catching Pokemon in the \"wild\" simply requires browsing the internet for hours in the comfort of your home.\n",
    "\n",
    "She wants you to program a prototype version of the game."
   ]
  },
  {
   "cell_type": "markdown",
   "metadata": {
    "colab_type": "text",
    "id": "upDGSCb7r-hB"
   },
   "source": [
    "## Before we start\n",
    "\n",
    "---\n",
    "We're going to take a quick minute to explore nesting behavior of dictionaries and lists. Consider the following data:"
   ]
  },
  {
   "cell_type": "code",
   "execution_count": 1,
   "metadata": {
    "colab": {},
    "colab_type": "code",
    "id": "JA5XA4xSr-hD"
   },
   "outputs": [],
   "source": [
    "dsi_lecture_times = {\n",
    "    'WC': {\n",
    "        'LA': {\n",
    "            'M': [9, 2],\n",
    "            'T': [9, 2],\n",
    "            'W': [9, 2],\n",
    "            'Th': [9],\n",
    "            'F': [9]},\n",
    "        'SEA': {\n",
    "            'M': [9, 2],\n",
    "            'T': [9, 2],\n",
    "            'W': [9, 2],\n",
    "            'Th': [9],\n",
    "            'F': [9]},\n",
    "        'DEN': {\n",
    "            'M': [10, 3],\n",
    "            'T': [10, 3],\n",
    "            'W': [10, 3],\n",
    "            'Th': [10],\n",
    "            'F': [10]},\n",
    "        'SF': {\n",
    "            'M': [9, 2],\n",
    "            'T': [9, 2],\n",
    "            'W': [9, 2],\n",
    "            'Th': [9],\n",
    "            'F': [9]}},\n",
    "    'EC': {\n",
    "        'BOS': {\n",
    "            'M': [10, 3],\n",
    "            'T': [10, 3],\n",
    "            'W': [10, 3],\n",
    "            'Th': [10],\n",
    "            'F': [10]},\n",
    "        'NYC': {\n",
    "            'M': [10, 3],\n",
    "            'T': [10, 3],\n",
    "            'W': [10, 3],\n",
    "            'Th': [10],\n",
    "            'F': [10]},\n",
    "        'DC': {\n",
    "            'M': [10, 3],\n",
    "            'T': [10, 3],\n",
    "            'W': [10, 3],\n",
    "            'Th': [10],\n",
    "            'F': [10]},\n",
    "        'ATX': {\n",
    "            'M': [9, 2],\n",
    "            'T': [9, 2],\n",
    "            'W': [9, 2],\n",
    "            'Th': [9],\n",
    "            'F': [9]},\n",
    "        'CHI': {\n",
    "            'M': [9, 2],\n",
    "            'T': [9, 2],\n",
    "            'W': [9, 2],\n",
    "            'Th': [9],\n",
    "            'F': [9]},\n",
    "        'ATL': {\n",
    "            'M': [10, 3],\n",
    "            'T': [10, 3],\n",
    "            'W': [10, 3],\n",
    "            'Th': [10],\n",
    "            'F': [10]}}\n",
    "    }"
   ]
  },
  {
   "cell_type": "markdown",
   "metadata": {
    "colab_type": "text",
    "id": "TIb58dM0r-hI"
   },
   "source": [
    "This dictionary contains the start times for the global lectures for each of the 10 DSI-CC campuses. The top level indicates the coast. The next level contains the 2 or 3 letter city codes corresponding to the campuses. The next level contains the 5 days of the week; each day of the week contains a list of 1 or 2 integers corresponding to the start time(s) of the day's lectures.\n",
    "\n",
    "Let's set our objective as accessing the **start time of the second Wednesday lecture in Chicago**.\n",
    "\n",
    "Let's look at how the whole dict is rendered as an output in a Jupyter."
   ]
  },
  {
   "cell_type": "code",
   "execution_count": 2,
   "metadata": {
    "colab": {},
    "colab_type": "code",
    "id": "vSyaqoPXr-hJ"
   },
   "outputs": [
    {
     "data": {
      "text/plain": [
       "{'WC': {'LA': {'M': [9, 2], 'T': [9, 2], 'W': [9, 2], 'Th': [9], 'F': [9]},\n",
       "  'SEA': {'M': [9, 2], 'T': [9, 2], 'W': [9, 2], 'Th': [9], 'F': [9]},\n",
       "  'DEN': {'M': [10, 3], 'T': [10, 3], 'W': [10, 3], 'Th': [10], 'F': [10]},\n",
       "  'SF': {'M': [9, 2], 'T': [9, 2], 'W': [9, 2], 'Th': [9], 'F': [9]}},\n",
       " 'EC': {'BOS': {'M': [10, 3],\n",
       "   'T': [10, 3],\n",
       "   'W': [10, 3],\n",
       "   'Th': [10],\n",
       "   'F': [10]},\n",
       "  'NYC': {'M': [10, 3], 'T': [10, 3], 'W': [10, 3], 'Th': [10], 'F': [10]},\n",
       "  'DC': {'M': [10, 3], 'T': [10, 3], 'W': [10, 3], 'Th': [10], 'F': [10]},\n",
       "  'ATX': {'M': [9, 2], 'T': [9, 2], 'W': [9, 2], 'Th': [9], 'F': [9]},\n",
       "  'CHI': {'M': [9, 2], 'T': [9, 2], 'W': [9, 2], 'Th': [9], 'F': [9]},\n",
       "  'ATL': {'M': [10, 3], 'T': [10, 3], 'W': [10, 3], 'Th': [10], 'F': [10]}}}"
      ]
     },
     "execution_count": 2,
     "metadata": {},
     "output_type": "execute_result"
    }
   ],
   "source": [
    "dsi_lecture_times"
   ]
  },
  {
   "cell_type": "markdown",
   "metadata": {
    "colab_type": "text",
    "id": "ZDjVVeeNr-hP"
   },
   "source": [
    "We can see that curly braces (i.e., `{}`) and individual spaces are used to separate layers. Because this can be hard to see, oftentimes we'll use the `keys` method on a dictionary to see what the current level of a dictionary contains. If we approach a dict one level at a time, it's easy to drill down to our objective."
   ]
  },
  {
   "cell_type": "code",
   "execution_count": 3,
   "metadata": {
    "colab": {},
    "colab_type": "code",
    "id": "zs71D_Pwr-hP"
   },
   "outputs": [
    {
     "data": {
      "text/plain": [
       "dict_keys(['WC', 'EC'])"
      ]
     },
     "execution_count": 3,
     "metadata": {},
     "output_type": "execute_result"
    }
   ],
   "source": [
    "dsi_lecture_times.keys()"
   ]
  },
  {
   "cell_type": "markdown",
   "metadata": {
    "colab_type": "text",
    "id": "J5PFfluMr-hU"
   },
   "source": [
    "Once you identify the key you want to access, use square brackets (i.e., `[]`) to access the value associated with that key."
   ]
  },
  {
   "cell_type": "code",
   "execution_count": 4,
   "metadata": {
    "colab": {},
    "colab_type": "code",
    "id": "CFeRAT4qr-hV"
   },
   "outputs": [
    {
     "data": {
      "text/plain": [
       "{'BOS': {'M': [10, 3], 'T': [10, 3], 'W': [10, 3], 'Th': [10], 'F': [10]},\n",
       " 'NYC': {'M': [10, 3], 'T': [10, 3], 'W': [10, 3], 'Th': [10], 'F': [10]},\n",
       " 'DC': {'M': [10, 3], 'T': [10, 3], 'W': [10, 3], 'Th': [10], 'F': [10]},\n",
       " 'ATX': {'M': [9, 2], 'T': [9, 2], 'W': [9, 2], 'Th': [9], 'F': [9]},\n",
       " 'CHI': {'M': [9, 2], 'T': [9, 2], 'W': [9, 2], 'Th': [9], 'F': [9]},\n",
       " 'ATL': {'M': [10, 3], 'T': [10, 3], 'W': [10, 3], 'Th': [10], 'F': [10]}}"
      ]
     },
     "execution_count": 4,
     "metadata": {},
     "output_type": "execute_result"
    }
   ],
   "source": [
    "dsi_lecture_times['EC']"
   ]
  },
  {
   "cell_type": "markdown",
   "metadata": {
    "colab_type": "text",
    "id": "Qmk2KHhar-hZ"
   },
   "source": [
    "It appears that we're still working with a dict. Let's check the type."
   ]
  },
  {
   "cell_type": "markdown",
   "metadata": {
    "colab_type": "text",
    "id": "IiRwNuY_0fI8"
   },
   "source": []
  },
  {
   "cell_type": "markdown",
   "metadata": {
    "colab_type": "text",
    "id": "XRTrzM3o0e3M"
   },
   "source": []
  },
  {
   "cell_type": "code",
   "execution_count": 5,
   "metadata": {
    "colab": {},
    "colab_type": "code",
    "id": "oQYFp0zVr-hZ"
   },
   "outputs": [
    {
     "data": {
      "text/plain": [
       "dict"
      ]
     },
     "execution_count": 5,
     "metadata": {},
     "output_type": "execute_result"
    }
   ],
   "source": [
    "type(dsi_lecture_times['EC'])"
   ]
  },
  {
   "cell_type": "markdown",
   "metadata": {
    "colab_type": "text",
    "id": "IYLyiyFTr-he"
   },
   "source": [
    "It is, in fact, a dictionary. This means that we can use dictionary methods on it. Let's look at the keys."
   ]
  },
  {
   "cell_type": "code",
   "execution_count": 6,
   "metadata": {
    "colab": {},
    "colab_type": "code",
    "id": "XUe3-dLsr-hf"
   },
   "outputs": [
    {
     "data": {
      "text/plain": [
       "dict_keys(['BOS', 'NYC', 'DC', 'ATX', 'CHI', 'ATL'])"
      ]
     },
     "execution_count": 6,
     "metadata": {},
     "output_type": "execute_result"
    }
   ],
   "source": [
    "dsi_lecture_times['EC'].keys()"
   ]
  },
  {
   "cell_type": "markdown",
   "metadata": {
    "colab_type": "text",
    "id": "4ut2hi5Ir-hj"
   },
   "source": [
    "We can continue to add `[]` with our desired key because **`dsi_lecture_times['EC']`** points directly to a dict and operates in the same way a variable name pointing to a dict would."
   ]
  },
  {
   "cell_type": "code",
   "execution_count": 7,
   "metadata": {
    "colab": {},
    "colab_type": "code",
    "id": "qOUaixg3r-hj"
   },
   "outputs": [
    {
     "data": {
      "text/plain": [
       "{'M': [9, 2], 'T': [9, 2], 'W': [9, 2], 'Th': [9], 'F': [9]}"
      ]
     },
     "execution_count": 7,
     "metadata": {},
     "output_type": "execute_result"
    }
   ],
   "source": [
    "dsi_lecture_times['EC']['CHI']"
   ]
  },
  {
   "cell_type": "markdown",
   "metadata": {
    "colab_type": "text",
    "id": "V-6QAl2cr-hm"
   },
   "source": [
    "At this point, you can probably guess how we can access the times for Wednesday. Just add the `['W']` key."
   ]
  },
  {
   "cell_type": "code",
   "execution_count": 8,
   "metadata": {
    "colab": {},
    "colab_type": "code",
    "id": "pMBd5xkir-hn"
   },
   "outputs": [
    {
     "data": {
      "text/plain": [
       "[9, 2]"
      ]
     },
     "execution_count": 8,
     "metadata": {},
     "output_type": "execute_result"
    }
   ],
   "source": [
    "dsi_lecture_times['EC']['CHI']['W']"
   ]
  },
  {
   "cell_type": "markdown",
   "metadata": {
    "colab_type": "text",
    "id": "KQCijOTir-hs"
   },
   "source": [
    "Let's check the type of this final level."
   ]
  },
  {
   "cell_type": "code",
   "execution_count": 9,
   "metadata": {
    "colab": {},
    "colab_type": "code",
    "id": "rvDsXeV5r-ht"
   },
   "outputs": [
    {
     "data": {
      "text/plain": [
       "list"
      ]
     },
     "execution_count": 9,
     "metadata": {},
     "output_type": "execute_result"
    }
   ],
   "source": [
    "type(dsi_lecture_times['EC']['CHI']['W'])"
   ]
  },
  {
   "cell_type": "markdown",
   "metadata": {
    "colab_type": "text",
    "id": "5DAd1Lcrr-hx"
   },
   "source": [
    "Because it is a `list` and lists are 0-indexed, to capture the time of the 2nd lecture, we'll use `[1]`. So, to directly access the time of the afternoon lecture in Chicago on Wedensdays, we'll use the following:"
   ]
  },
  {
   "cell_type": "code",
   "execution_count": 10,
   "metadata": {
    "colab": {},
    "colab_type": "code",
    "id": "3Acb7yilr-hy"
   },
   "outputs": [
    {
     "data": {
      "text/plain": [
       "2"
      ]
     },
     "execution_count": 10,
     "metadata": {},
     "output_type": "execute_result"
    }
   ],
   "source": [
    "dsi_lecture_times['EC']['CHI']['W'][1]"
   ]
  },
  {
   "cell_type": "markdown",
   "metadata": {
    "colab_type": "text",
    "id": "WWYy0ZUxr-h2"
   },
   "source": [
    "**Don't get overwhelmed trying to go directly to your target.** Drill down through your data one level at a time, and you're less likely to get lost.\n",
    "___\n",
    "\n",
    "Now, let's [dig(lett)](https://pokemondb.net/pokedex/diglett) into some Pokemon data.\n",
    "\n",
    "![diglett](images/diglett.jpg)\n",
    "\n",
    "Remember, nested dicts aren't aren't [magik(arp)](https://pokemondb.net/pokedex/magikarp).\n",
    "\n",
    "![magikarp](images/magikarp.jpg)"
   ]
  },
  {
   "cell_type": "markdown",
   "metadata": {
    "colab_type": "text",
    "id": "mmaiA8XAr-h4"
   },
   "source": [
    "## 1. Defining a player\n",
    "\n",
    "---\n",
    "Each player needs to have a set of charactaristics, stored in variables, such as an id, a username, play data, etc. A great structure to house these variables is a `dictionary`, because the `values` can contain any python datatype includeing `list`, `dict`, `tuple`, `int`, `float`, `bool`, or `str`. \n",
    "\n",
    "The player characteristics (keys to the player dict) are:\n",
    "\n",
    "    player_id : id code unique to each player (integer)\n",
    "    player_name : entered name of the player (string)\n",
    "    time_played : number of time played the game in minutes (float)\n",
    "    player_pokemon: the player's captured pokemon (dictionary)\n",
    "    gyms_visited: ids of the gyms that a player has visited (list)"
   ]
  },
  {
   "cell_type": "markdown",
   "metadata": {
    "colab_type": "text",
    "id": "hsJNmcqBr-h5"
   },
   "source": [
    "### A) Create a `dict` for a single player.\n",
    "\n",
    "* The `player_id` should be 1\n",
    "* Since the player doesn't have a name yet, you may set the `player_name` equal to `None`\n",
    "* The rest of the fields should be populated properly depending on the datatype, i.e., `0.0` or an empty iterable of the appropriate type."
   ]
  },
  {
   "cell_type": "code",
   "execution_count": 11,
   "metadata": {
    "colab": {},
    "colab_type": "code",
    "id": "P0i9uTEJr-h6"
   },
   "outputs": [],
   "source": [
    "player_1 = {'player_id' : 1, 'player_name' : 'None', 'time_played' : 2, 'gyms_visited' : 'Viridian City', 'player_pokemon':{}}"
   ]
  },
  {
   "cell_type": "markdown",
   "metadata": {
    "colab_type": "text",
    "id": "iKZKV0_Gr-h9"
   },
   "source": [
    "### B) Create a `dict` to house your dataset of players.\n",
    "\n",
    "* Because only `player_1` exists, there should only be one `key:value` pair. \n",
    "* The `keys` of this `dict` should be the `player_id`, and the `values` should be the dictionaries with single-player info, including the `player_id` (slightly redundant)."
   ]
  },
  {
   "cell_type": "code",
   "execution_count": 12,
   "metadata": {
    "colab": {},
    "colab_type": "code",
    "id": "mNQrveepr-h9"
   },
   "outputs": [],
   "source": [
    "poke_players = {}\n",
    "poke_players[1] = player_1\n",
    "\n"
   ]
  },
  {
   "cell_type": "markdown",
   "metadata": {
    "colab_type": "text",
    "id": "XCl7_dTjr-iB"
   },
   "source": [
    "To see the contents of a variable, just run a code cell with the variable name in it."
   ]
  },
  {
   "cell_type": "code",
   "execution_count": 13,
   "metadata": {
    "colab": {},
    "colab_type": "code",
    "id": "RTjePFoir-iB"
   },
   "outputs": [
    {
     "data": {
      "text/plain": [
       "{1: {'player_id': 1,\n",
       "  'player_name': 'None',\n",
       "  'time_played': 2,\n",
       "  'gyms_visited': 'Viridian City',\n",
       "  'player_pokemon': {}}}"
      ]
     },
     "execution_count": 13,
     "metadata": {},
     "output_type": "execute_result"
    }
   ],
   "source": [
    "poke_players"
   ]
  },
  {
   "cell_type": "markdown",
   "metadata": {
    "colab_type": "text",
    "id": "k-Dst4wNr-iD"
   },
   "source": [
    "### C) Update player 1's info with your own.\n",
    "\n",
    "* By indexing your `poke_players` dictionary, update the `player_name` field to your own name.\n",
    "* Display the contents of `poke_players` to check your work."
   ]
  },
  {
   "cell_type": "code",
   "execution_count": 14,
   "metadata": {
    "colab": {},
    "colab_type": "code",
    "id": "enI-etOpr-iE"
   },
   "outputs": [
    {
     "data": {
      "text/plain": [
       "{1: {'player_id': 1,\n",
       "  'player_name': 'Eric Wong',\n",
       "  'time_played': 2,\n",
       "  'gyms_visited': 'Viridian City',\n",
       "  'player_pokemon': {}}}"
      ]
     },
     "execution_count": 14,
     "metadata": {},
     "output_type": "execute_result"
    }
   ],
   "source": [
    "poke_players[1]['player_name'] = 'Eric Wong'\n",
    "poke_players"
   ]
  },
  {
   "cell_type": "markdown",
   "metadata": {
    "colab_type": "text",
    "id": "gRZCQCUYr-iG"
   },
   "source": [
    "### D) Define a function that adds a player to `poke_players`.\n",
    "\n",
    "Your functions should...\n",
    "\n",
    "* Take arguments for `players_dict`, `player_id`, and `player_name`.\n",
    "* Create a player with the above values and populate the `gyms_visited`, `player_pokemon`, and `time_played` in the same way you did for `player_1` above.\n",
    "* Prints the name of the player added.\n",
    "* `return` the updated dictionary."
   ]
  },
  {
   "cell_type": "code",
   "execution_count": 15,
   "metadata": {
    "colab": {},
    "colab_type": "code",
    "id": "nm45wTw0r-iH"
   },
   "outputs": [],
   "source": [
    "def add_player(poke_player, player_id, player_name, gyms_visited, player_pokemon, time_played):\n",
    "  poke_players[poke_player] = {'player_id':player_id, 'player_name': player_name, 'gyms_visited': gyms_visited, 'player_pokemon' :player_pokemon, 'time_played': time_played}\n",
    "  return poke_players[poke_player]"
   ]
  },
  {
   "cell_type": "markdown",
   "metadata": {
    "colab_type": "text",
    "id": "ZxHYsPApr-iI"
   },
   "source": [
    "### E) Add a new player\n",
    "\n",
    "* Add a second player to the `poke_players` dictionary using the `add_player` function. The id should be 2, but the name is up to you!\n",
    "* Reassign and overwrite the `poke_players` dictionary.\n",
    "* Display the contents of `poke_players` to check your work."
   ]
  },
  {
   "cell_type": "code",
   "execution_count": 16,
   "metadata": {
    "colab": {},
    "colab_type": "code",
    "id": "Jj2i42URr-iK"
   },
   "outputs": [
    {
     "data": {
      "text/plain": [
       "{1: {'player_id': 1,\n",
       "  'player_name': 'Eric Wong',\n",
       "  'time_played': 2,\n",
       "  'gyms_visited': 'Viridian City',\n",
       "  'player_pokemon': {}},\n",
       " 2: {'player_id': 2,\n",
       "  'player_name': 'Mike',\n",
       "  'gyms_visited': 'Cerulean',\n",
       "  'player_pokemon': {},\n",
       "  'time_played': '21'}}"
      ]
     },
     "execution_count": 16,
     "metadata": {},
     "output_type": "execute_result"
    }
   ],
   "source": [
    "add_player(2, 2, 'Mike', 'Cerulean', {}, '21')\n",
    "\n",
    "poke_players"
   ]
  },
  {
   "cell_type": "markdown",
   "metadata": {
    "colab_type": "text",
    "id": "PhP61TBqr-iL"
   },
   "source": [
    "## 2. Defining \"gym\" locations\n",
    "\n",
    "---\n",
    "\n",
    "As the sole programmer, Pokemon Stay will have to start small. To begin, there will be 10 different gym location websites on the internet. The gym locations are:\n",
    "\n",
    "    1. 'reddit.com'\n",
    "    2. 'amazon.com'\n",
    "    3. 'twitter.com'\n",
    "    4. 'linkedin.com'\n",
    "    5. 'ebay.com'\n",
    "    6. 'netflix.com'\n",
    "    7. 'stackoverflow.com'\n",
    "    8. 'github.com'\n",
    "    9. 'quora.com'\n",
    "    10. 'google.com'\n",
    "\n",
    "* Set up a list of all the gym locations. This will be a list of strings. Print the list to check your work.\n",
    "* For each player in `poke_players`, use `sample` (imported from `random` below) to randomly select 2 gyms and add these gyms to the `gyms_visited` field.\n",
    "* Display the contents of `poke_players` to check your work."
   ]
  },
  {
   "cell_type": "code",
   "execution_count": 17,
   "metadata": {
    "colab": {},
    "colab_type": "code",
    "id": "fDtVbWvjr-iM"
   },
   "outputs": [],
   "source": [
    "from random import sample"
   ]
  },
  {
   "cell_type": "code",
   "execution_count": 18,
   "metadata": {
    "colab": {},
    "colab_type": "code",
    "id": "is1YYd1Ur-iP"
   },
   "outputs": [
    {
     "data": {
      "text/plain": [
       "[('a', 'b', 'c'), 'apple', 0.8]"
      ]
     },
     "execution_count": 18,
     "metadata": {},
     "output_type": "execute_result"
    }
   ],
   "source": [
    "# Run this cell a few times to understand sample. Play around with the function!\n",
    "this_list = ['apple', 1, ('a','b','c'), 0.8]\n",
    "sample(this_list, 3)"
   ]
  },
  {
   "cell_type": "code",
   "execution_count": 19,
   "metadata": {
    "colab": {},
    "colab_type": "code",
    "id": "GLNo2FGDr-iR"
   },
   "outputs": [
    {
     "data": {
      "text/plain": [
       "{1: {'player_id': 1,\n",
       "  'player_name': 'Eric Wong',\n",
       "  'time_played': 2,\n",
       "  'gyms_visited': ['twitter.com', 'ebay.com'],\n",
       "  'player_pokemon': {}},\n",
       " 2: {'player_id': 2,\n",
       "  'player_name': 'Mike',\n",
       "  'gyms_visited': ['amazon.com', 'linkedin.com'],\n",
       "  'player_pokemon': {},\n",
       "  'time_played': '21'}}"
      ]
     },
     "execution_count": 19,
     "metadata": {},
     "output_type": "execute_result"
    }
   ],
   "source": [
    "gyms = ['reddit.com',\n",
    " 'amazon.com',\n",
    "'twitter.com',\n",
    " 'linkedin.com',\n",
    " 'ebay.com',\n",
    " 'netflix.com',\n",
    "'stackoverflow.com',\n",
    "'github.com' 'quora.com',\n",
    " 'google.com']\n",
    "\n",
    "#Poke Player 1 add 2 random gyms to gym'sv visited\n",
    "poke_players[1]['gyms_visited'] = sample(gyms,2)\n",
    "\n",
    "#Poke Player 2 add 2 random gyms to gym'sv visited\n",
    "poke_players[2]['gyms_visited'] = sample(gyms,2)\n",
    "\n",
    "\n",
    "poke_players"
   ]
  },
  {
   "cell_type": "markdown",
   "metadata": {
    "colab_type": "text",
    "id": "WskrOQjjr-iT"
   },
   "source": [
    "## 3. Create a pokedex\n",
    "\n",
    "---\n",
    "\n",
    "We also need to create some pokemon to catch! Let's store the attributes of each pokemon in a `dictionary`, since each pokemon has many characteristics we'd like to store.\n",
    "\n",
    "\n",
    "Each pokemon will be defined by these characteristics (keys to the pokemon dict):\n",
    "\n",
    "    poke_id : unique identifier for each pokemon (integer, sequential)\n",
    "    poke_name : the name of the pokemon (string)\n",
    "    poke_type : the category of pokemon (string)\n",
    "    hp : base hitpoints (integer between 400 and 500)\n",
    "    attack : base attack (integer between 50 and 100)\n",
    "    defense : base defense (integer between 50 and 100)\n",
    "    special_attack : base special attack (integer between 100 and 150)\n",
    "    special_defense : base sepecial defense (integer between 100 and 150)\n",
    "    speed : base speed (integer between 0 and 100)\n",
    "    \n",
    "**Note**: All integer ranges are inclusive on both ends."
   ]
  },
  {
   "cell_type": "markdown",
   "metadata": {
    "colab_type": "text",
    "id": "vMhEHdlmobre"
   },
   "source": []
  },
  {
   "cell_type": "markdown",
   "metadata": {
    "colab_type": "text",
    "id": "aFTv1dZir-iU"
   },
   "source": [
    "### A) Create a function called `create_pokemon`\n",
    "\n",
    "* The function should take arguments for `poke_id`, `poke_name`, and `poke_type`.\n",
    "* Assign these arguments along with random stats into a `dict` using the guidelines above.\n",
    "* Use `np.random.randint` to generate values for the numeric attributes based on the conditions above. If you're not clear on how this function works, there is a cell below with an example. Play around with it!\n",
    "* The function should return a `dict` for the pokemon.\n",
    "* Without assigning it to a variable, check the function's output by calling it with the following arguments:\n",
    "  * `poke_id = 1`\n",
    "  * `poke_name = 'charmander'`\n",
    "  * `poke_type = 'fire'`"
   ]
  },
  {
   "cell_type": "code",
   "execution_count": 20,
   "metadata": {
    "colab": {},
    "colab_type": "code",
    "id": "dYyitD29r-iW"
   },
   "outputs": [],
   "source": [
    "import numpy as np"
   ]
  },
  {
   "cell_type": "code",
   "execution_count": 21,
   "metadata": {
    "colab": {},
    "colab_type": "code",
    "id": "RKmg4NVmr-iX"
   },
   "outputs": [
    {
     "data": {
      "text/plain": [
       "0"
      ]
     },
     "execution_count": 21,
     "metadata": {},
     "output_type": "execute_result"
    }
   ],
   "source": [
    "# Play around with this cell to understand np.random.randint!\n",
    "\n",
    "np.random.randint(0,10)"
   ]
  },
  {
   "cell_type": "code",
   "execution_count": 22,
   "metadata": {
    "colab": {},
    "colab_type": "code",
    "id": "WE_C3Qayr-ic"
   },
   "outputs": [
    {
     "data": {
      "text/plain": [
       "{}"
      ]
     },
     "execution_count": 22,
     "metadata": {},
     "output_type": "execute_result"
    }
   ],
   "source": [
    "pokedex = {}\n",
    "def create_pokemon(poke_id, poke_name, poke_type):\n",
    "    pokedex[poke_id] = {'poke_name': poke_name, 'poke_type': poke_type, 'HP': np.random.randint(400,500), 'attack': np.random.randint(50,100), 'defense': np.random.randint(50,100), 'special attack': np.random.randint(100,150), 'special defense':np.random.randint(100,150), 'speed':np.random.randint(0,100)}\n",
    "   \n",
    "pokedex\n"
   ]
  },
  {
   "cell_type": "markdown",
   "metadata": {
    "colab_type": "text",
    "id": "s9I4v0adr-ig"
   },
   "source": [
    "### B) Populate the `pokedex`!\n",
    "\n",
    "Now we need some pokemon to catch. Let's create a dictionary to store the information!\n",
    "\n",
    "* Instantiate an empyt dictionary called `pokedex`.\n",
    "* Define a function called `create_and_add_to_pokedex`. This function should...\n",
    "  * Take arguments for `pokedex`,  `poke_id`, `poke_name`, and `poke_type`.\n",
    "  * Use the `create_pokemon` function you created earlier to create a pokemon using the provided `poke_id`, `poke_name`, and `poke_type`.\n",
    "  * Add a new `key:value` pair to the `pokedex` dictionary where:\n",
    "    * the `key` is the `poke_id`, and\n",
    "    * the `value` is the newly-created pokemon dict, including the `poke_id` (this is slightly redundant, but that's ok!)\n",
    "  * Prints the name of the pokemon added to the pokedex using the string `format` method or `f` strings.\n",
    "* Add the following 3 pokemon to your `pokedex` using `create_and_add_to_pokedex`:\n",
    "\n",
    "|Id|Name|Type|\n",
    "|---|---|---|\n",
    "|1|charmander|fire|\n",
    "|2|squirtle|water|\n",
    "|3|bulasaur|poison|\n",
    "\n",
    "Display your `pokedex` to check your work. It should look something like...\n",
    "\n",
    "```python\n",
    "{1: {'attack': 64,\n",
    "  'defense': 59,\n",
    "  'hp': 495,\n",
    "  'poke_id': 1,\n",
    "  'poke_name': 'charmander',\n",
    "  'poke_type': 'fire',\n",
    "  'special_attack': 100,\n",
    "  ...\n",
    "```"
   ]
  },
  {
   "cell_type": "code",
   "execution_count": 23,
   "metadata": {
    "colab": {
     "base_uri": "https://localhost:8080/",
     "height": 52
    },
    "colab_type": "code",
    "id": "YNFfmeMor-ig",
    "outputId": "afd99012-eb7a-43f3-8aa0-fa301989b431"
   },
   "outputs": [],
   "source": [
    "def create_and_add_to_pokedex(pokedex, poke_id, poke_name, poke_type):\n",
    "    pokedex[poke_id] = {'poke_name': poke_name, 'poke_type': poke_type, 'HP': np.random.randint(400,500), 'attack': np.random.randint(50,100), 'defense': np.random.randint(50,100), 'special attack': np.random.randint(100,150), 'special defense':np.random.randint(100,150), 'speed':np.random.randint(0,100)}\n",
    "    "
   ]
  },
  {
   "cell_type": "code",
   "execution_count": 24,
   "metadata": {
    "colab": {},
    "colab_type": "code",
    "id": "iMVBANIDr-ik"
   },
   "outputs": [
    {
     "data": {
      "text/plain": [
       "{1: {'poke_name': 'charmander',\n",
       "  'poke_type': 'fire',\n",
       "  'HP': 423,\n",
       "  'attack': 72,\n",
       "  'defense': 96,\n",
       "  'special attack': 126,\n",
       "  'special defense': 121,\n",
       "  'speed': 74},\n",
       " 2: {'poke_name': 'squirtle',\n",
       "  'poke_type': 'water',\n",
       "  'HP': 486,\n",
       "  'attack': 50,\n",
       "  'defense': 69,\n",
       "  'special attack': 107,\n",
       "  'special defense': 119,\n",
       "  'speed': 47},\n",
       " 3: {'poke_name': 'bulbasaur',\n",
       "  'poke_type': 'grass',\n",
       "  'HP': 429,\n",
       "  'attack': 87,\n",
       "  'defense': 59,\n",
       "  'special attack': 140,\n",
       "  'special defense': 128,\n",
       "  'speed': 94}}"
      ]
     },
     "execution_count": 24,
     "metadata": {},
     "output_type": "execute_result"
    }
   ],
   "source": [
    "\n",
    "create_and_add_to_pokedex(pokedex, 1, 'charmander', 'fire')\n",
    "create_and_add_to_pokedex(pokedex, 2, 'squirtle', 'water')\n",
    "create_and_add_to_pokedex(pokedex, 3, 'bulbasaur', 'grass')\n",
    "\n",
    "pokedex"
   ]
  },
  {
   "cell_type": "markdown",
   "metadata": {
    "colab_type": "text",
    "id": "q8j5rtWcr-iz"
   },
   "source": [
    "## 4. Let's capture some pokemon!\n",
    "\n",
    "---\n",
    "\n",
    "Each player in `poke_players` should have a nested dictionary with the key `'player_pokemon'`. This is intended to be the place where we keep track of which of the pokemon each player has.\n",
    "\n",
    "The keys of the `'player_pokemon'` dictionaries are the `poke_id`s that correspond to the ids in the `pokedex` dictionary you created earlier, and the values are the individual pokemon dicts. \n",
    "\n",
    "Essentially, we are replicating the structure of our `pokedex` for each user, only showing the Pokemon a particular user has captured nested within their individual player dictionary.\n",
    "\n",
    "* Define a function called `add_pokemon_to_player` that...\n",
    "  * Takes arguents for `player_id`, `poke_id`, `poke_players`, and `pokedex`.\n",
    "  * Adds the desired pokemon to the `player_pokemon` field of the specified player\n",
    "  * Prints which pokemon was added to which player.\n",
    "  * Returns the modified `poke_players`."
   ]
  },
  {
   "cell_type": "code",
   "execution_count": 25,
   "metadata": {
    "colab": {},
    "colab_type": "code",
    "id": "j5RDEdJUr-iz"
   },
   "outputs": [
    {
     "data": {
      "text/plain": [
       "{1: {'player_id': 1,\n",
       "  'player_name': 'Eric Wong',\n",
       "  'time_played': 2,\n",
       "  'gyms_visited': ['twitter.com', 'ebay.com'],\n",
       "  'player_pokemon': {}},\n",
       " 2: {'player_id': 2,\n",
       "  'player_name': 'Mike',\n",
       "  'gyms_visited': ['amazon.com', 'linkedin.com'],\n",
       "  'player_pokemon': {},\n",
       "  'time_played': '21'}}"
      ]
     },
     "execution_count": 25,
     "metadata": {},
     "output_type": "execute_result"
    }
   ],
   "source": [
    "#Function which adds pokemon to player\n",
    "def add_pokemon_to_player(player_id, poke_id, poke_players, pokedex):\n",
    "  poke_players[player_id]['player_pokemon'][poke_id] = pokedex[poke_id]\n",
    "  print(str(pokedex[poke_id]['poke_name']) + ' was added')\n",
    "\n",
    "poke_players"
   ]
  },
  {
   "cell_type": "markdown",
   "metadata": {
    "colab_type": "text",
    "id": "gpqZpjx6r-i1"
   },
   "source": [
    "* Call your function three times to add \n",
    "  * `squirtle` to player 1\n",
    "  * `charmander` to player 2\n",
    "  * `bulbasaur` to player 2\n",
    "* Overwrite your `poke_player` variable each time with the updated dictionary.\n",
    "* Display the contents of `poke_players` to check your work."
   ]
  },
  {
   "cell_type": "code",
   "execution_count": 26,
   "metadata": {
    "colab": {},
    "colab_type": "code",
    "id": "0DR86adgr-i2"
   },
   "outputs": [
    {
     "name": "stdout",
     "output_type": "stream",
     "text": [
      "squirtle was added\n",
      "charmander was added\n",
      "bulbasaur was added\n"
     ]
    },
    {
     "data": {
      "text/plain": [
       "{1: {'player_id': 1,\n",
       "  'player_name': 'Eric Wong',\n",
       "  'time_played': 2,\n",
       "  'gyms_visited': ['twitter.com', 'ebay.com'],\n",
       "  'player_pokemon': {2: {'poke_name': 'squirtle',\n",
       "    'poke_type': 'water',\n",
       "    'HP': 486,\n",
       "    'attack': 50,\n",
       "    'defense': 69,\n",
       "    'special attack': 107,\n",
       "    'special defense': 119,\n",
       "    'speed': 47}}},\n",
       " 2: {'player_id': 2,\n",
       "  'player_name': 'Mike',\n",
       "  'gyms_visited': ['amazon.com', 'linkedin.com'],\n",
       "  'player_pokemon': {1: {'poke_name': 'charmander',\n",
       "    'poke_type': 'fire',\n",
       "    'HP': 423,\n",
       "    'attack': 72,\n",
       "    'defense': 96,\n",
       "    'special attack': 126,\n",
       "    'special defense': 121,\n",
       "    'speed': 74},\n",
       "   3: {'poke_name': 'bulbasaur',\n",
       "    'poke_type': 'grass',\n",
       "    'HP': 429,\n",
       "    'attack': 87,\n",
       "    'defense': 59,\n",
       "    'special attack': 140,\n",
       "    'special defense': 128,\n",
       "    'speed': 94}},\n",
       "  'time_played': '21'}}"
      ]
     },
     "execution_count": 26,
     "metadata": {},
     "output_type": "execute_result"
    }
   ],
   "source": [
    "#Function(player, pokemonID, poke_players, pokedex)\n",
    "add_pokemon_to_player(1, 2, poke_players, pokedex)\n",
    "add_pokemon_to_player(2, 1, poke_players, pokedex)\n",
    "add_pokemon_to_player(2, 3, poke_players, pokedex)\n",
    "\n",
    "poke_players"
   ]
  },
  {
   "cell_type": "markdown",
   "metadata": {
    "colab_type": "text",
    "id": "ACA4-g21r-i4"
   },
   "source": [
    "## 5. What gyms have players visited?\n",
    "\n",
    "### A) Checking gyms\n",
    "\n",
    "Write a nested for-loop that:\n",
    "\n",
    "1. Iterates through the `gyms` list of gym locations you defined before.\n",
    "2. For each gym, iterate through each player in the `poke_players` dictionary with a second, internal for-loop, checking if the player has visited that gym (stored in the `'gyms_visited'` list).\n",
    "3. If the player has visited the gym, print out \"{player_name} has visited {gym}.\", filling in `{player_name}` and `{gym}` with the current player's name and current gym location."
   ]
  },
  {
   "cell_type": "code",
   "execution_count": 27,
   "metadata": {
    "colab": {},
    "colab_type": "code",
    "id": "EP5ikWnVr-i5"
   },
   "outputs": [
    {
     "name": "stdout",
     "output_type": "stream",
     "text": [
      "Mike has visited amazon.com\n",
      "Eric Wong has visited twitter.com\n",
      "Mike has visited linkedin.com\n",
      "Eric Wong has visited ebay.com\n"
     ]
    }
   ],
   "source": [
    "for gym_names in gyms:\n",
    " for player_name in poke_players:\n",
    "  for actual_gyms_visited in poke_players[player_name]['gyms_visited']:\n",
    "    if gym_names == actual_gyms_visited:\n",
    "      print(poke_players[player_name]['player_name'] + ' has visited ' +gym_names)"
   ]
  },
  {
   "cell_type": "markdown",
   "metadata": {
    "colab_type": "text",
    "id": "0MwMnKN2r-i6"
   },
   "source": [
    "### B) Computational Complexity\n",
    "\n",
    "How many times did that loop run? If you have N gyms and also M players, how many times would it run as a function of N and M? \n",
    "\n",
    "(You can write your answer as Markdown text.)"
   ]
  },
  {
   "cell_type": "markdown",
   "metadata": {
    "colab_type": "text",
    "id": "xZnyWWDOr-i7"
   },
   "source": [
    "$N \\text{ gyms x } M \\text{ players } = NxM$"
   ]
  },
  {
   "cell_type": "markdown",
   "metadata": {
    "colab_type": "text",
    "id": "nQE1wxFjr-i7"
   },
   "source": []
  },
  {
   "cell_type": "markdown",
   "metadata": {
    "colab_type": "text",
    "id": "jbIlvgDir-i8"
   },
   "source": [
    "## 6. Calculate player \"power\".\n",
    "\n",
    "---\n",
    "\n",
    "Define a function that will calculate a player's \"power\". Player power is defined as the sum of the base statistics all of their pokemon.\n",
    "\n",
    "$$\n",
    "\\text{player power } = \\sum_{i = 1}^{n}\\text{attack}_i + \\text{defense}_i + \\text{special attack}_i + \\text{special defense}_i\n",
    "$$\n",
    "\n",
    "Where $i$ is an individual pokemon in a player's `player_pokemon`. ($\\sum$ just means sum, so you're just adding up all the attributes listed above for all the pokemon in the player's `player_pokemon`).\n",
    "\n",
    "Your function should:\n",
    "\n",
    "*  Accept a `poke_players` dictionary and a `player_id` as arguments.\n",
    "*  For the specified player_id, look up that player's pokemon.\n",
    "*  Find and aggregate the attack and defense values for each of the player's pokemon.\n",
    "*  Print \"{player_name}'s power is {player_power}.\", where the `player_power` is the sum of the base statistics for all of their pokemon.\n",
    "*  Return the player's power value.\n",
    "\n",
    "Check your work by looping through all players in your `poke_players` dict."
   ]
  },
  {
   "cell_type": "code",
   "execution_count": 28,
   "metadata": {
    "colab": {},
    "colab_type": "code",
    "id": "CzMcHt63r-i9"
   },
   "outputs": [
    {
     "name": "stdout",
     "output_type": "stream",
     "text": [
      "total power level of player 1 is 345\n",
      "total power level of player 2 is 829\n"
     ]
    }
   ],
   "source": [
    "#Function creates coiunter which adds up all power values together and then returns it\n",
    "#If player has more than 1 pokemon it will also add that power to player\n",
    "\n",
    "def get_power(player_id, player_dict = poke_players):\n",
    "    total_power = 0\n",
    "    for x in poke_players[player_id]['player_pokemon']:\n",
    "      total_power += poke_players[player_id]['player_pokemon'][x]['attack'] \n",
    "      total_power += poke_players[player_id]['player_pokemon'][x]['defense']   \n",
    "      total_power += poke_players[player_id]['player_pokemon'][x]['special attack']\n",
    "      total_power += poke_players[player_id]['player_pokemon'][x]['special defense'] \n",
    "    return print('total power level of player ' + str(player_id) +' is ' + str(total_power))\n",
    "        \n",
    "get_power(1)\n",
    "get_power(2)"
   ]
  },
  {
   "cell_type": "markdown",
   "metadata": {
    "colab_type": "text",
    "id": "P3k8SYWEr-jB"
   },
   "source": [
    "## 7. Load a pokedex file containing all the pokemon\n",
    "\n",
    "---\n",
    "\n",
    "### Load data using the `with open()` method.\n",
    "\n",
    "While you were putting together the prototype code, your colleagues were preparing a dataset of Pokemon and their attributes (This was a rush job, so they may have picked some crazy values for some...). Your task is to load the data into a list of lists so you can manipulate it.\n",
    "\n",
    "* The `type` of the data should be a `list`\n",
    "  * The `type` of each element in that list should be a `list`\n",
    "    * The `type` of each element in the sub-list should be `str` or `float`.\n",
    "\n",
    "The code provided loads the data into one looooong `str`. To get it into the correct format:\n",
    "* Use the string `.replace()` method to remove `\"`. \n",
    "* Use the string `.split()` method to create a new row for each line. New lines are denoted with a `'\\n'`.\n",
    "* Use `.split()` again on each line, splitting on commas to separate your individual values.\n",
    "* Iterate through your data. Use `try/except` to cast numeric data as type `float`. \n",
    "\n",
    "Your end result is effectively a matrix. Each list $i$ in the outer list is a row, and the $j$th elements of list together form the *j*th column, which represents a data attribute. The first three lists in your pokedex list should look like this:\n",
    "\n",
    "    ['PokedexNumber', 'Name', 'Type', 'Total', 'HP', 'Attack', 'Defense', 'SpecialAttack', 'SpecialDefense', 'Speed']\n",
    "    [1.0, 'Bulbasaur', 'GrassPoison', 318.0, 45.0, 49.0, 49.0, 65.0, 65.0, 45.0]\n",
    "    [2.0, 'Ivysaur', 'GrassPoison', 405.0, 60.0, 62.0, 63.0, 80.0, 80.0, 60.0]\n",
    "    \n",
    "In the above example, `new_pd[1][3]` would return the value `[318.0]`, which occupies the 4th index of the 2nd row (Python is 0-indexed).\n",
    "    \n",
    "**WARNING:** Don't print or display your entire new pokedex! Viewing that many entries will clog up your notebook and make it difficult to read."
   ]
  },
  {
   "cell_type": "code",
   "execution_count": 29,
   "metadata": {
    "colab": {
     "base_uri": "https://localhost:8080/",
     "height": 239
    },
    "colab_type": "code",
    "id": "6gQacDnfr-jB",
    "outputId": "27f1ab1d-9073-4880-ec7a-7d67a1f313e2"
   },
   "outputs": [],
   "source": [
    "# Code to read in pokedex info\n",
    "#Note I had to use the absolute path as the relative didn't work on my notebook\n",
    "\n",
    "raw_pd = ''\n",
    "pokedex_file = \"C:\\\\Users\\\\ericp\\\\OneDrive\\\\Documents\\\\GitHub\\\\1.01-lab-pokemon\\\\pokedex_basic.csv\"\n",
    "with open(pokedex_file, 'r') as f:\n",
    "    raw_pd = f.read()\n",
    "    \n",
    "\n",
    "# the pokedex string is assigned to the raw_pd variable"
   ]
  },
  {
   "cell_type": "code",
   "execution_count": 30,
   "metadata": {
    "colab": {},
    "colab_type": "code",
    "id": "Lh7TFZWmr-jD"
   },
   "outputs": [],
   "source": [
    "\n",
    "new_pd = raw_pd.replace('\"', '').split('\\n') #creates new file with quotes removed and splits per line\n",
    "for x in range(0, len(new_pd)): #Iterates through every line\n",
    "     new_pd[x] = new_pd[x].split(',') #returns so that values are split on comma\n",
    "\n",
    "#Tries to pass floats with each list in list. if it cannot it passes\n",
    "for x in range(0,len(new_pd)):\n",
    "    for y in range(0,len(new_pd[x])):\n",
    "        try:     \n",
    "            new_pd[x][y] = float(new_pd[x][y])\n",
    "        except:\n",
    "            pass\n",
    "        \n"
   ]
  },
  {
   "cell_type": "markdown",
   "metadata": {
    "colab_type": "text",
    "id": "7V-K53nAr-jH"
   },
   "source": [
    "To preview the top 3 rows of your list of lists, use the code below:"
   ]
  },
  {
   "cell_type": "code",
   "execution_count": 31,
   "metadata": {
    "colab": {},
    "colab_type": "code",
    "id": "Lfz40Qqcr-jH",
    "scrolled": false
   },
   "outputs": [
    {
     "data": {
      "text/plain": [
       "[['PokedexNumber',\n",
       "  'Name',\n",
       "  'Type',\n",
       "  'Total',\n",
       "  'HP',\n",
       "  'Attack',\n",
       "  'Defense',\n",
       "  'SpecialAttack',\n",
       "  'SpecialDefense',\n",
       "  'Speed'],\n",
       " [1.0, 'Bulbasaur', 'GrassPoison', 318.0, 45.0, 49.0, 49.0, 65.0, 65.0, 45.0],\n",
       " [2.0, 'Ivysaur', 'GrassPoison', 405.0, 60.0, 62.0, 63.0, 80.0, 80.0, 60.0],\n",
       " [3.0, 'Venusaur', 'GrassPoison', 525.0, 80.0, 82.0, 83.0, 100.0, 100.0, 80.0]]"
      ]
     },
     "execution_count": 31,
     "metadata": {},
     "output_type": "execute_result"
    }
   ],
   "source": [
    "\n",
    "new_pd[0:4]"
   ]
  },
  {
   "cell_type": "markdown",
   "metadata": {
    "colab_type": "text",
    "id": "8F_SHhfXr-jJ"
   },
   "source": [
    "## 8. Changing Types\n",
    "\n",
    "---\n",
    "\n",
    "### A) Convert your data into a dictionary.\n",
    "\n",
    "Your `dict` should...\n",
    "* have `keys` of the new `pokedex` as the `PokedexNumber`\n",
    "* have `values` containing data for each pokemon in a dictionary form, just like our `pokedex` from before\n",
    "  * Keep in mind, the `keys` here are a little bit different than the original `pokedex`.\n",
    "  * Be careful of the header, you do not want to include that as a pokemon.\n",
    "* **WARNING:** Don't display your entire `pokedex` when turning this in! Viewing that many entries will clog up your notebook and make it difficult to read. If youd like to visualize your `pokedex`, index with a few of its `keys`.\n",
    "\n",
    "Your `new_pd_dict` should be organized like...\n",
    "\n",
    "```python\n",
    "{1.0: {'Attack': 49.0,\n",
    "  'Defense': 49.0,\n",
    "  'HP': 45.0,\n",
    "  'Name': 'Bulbasaur',\n",
    "  'PokedexNumber': 1.0,\n",
    "  'SpecialAttack': 65.0,\n",
    "  'SpecialDefense': 65.0,\n",
    "  'Speed': 45.0,\n",
    "  'Total': 318.0,\n",
    "  'Type': 'GrassPoison'},\n",
    " 2.0: {'Attack': 62.0,\n",
    "  'Defense': 63.0,\n",
    "  'HP': 60.0,\n",
    "  'Name': 'Ivysaur',\n",
    "```"
   ]
  },
  {
   "cell_type": "code",
   "execution_count": 32,
   "metadata": {
    "colab": {},
    "colab_type": "code",
    "id": "ronjhqc0r-jL"
   },
   "outputs": [
    {
     "data": {
      "text/plain": [
       "{'Attack': 104.0,\n",
       " 'Defense': 78.0,\n",
       " 'HP': 78.0,\n",
       " 'Name': 'CharizardMega Charizard Y',\n",
       " 'PokedexNumber': 6.0,\n",
       " 'SpecialAttack': 159.0,\n",
       " 'SpecialDefense': 115.0,\n",
       " 'Speed': 100.0,\n",
       " 'Total': 634.0,\n",
       " 'Type': 'FireFlying'}"
      ]
     },
     "execution_count": 32,
     "metadata": {},
     "output_type": "execute_result"
    }
   ],
   "source": [
    "new_pd_dict = {}\n",
    "\n",
    "a = [x[0] for x in new_pd] #creates a list with pokemon ids,  to be used as index of new_pd_dict\n",
    "\n",
    "for x in range(1, len(a)): #goes through new_pd and pairs to manual value set in new_pd_dict\n",
    "    new_pd_dict[a[x]] ={\n",
    "    'Attack': new_pd[x][5],\n",
    "  'Defense': new_pd[x][6],\n",
    "  'HP': new_pd[x][4],\n",
    "  'Name': new_pd[x][1],\n",
    "  'PokedexNumber': new_pd[x][0],\n",
    "  'SpecialAttack': new_pd[x][7],\n",
    "  'SpecialDefense': new_pd[x][8],\n",
    "  'Speed': new_pd[x][9],\n",
    "  'Total': new_pd[x][3],\n",
    "  'Type': new_pd[x][2]}\n",
    "\n",
    "\n",
    "new_pd_dict[6]\n"
   ]
  },
  {
   "cell_type": "markdown",
   "metadata": {
    "colab_type": "text",
    "id": "GcwAYQfTr-jN"
   },
   "source": [
    "Your new pokedex is oriented by index, meaning that each entry is a row value (the `PokedexNumber` we set at the key would become the index for the row, all the keys for a given Pokemon would become the column headers, and their values would be the row values for that Pokemon). If you've set this up correctly (including naming your dict **`new_pd_dict`**), the following code should display the top 10 lines of your Pokedex formatted in a Pandas DataFrame."
   ]
  },
  {
   "cell_type": "code",
   "execution_count": 33,
   "metadata": {
    "colab": {},
    "colab_type": "code",
    "id": "IWKoic2Er-jN"
   },
   "outputs": [
    {
     "data": {
      "text/html": [
       "<div>\n",
       "<style scoped>\n",
       "    .dataframe tbody tr th:only-of-type {\n",
       "        vertical-align: middle;\n",
       "    }\n",
       "\n",
       "    .dataframe tbody tr th {\n",
       "        vertical-align: top;\n",
       "    }\n",
       "\n",
       "    .dataframe thead th {\n",
       "        text-align: right;\n",
       "    }\n",
       "</style>\n",
       "<table border=\"1\" class=\"dataframe\">\n",
       "  <thead>\n",
       "    <tr style=\"text-align: right;\">\n",
       "      <th></th>\n",
       "      <th>Attack</th>\n",
       "      <th>Defense</th>\n",
       "      <th>HP</th>\n",
       "      <th>Name</th>\n",
       "      <th>PokedexNumber</th>\n",
       "      <th>SpecialAttack</th>\n",
       "      <th>SpecialDefense</th>\n",
       "      <th>Speed</th>\n",
       "      <th>Total</th>\n",
       "      <th>Type</th>\n",
       "    </tr>\n",
       "  </thead>\n",
       "  <tbody>\n",
       "    <tr>\n",
       "      <th>1.0</th>\n",
       "      <td>49</td>\n",
       "      <td>49</td>\n",
       "      <td>45</td>\n",
       "      <td>Bulbasaur</td>\n",
       "      <td>1</td>\n",
       "      <td>65</td>\n",
       "      <td>65</td>\n",
       "      <td>45</td>\n",
       "      <td>318</td>\n",
       "      <td>GrassPoison</td>\n",
       "    </tr>\n",
       "    <tr>\n",
       "      <th>2.0</th>\n",
       "      <td>62</td>\n",
       "      <td>63</td>\n",
       "      <td>60</td>\n",
       "      <td>Ivysaur</td>\n",
       "      <td>2</td>\n",
       "      <td>80</td>\n",
       "      <td>80</td>\n",
       "      <td>60</td>\n",
       "      <td>405</td>\n",
       "      <td>GrassPoison</td>\n",
       "    </tr>\n",
       "    <tr>\n",
       "      <th>3.0</th>\n",
       "      <td>100</td>\n",
       "      <td>123</td>\n",
       "      <td>80</td>\n",
       "      <td>VenusaurMega Venusaur</td>\n",
       "      <td>3</td>\n",
       "      <td>122</td>\n",
       "      <td>120</td>\n",
       "      <td>80</td>\n",
       "      <td>625</td>\n",
       "      <td>GrassPoison</td>\n",
       "    </tr>\n",
       "    <tr>\n",
       "      <th>4.0</th>\n",
       "      <td>52</td>\n",
       "      <td>43</td>\n",
       "      <td>39</td>\n",
       "      <td>Charmander</td>\n",
       "      <td>4</td>\n",
       "      <td>60</td>\n",
       "      <td>50</td>\n",
       "      <td>65</td>\n",
       "      <td>309</td>\n",
       "      <td>Fire</td>\n",
       "    </tr>\n",
       "    <tr>\n",
       "      <th>5.0</th>\n",
       "      <td>64</td>\n",
       "      <td>58</td>\n",
       "      <td>58</td>\n",
       "      <td>Charmeleon</td>\n",
       "      <td>5</td>\n",
       "      <td>80</td>\n",
       "      <td>65</td>\n",
       "      <td>80</td>\n",
       "      <td>405</td>\n",
       "      <td>Fire</td>\n",
       "    </tr>\n",
       "    <tr>\n",
       "      <th>6.0</th>\n",
       "      <td>104</td>\n",
       "      <td>78</td>\n",
       "      <td>78</td>\n",
       "      <td>CharizardMega Charizard Y</td>\n",
       "      <td>6</td>\n",
       "      <td>159</td>\n",
       "      <td>115</td>\n",
       "      <td>100</td>\n",
       "      <td>634</td>\n",
       "      <td>FireFlying</td>\n",
       "    </tr>\n",
       "    <tr>\n",
       "      <th>7.0</th>\n",
       "      <td>48</td>\n",
       "      <td>65</td>\n",
       "      <td>44</td>\n",
       "      <td>Squirtle</td>\n",
       "      <td>7</td>\n",
       "      <td>50</td>\n",
       "      <td>64</td>\n",
       "      <td>43</td>\n",
       "      <td>314</td>\n",
       "      <td>Water</td>\n",
       "    </tr>\n",
       "    <tr>\n",
       "      <th>8.0</th>\n",
       "      <td>63</td>\n",
       "      <td>80</td>\n",
       "      <td>59</td>\n",
       "      <td>Wartortle</td>\n",
       "      <td>8</td>\n",
       "      <td>65</td>\n",
       "      <td>80</td>\n",
       "      <td>58</td>\n",
       "      <td>405</td>\n",
       "      <td>Water</td>\n",
       "    </tr>\n",
       "    <tr>\n",
       "      <th>9.0</th>\n",
       "      <td>103</td>\n",
       "      <td>120</td>\n",
       "      <td>79</td>\n",
       "      <td>BlastoiseMega Blastoise</td>\n",
       "      <td>9</td>\n",
       "      <td>135</td>\n",
       "      <td>115</td>\n",
       "      <td>78</td>\n",
       "      <td>630</td>\n",
       "      <td>Water</td>\n",
       "    </tr>\n",
       "    <tr>\n",
       "      <th>10.0</th>\n",
       "      <td>30</td>\n",
       "      <td>35</td>\n",
       "      <td>45</td>\n",
       "      <td>Caterpie</td>\n",
       "      <td>10</td>\n",
       "      <td>20</td>\n",
       "      <td>20</td>\n",
       "      <td>45</td>\n",
       "      <td>195</td>\n",
       "      <td>Bug</td>\n",
       "    </tr>\n",
       "  </tbody>\n",
       "</table>\n",
       "</div>"
      ],
      "text/plain": [
       "     Attack Defense  HP                       Name PokedexNumber  \\\n",
       "1.0      49      49  45                  Bulbasaur             1   \n",
       "2.0      62      63  60                    Ivysaur             2   \n",
       "3.0     100     123  80      VenusaurMega Venusaur             3   \n",
       "4.0      52      43  39                 Charmander             4   \n",
       "5.0      64      58  58                 Charmeleon             5   \n",
       "6.0     104      78  78  CharizardMega Charizard Y             6   \n",
       "7.0      48      65  44                   Squirtle             7   \n",
       "8.0      63      80  59                  Wartortle             8   \n",
       "9.0     103     120  79    BlastoiseMega Blastoise             9   \n",
       "10.0     30      35  45                   Caterpie            10   \n",
       "\n",
       "     SpecialAttack SpecialDefense Speed Total         Type  \n",
       "1.0             65             65    45   318  GrassPoison  \n",
       "2.0             80             80    60   405  GrassPoison  \n",
       "3.0            122            120    80   625  GrassPoison  \n",
       "4.0             60             50    65   309         Fire  \n",
       "5.0             80             65    80   405         Fire  \n",
       "6.0            159            115   100   634   FireFlying  \n",
       "7.0             50             64    43   314        Water  \n",
       "8.0             65             80    58   405        Water  \n",
       "9.0            135            115    78   630        Water  \n",
       "10.0            20             20    45   195          Bug  "
      ]
     },
     "execution_count": 33,
     "metadata": {},
     "output_type": "execute_result"
    }
   ],
   "source": [
    "\n",
    "import pandas as pd\n",
    "pd.DataFrame(new_pd_dict).T.head(10)\n"
   ]
  },
  {
   "cell_type": "markdown",
   "metadata": {
    "colab_type": "text",
    "id": "UsHK4R6ur-jQ"
   },
   "source": [
    "### (OPTIONAL) B) Orient your `new_pd_dict` by columns.\n",
    "\n",
    "Your goal in this exercise is to orient the pokedex dict by columns, meaning:\n",
    "\n",
    "* The keys of the dictionary are the column names\n",
    "* The values of the dictionary are a **column vector** (this can be a list or a tuple) of that feature.\n",
    "* **BONUS:** Do this with list and/or dictionary comprehensions only\n",
    "\n",
    "You may find it's easier to work from your `new_pd` list of lists rather than your `new_pd_dict`."
   ]
  },
  {
   "cell_type": "code",
   "execution_count": 34,
   "metadata": {
    "colab": {},
    "colab_type": "code",
    "id": "2_DB6xa_r-jQ"
   },
   "outputs": [
    {
     "data": {
      "text/html": [
       "<div>\n",
       "<style scoped>\n",
       "    .dataframe tbody tr th:only-of-type {\n",
       "        vertical-align: middle;\n",
       "    }\n",
       "\n",
       "    .dataframe tbody tr th {\n",
       "        vertical-align: top;\n",
       "    }\n",
       "\n",
       "    .dataframe thead th {\n",
       "        text-align: right;\n",
       "    }\n",
       "</style>\n",
       "<table border=\"1\" class=\"dataframe\">\n",
       "  <thead>\n",
       "    <tr style=\"text-align: right;\">\n",
       "      <th></th>\n",
       "      <th>1.0</th>\n",
       "      <th>2.0</th>\n",
       "      <th>3.0</th>\n",
       "      <th>4.0</th>\n",
       "      <th>5.0</th>\n",
       "      <th>6.0</th>\n",
       "      <th>7.0</th>\n",
       "      <th>8.0</th>\n",
       "      <th>9.0</th>\n",
       "      <th>10.0</th>\n",
       "      <th>...</th>\n",
       "      <th>712.0</th>\n",
       "      <th>713.0</th>\n",
       "      <th>714.0</th>\n",
       "      <th>715.0</th>\n",
       "      <th>716.0</th>\n",
       "      <th>717.0</th>\n",
       "      <th>718.0</th>\n",
       "      <th>719.0</th>\n",
       "      <th>720.0</th>\n",
       "      <th>721.0</th>\n",
       "    </tr>\n",
       "  </thead>\n",
       "  <tbody>\n",
       "    <tr>\n",
       "      <th>Attack</th>\n",
       "      <td>49</td>\n",
       "      <td>62</td>\n",
       "      <td>100</td>\n",
       "      <td>52</td>\n",
       "      <td>64</td>\n",
       "      <td>104</td>\n",
       "      <td>48</td>\n",
       "      <td>63</td>\n",
       "      <td>103</td>\n",
       "      <td>30</td>\n",
       "      <td>...</td>\n",
       "      <td>69</td>\n",
       "      <td>117</td>\n",
       "      <td>30</td>\n",
       "      <td>70</td>\n",
       "      <td>131</td>\n",
       "      <td>131</td>\n",
       "      <td>100</td>\n",
       "      <td>160</td>\n",
       "      <td>160</td>\n",
       "      <td>110</td>\n",
       "    </tr>\n",
       "    <tr>\n",
       "      <th>Defense</th>\n",
       "      <td>49</td>\n",
       "      <td>63</td>\n",
       "      <td>123</td>\n",
       "      <td>43</td>\n",
       "      <td>58</td>\n",
       "      <td>78</td>\n",
       "      <td>65</td>\n",
       "      <td>80</td>\n",
       "      <td>120</td>\n",
       "      <td>35</td>\n",
       "      <td>...</td>\n",
       "      <td>85</td>\n",
       "      <td>184</td>\n",
       "      <td>35</td>\n",
       "      <td>80</td>\n",
       "      <td>95</td>\n",
       "      <td>95</td>\n",
       "      <td>121</td>\n",
       "      <td>110</td>\n",
       "      <td>60</td>\n",
       "      <td>120</td>\n",
       "    </tr>\n",
       "    <tr>\n",
       "      <th>HP</th>\n",
       "      <td>45</td>\n",
       "      <td>60</td>\n",
       "      <td>80</td>\n",
       "      <td>39</td>\n",
       "      <td>58</td>\n",
       "      <td>78</td>\n",
       "      <td>44</td>\n",
       "      <td>59</td>\n",
       "      <td>79</td>\n",
       "      <td>45</td>\n",
       "      <td>...</td>\n",
       "      <td>55</td>\n",
       "      <td>95</td>\n",
       "      <td>40</td>\n",
       "      <td>85</td>\n",
       "      <td>126</td>\n",
       "      <td>126</td>\n",
       "      <td>108</td>\n",
       "      <td>50</td>\n",
       "      <td>80</td>\n",
       "      <td>80</td>\n",
       "    </tr>\n",
       "    <tr>\n",
       "      <th>Name</th>\n",
       "      <td>Bulbasaur</td>\n",
       "      <td>Ivysaur</td>\n",
       "      <td>VenusaurMega Venusaur</td>\n",
       "      <td>Charmander</td>\n",
       "      <td>Charmeleon</td>\n",
       "      <td>CharizardMega Charizard Y</td>\n",
       "      <td>Squirtle</td>\n",
       "      <td>Wartortle</td>\n",
       "      <td>BlastoiseMega Blastoise</td>\n",
       "      <td>Caterpie</td>\n",
       "      <td>...</td>\n",
       "      <td>Bergmite</td>\n",
       "      <td>Avalugg</td>\n",
       "      <td>Noibat</td>\n",
       "      <td>Noivern</td>\n",
       "      <td>Xerneas</td>\n",
       "      <td>Yveltal</td>\n",
       "      <td>Zygarde Forme</td>\n",
       "      <td>DiancieMega Diancie</td>\n",
       "      <td>HoopaHoopa Unbound</td>\n",
       "      <td>Volcanion</td>\n",
       "    </tr>\n",
       "    <tr>\n",
       "      <th>PokedexNumber</th>\n",
       "      <td>1</td>\n",
       "      <td>2</td>\n",
       "      <td>3</td>\n",
       "      <td>4</td>\n",
       "      <td>5</td>\n",
       "      <td>6</td>\n",
       "      <td>7</td>\n",
       "      <td>8</td>\n",
       "      <td>9</td>\n",
       "      <td>10</td>\n",
       "      <td>...</td>\n",
       "      <td>712</td>\n",
       "      <td>713</td>\n",
       "      <td>714</td>\n",
       "      <td>715</td>\n",
       "      <td>716</td>\n",
       "      <td>717</td>\n",
       "      <td>718</td>\n",
       "      <td>719</td>\n",
       "      <td>720</td>\n",
       "      <td>721</td>\n",
       "    </tr>\n",
       "    <tr>\n",
       "      <th>SpecialAttack</th>\n",
       "      <td>65</td>\n",
       "      <td>80</td>\n",
       "      <td>122</td>\n",
       "      <td>60</td>\n",
       "      <td>80</td>\n",
       "      <td>159</td>\n",
       "      <td>50</td>\n",
       "      <td>65</td>\n",
       "      <td>135</td>\n",
       "      <td>20</td>\n",
       "      <td>...</td>\n",
       "      <td>32</td>\n",
       "      <td>44</td>\n",
       "      <td>45</td>\n",
       "      <td>97</td>\n",
       "      <td>131</td>\n",
       "      <td>131</td>\n",
       "      <td>81</td>\n",
       "      <td>160</td>\n",
       "      <td>170</td>\n",
       "      <td>130</td>\n",
       "    </tr>\n",
       "    <tr>\n",
       "      <th>SpecialDefense</th>\n",
       "      <td>65</td>\n",
       "      <td>80</td>\n",
       "      <td>120</td>\n",
       "      <td>50</td>\n",
       "      <td>65</td>\n",
       "      <td>115</td>\n",
       "      <td>64</td>\n",
       "      <td>80</td>\n",
       "      <td>115</td>\n",
       "      <td>20</td>\n",
       "      <td>...</td>\n",
       "      <td>35</td>\n",
       "      <td>46</td>\n",
       "      <td>40</td>\n",
       "      <td>80</td>\n",
       "      <td>98</td>\n",
       "      <td>98</td>\n",
       "      <td>95</td>\n",
       "      <td>110</td>\n",
       "      <td>130</td>\n",
       "      <td>90</td>\n",
       "    </tr>\n",
       "    <tr>\n",
       "      <th>Speed</th>\n",
       "      <td>45</td>\n",
       "      <td>60</td>\n",
       "      <td>80</td>\n",
       "      <td>65</td>\n",
       "      <td>80</td>\n",
       "      <td>100</td>\n",
       "      <td>43</td>\n",
       "      <td>58</td>\n",
       "      <td>78</td>\n",
       "      <td>45</td>\n",
       "      <td>...</td>\n",
       "      <td>28</td>\n",
       "      <td>28</td>\n",
       "      <td>55</td>\n",
       "      <td>123</td>\n",
       "      <td>99</td>\n",
       "      <td>99</td>\n",
       "      <td>95</td>\n",
       "      <td>110</td>\n",
       "      <td>80</td>\n",
       "      <td>70</td>\n",
       "    </tr>\n",
       "    <tr>\n",
       "      <th>Total</th>\n",
       "      <td>318</td>\n",
       "      <td>405</td>\n",
       "      <td>625</td>\n",
       "      <td>309</td>\n",
       "      <td>405</td>\n",
       "      <td>634</td>\n",
       "      <td>314</td>\n",
       "      <td>405</td>\n",
       "      <td>630</td>\n",
       "      <td>195</td>\n",
       "      <td>...</td>\n",
       "      <td>304</td>\n",
       "      <td>514</td>\n",
       "      <td>245</td>\n",
       "      <td>535</td>\n",
       "      <td>680</td>\n",
       "      <td>680</td>\n",
       "      <td>600</td>\n",
       "      <td>700</td>\n",
       "      <td>680</td>\n",
       "      <td>600</td>\n",
       "    </tr>\n",
       "    <tr>\n",
       "      <th>Type</th>\n",
       "      <td>GrassPoison</td>\n",
       "      <td>GrassPoison</td>\n",
       "      <td>GrassPoison</td>\n",
       "      <td>Fire</td>\n",
       "      <td>Fire</td>\n",
       "      <td>FireFlying</td>\n",
       "      <td>Water</td>\n",
       "      <td>Water</td>\n",
       "      <td>Water</td>\n",
       "      <td>Bug</td>\n",
       "      <td>...</td>\n",
       "      <td>Ice</td>\n",
       "      <td>Ice</td>\n",
       "      <td>FlyingDragon</td>\n",
       "      <td>FlyingDragon</td>\n",
       "      <td>Fairy</td>\n",
       "      <td>DarkFlying</td>\n",
       "      <td>DragonGround</td>\n",
       "      <td>RockFairy</td>\n",
       "      <td>PsychicDark</td>\n",
       "      <td>FireWater</td>\n",
       "    </tr>\n",
       "  </tbody>\n",
       "</table>\n",
       "<p>10 rows × 721 columns</p>\n",
       "</div>"
      ],
      "text/plain": [
       "                      1.0          2.0                    3.0         4.0    \\\n",
       "Attack                   49           62                    100          52   \n",
       "Defense                  49           63                    123          43   \n",
       "HP                       45           60                     80          39   \n",
       "Name              Bulbasaur      Ivysaur  VenusaurMega Venusaur  Charmander   \n",
       "PokedexNumber             1            2                      3           4   \n",
       "SpecialAttack            65           80                    122          60   \n",
       "SpecialDefense           65           80                    120          50   \n",
       "Speed                    45           60                     80          65   \n",
       "Total                   318          405                    625         309   \n",
       "Type            GrassPoison  GrassPoison            GrassPoison        Fire   \n",
       "\n",
       "                     5.0                        6.0       7.0        8.0    \\\n",
       "Attack                  64                        104        48         63   \n",
       "Defense                 58                         78        65         80   \n",
       "HP                      58                         78        44         59   \n",
       "Name            Charmeleon  CharizardMega Charizard Y  Squirtle  Wartortle   \n",
       "PokedexNumber            5                          6         7          8   \n",
       "SpecialAttack           80                        159        50         65   \n",
       "SpecialDefense          65                        115        64         80   \n",
       "Speed                   80                        100        43         58   \n",
       "Total                  405                        634       314        405   \n",
       "Type                  Fire                 FireFlying     Water      Water   \n",
       "\n",
       "                                  9.0       10.0     ...         712.0  \\\n",
       "Attack                              103        30    ...            69   \n",
       "Defense                             120        35    ...            85   \n",
       "HP                                   79        45    ...            55   \n",
       "Name            BlastoiseMega Blastoise  Caterpie    ...      Bergmite   \n",
       "PokedexNumber                         9        10    ...           712   \n",
       "SpecialAttack                       135        20    ...            32   \n",
       "SpecialDefense                      115        20    ...            35   \n",
       "Speed                                78        45    ...            28   \n",
       "Total                               630       195    ...           304   \n",
       "Type                              Water       Bug    ...           Ice   \n",
       "\n",
       "                  713.0         714.0         715.0    716.0       717.0  \\\n",
       "Attack              117            30            70      131         131   \n",
       "Defense             184            35            80       95          95   \n",
       "HP                   95            40            85      126         126   \n",
       "Name            Avalugg        Noibat       Noivern  Xerneas     Yveltal   \n",
       "PokedexNumber       713           714           715      716         717   \n",
       "SpecialAttack        44            45            97      131         131   \n",
       "SpecialDefense       46            40            80       98          98   \n",
       "Speed                28            55           123       99          99   \n",
       "Total               514           245           535      680         680   \n",
       "Type                Ice  FlyingDragon  FlyingDragon    Fairy  DarkFlying   \n",
       "\n",
       "                        718.0                719.0               720.0  \\\n",
       "Attack                    100                  160                 160   \n",
       "Defense                   121                  110                  60   \n",
       "HP                        108                   50                  80   \n",
       "Name            Zygarde Forme  DiancieMega Diancie  HoopaHoopa Unbound   \n",
       "PokedexNumber             718                  719                 720   \n",
       "SpecialAttack              81                  160                 170   \n",
       "SpecialDefense             95                  110                 130   \n",
       "Speed                      95                  110                  80   \n",
       "Total                     600                  700                 680   \n",
       "Type             DragonGround            RockFairy         PsychicDark   \n",
       "\n",
       "                    721.0  \n",
       "Attack                110  \n",
       "Defense               120  \n",
       "HP                     80  \n",
       "Name            Volcanion  \n",
       "PokedexNumber         721  \n",
       "SpecialAttack         130  \n",
       "SpecialDefense         90  \n",
       "Speed                  70  \n",
       "Total                 600  \n",
       "Type            FireWater  \n",
       "\n",
       "[10 rows x 721 columns]"
      ]
     },
     "execution_count": 34,
     "metadata": {},
     "output_type": "execute_result"
    }
   ],
   "source": [
    "# Removed T method from pd.dataframe which transposes it.\n",
    "pd.DataFrame(new_pd_dict).head(10) \n"
   ]
  },
  {
   "cell_type": "code",
   "execution_count": 35,
   "metadata": {
    "collapsed": false,
    "inputHidden": false,
    "outputHidden": false
   },
   "outputs": [],
   "source": [
    "#option 2\n",
    "\n",
    "newpd = {}\n",
    "\n",
    "for g in range(0, 10):\n",
    "    newpd[new_pd[0][g]] = [new_pd[x][g] for x in range(1, 801)]\n",
    "\n",
    "# creates a dictionary list where the name (ie. 'Attack') \n",
    "# Please note taht the pokedex number is != to the index. The pokedex number has multiple values. ie. there are 3 pokemon with number of 6"
   ]
  },
  {
   "cell_type": "code",
   "execution_count": 36,
   "metadata": {
    "collapsed": false,
    "inputHidden": false,
    "outputHidden": false
   },
   "outputs": [
    {
     "data": {
      "text/html": [
       "<div>\n",
       "<style scoped>\n",
       "    .dataframe tbody tr th:only-of-type {\n",
       "        vertical-align: middle;\n",
       "    }\n",
       "\n",
       "    .dataframe tbody tr th {\n",
       "        vertical-align: top;\n",
       "    }\n",
       "\n",
       "    .dataframe thead th {\n",
       "        text-align: right;\n",
       "    }\n",
       "</style>\n",
       "<table border=\"1\" class=\"dataframe\">\n",
       "  <thead>\n",
       "    <tr style=\"text-align: right;\">\n",
       "      <th></th>\n",
       "      <th>0</th>\n",
       "      <th>1</th>\n",
       "      <th>2</th>\n",
       "      <th>3</th>\n",
       "      <th>4</th>\n",
       "      <th>5</th>\n",
       "      <th>6</th>\n",
       "      <th>7</th>\n",
       "      <th>8</th>\n",
       "      <th>9</th>\n",
       "      <th>...</th>\n",
       "      <th>790</th>\n",
       "      <th>791</th>\n",
       "      <th>792</th>\n",
       "      <th>793</th>\n",
       "      <th>794</th>\n",
       "      <th>795</th>\n",
       "      <th>796</th>\n",
       "      <th>797</th>\n",
       "      <th>798</th>\n",
       "      <th>799</th>\n",
       "    </tr>\n",
       "  </thead>\n",
       "  <tbody>\n",
       "    <tr>\n",
       "      <th>PokedexNumber</th>\n",
       "      <td>1</td>\n",
       "      <td>2</td>\n",
       "      <td>3</td>\n",
       "      <td>3</td>\n",
       "      <td>4</td>\n",
       "      <td>5</td>\n",
       "      <td>6</td>\n",
       "      <td>6</td>\n",
       "      <td>6</td>\n",
       "      <td>7</td>\n",
       "      <td>...</td>\n",
       "      <td>714</td>\n",
       "      <td>715</td>\n",
       "      <td>716</td>\n",
       "      <td>717</td>\n",
       "      <td>718</td>\n",
       "      <td>719</td>\n",
       "      <td>719</td>\n",
       "      <td>720</td>\n",
       "      <td>720</td>\n",
       "      <td>721</td>\n",
       "    </tr>\n",
       "    <tr>\n",
       "      <th>Name</th>\n",
       "      <td>Bulbasaur</td>\n",
       "      <td>Ivysaur</td>\n",
       "      <td>Venusaur</td>\n",
       "      <td>VenusaurMega Venusaur</td>\n",
       "      <td>Charmander</td>\n",
       "      <td>Charmeleon</td>\n",
       "      <td>Charizard</td>\n",
       "      <td>CharizardMega Charizard X</td>\n",
       "      <td>CharizardMega Charizard Y</td>\n",
       "      <td>Squirtle</td>\n",
       "      <td>...</td>\n",
       "      <td>Noibat</td>\n",
       "      <td>Noivern</td>\n",
       "      <td>Xerneas</td>\n",
       "      <td>Yveltal</td>\n",
       "      <td>Zygarde Forme</td>\n",
       "      <td>Diancie</td>\n",
       "      <td>DiancieMega Diancie</td>\n",
       "      <td>HoopaHoopa Confined</td>\n",
       "      <td>HoopaHoopa Unbound</td>\n",
       "      <td>Volcanion</td>\n",
       "    </tr>\n",
       "    <tr>\n",
       "      <th>Type</th>\n",
       "      <td>GrassPoison</td>\n",
       "      <td>GrassPoison</td>\n",
       "      <td>GrassPoison</td>\n",
       "      <td>GrassPoison</td>\n",
       "      <td>Fire</td>\n",
       "      <td>Fire</td>\n",
       "      <td>FireFlying</td>\n",
       "      <td>FireDragon</td>\n",
       "      <td>FireFlying</td>\n",
       "      <td>Water</td>\n",
       "      <td>...</td>\n",
       "      <td>FlyingDragon</td>\n",
       "      <td>FlyingDragon</td>\n",
       "      <td>Fairy</td>\n",
       "      <td>DarkFlying</td>\n",
       "      <td>DragonGround</td>\n",
       "      <td>RockFairy</td>\n",
       "      <td>RockFairy</td>\n",
       "      <td>PsychicGhost</td>\n",
       "      <td>PsychicDark</td>\n",
       "      <td>FireWater</td>\n",
       "    </tr>\n",
       "    <tr>\n",
       "      <th>Total</th>\n",
       "      <td>318</td>\n",
       "      <td>405</td>\n",
       "      <td>525</td>\n",
       "      <td>625</td>\n",
       "      <td>309</td>\n",
       "      <td>405</td>\n",
       "      <td>534</td>\n",
       "      <td>634</td>\n",
       "      <td>634</td>\n",
       "      <td>314</td>\n",
       "      <td>...</td>\n",
       "      <td>245</td>\n",
       "      <td>535</td>\n",
       "      <td>680</td>\n",
       "      <td>680</td>\n",
       "      <td>600</td>\n",
       "      <td>600</td>\n",
       "      <td>700</td>\n",
       "      <td>600</td>\n",
       "      <td>680</td>\n",
       "      <td>600</td>\n",
       "    </tr>\n",
       "    <tr>\n",
       "      <th>HP</th>\n",
       "      <td>45</td>\n",
       "      <td>60</td>\n",
       "      <td>80</td>\n",
       "      <td>80</td>\n",
       "      <td>39</td>\n",
       "      <td>58</td>\n",
       "      <td>78</td>\n",
       "      <td>78</td>\n",
       "      <td>78</td>\n",
       "      <td>44</td>\n",
       "      <td>...</td>\n",
       "      <td>40</td>\n",
       "      <td>85</td>\n",
       "      <td>126</td>\n",
       "      <td>126</td>\n",
       "      <td>108</td>\n",
       "      <td>50</td>\n",
       "      <td>50</td>\n",
       "      <td>80</td>\n",
       "      <td>80</td>\n",
       "      <td>80</td>\n",
       "    </tr>\n",
       "    <tr>\n",
       "      <th>Attack</th>\n",
       "      <td>49</td>\n",
       "      <td>62</td>\n",
       "      <td>82</td>\n",
       "      <td>100</td>\n",
       "      <td>52</td>\n",
       "      <td>64</td>\n",
       "      <td>84</td>\n",
       "      <td>130</td>\n",
       "      <td>104</td>\n",
       "      <td>48</td>\n",
       "      <td>...</td>\n",
       "      <td>30</td>\n",
       "      <td>70</td>\n",
       "      <td>131</td>\n",
       "      <td>131</td>\n",
       "      <td>100</td>\n",
       "      <td>100</td>\n",
       "      <td>160</td>\n",
       "      <td>110</td>\n",
       "      <td>160</td>\n",
       "      <td>110</td>\n",
       "    </tr>\n",
       "    <tr>\n",
       "      <th>Defense</th>\n",
       "      <td>49</td>\n",
       "      <td>63</td>\n",
       "      <td>83</td>\n",
       "      <td>123</td>\n",
       "      <td>43</td>\n",
       "      <td>58</td>\n",
       "      <td>78</td>\n",
       "      <td>111</td>\n",
       "      <td>78</td>\n",
       "      <td>65</td>\n",
       "      <td>...</td>\n",
       "      <td>35</td>\n",
       "      <td>80</td>\n",
       "      <td>95</td>\n",
       "      <td>95</td>\n",
       "      <td>121</td>\n",
       "      <td>150</td>\n",
       "      <td>110</td>\n",
       "      <td>60</td>\n",
       "      <td>60</td>\n",
       "      <td>120</td>\n",
       "    </tr>\n",
       "    <tr>\n",
       "      <th>SpecialAttack</th>\n",
       "      <td>65</td>\n",
       "      <td>80</td>\n",
       "      <td>100</td>\n",
       "      <td>122</td>\n",
       "      <td>60</td>\n",
       "      <td>80</td>\n",
       "      <td>109</td>\n",
       "      <td>130</td>\n",
       "      <td>159</td>\n",
       "      <td>50</td>\n",
       "      <td>...</td>\n",
       "      <td>45</td>\n",
       "      <td>97</td>\n",
       "      <td>131</td>\n",
       "      <td>131</td>\n",
       "      <td>81</td>\n",
       "      <td>100</td>\n",
       "      <td>160</td>\n",
       "      <td>150</td>\n",
       "      <td>170</td>\n",
       "      <td>130</td>\n",
       "    </tr>\n",
       "    <tr>\n",
       "      <th>SpecialDefense</th>\n",
       "      <td>65</td>\n",
       "      <td>80</td>\n",
       "      <td>100</td>\n",
       "      <td>120</td>\n",
       "      <td>50</td>\n",
       "      <td>65</td>\n",
       "      <td>85</td>\n",
       "      <td>85</td>\n",
       "      <td>115</td>\n",
       "      <td>64</td>\n",
       "      <td>...</td>\n",
       "      <td>40</td>\n",
       "      <td>80</td>\n",
       "      <td>98</td>\n",
       "      <td>98</td>\n",
       "      <td>95</td>\n",
       "      <td>150</td>\n",
       "      <td>110</td>\n",
       "      <td>130</td>\n",
       "      <td>130</td>\n",
       "      <td>90</td>\n",
       "    </tr>\n",
       "    <tr>\n",
       "      <th>Speed</th>\n",
       "      <td>45</td>\n",
       "      <td>60</td>\n",
       "      <td>80</td>\n",
       "      <td>80</td>\n",
       "      <td>65</td>\n",
       "      <td>80</td>\n",
       "      <td>100</td>\n",
       "      <td>100</td>\n",
       "      <td>100</td>\n",
       "      <td>43</td>\n",
       "      <td>...</td>\n",
       "      <td>55</td>\n",
       "      <td>123</td>\n",
       "      <td>99</td>\n",
       "      <td>99</td>\n",
       "      <td>95</td>\n",
       "      <td>50</td>\n",
       "      <td>110</td>\n",
       "      <td>70</td>\n",
       "      <td>80</td>\n",
       "      <td>70</td>\n",
       "    </tr>\n",
       "  </tbody>\n",
       "</table>\n",
       "<p>10 rows × 800 columns</p>\n",
       "</div>"
      ],
      "text/plain": [
       "                        0            1            2                      3    \\\n",
       "PokedexNumber             1            2            3                      3   \n",
       "Name              Bulbasaur      Ivysaur     Venusaur  VenusaurMega Venusaur   \n",
       "Type            GrassPoison  GrassPoison  GrassPoison            GrassPoison   \n",
       "Total                   318          405          525                    625   \n",
       "HP                       45           60           80                     80   \n",
       "Attack                   49           62           82                    100   \n",
       "Defense                  49           63           83                    123   \n",
       "SpecialAttack            65           80          100                    122   \n",
       "SpecialDefense           65           80          100                    120   \n",
       "Speed                    45           60           80                     80   \n",
       "\n",
       "                       4           5           6                          7    \\\n",
       "PokedexNumber            4           5           6                          6   \n",
       "Name            Charmander  Charmeleon   Charizard  CharizardMega Charizard X   \n",
       "Type                  Fire        Fire  FireFlying                 FireDragon   \n",
       "Total                  309         405         534                        634   \n",
       "HP                      39          58          78                         78   \n",
       "Attack                  52          64          84                        130   \n",
       "Defense                 43          58          78                        111   \n",
       "SpecialAttack           60          80         109                        130   \n",
       "SpecialDefense          50          65          85                         85   \n",
       "Speed                   65          80         100                        100   \n",
       "\n",
       "                                      8         9      ...               790  \\\n",
       "PokedexNumber                           6         7    ...               714   \n",
       "Name            CharizardMega Charizard Y  Squirtle    ...            Noibat   \n",
       "Type                           FireFlying     Water    ...      FlyingDragon   \n",
       "Total                                 634       314    ...               245   \n",
       "HP                                     78        44    ...                40   \n",
       "Attack                                104        48    ...                30   \n",
       "Defense                                78        65    ...                35   \n",
       "SpecialAttack                         159        50    ...                45   \n",
       "SpecialDefense                        115        64    ...                40   \n",
       "Speed                                 100        43    ...                55   \n",
       "\n",
       "                         791      792         793            794        795  \\\n",
       "PokedexNumber            715      716         717            718        719   \n",
       "Name                 Noivern  Xerneas     Yveltal  Zygarde Forme    Diancie   \n",
       "Type            FlyingDragon    Fairy  DarkFlying   DragonGround  RockFairy   \n",
       "Total                    535      680         680            600        600   \n",
       "HP                        85      126         126            108         50   \n",
       "Attack                    70      131         131            100        100   \n",
       "Defense                   80       95          95            121        150   \n",
       "SpecialAttack             97      131         131             81        100   \n",
       "SpecialDefense            80       98          98             95        150   \n",
       "Speed                    123       99          99             95         50   \n",
       "\n",
       "                                796                  797                 798  \\\n",
       "PokedexNumber                   719                  720                 720   \n",
       "Name            DiancieMega Diancie  HoopaHoopa Confined  HoopaHoopa Unbound   \n",
       "Type                      RockFairy         PsychicGhost         PsychicDark   \n",
       "Total                           700                  600                 680   \n",
       "HP                               50                   80                  80   \n",
       "Attack                          160                  110                 160   \n",
       "Defense                         110                   60                  60   \n",
       "SpecialAttack                   160                  150                 170   \n",
       "SpecialDefense                  110                  130                 130   \n",
       "Speed                           110                   70                  80   \n",
       "\n",
       "                      799  \n",
       "PokedexNumber         721  \n",
       "Name            Volcanion  \n",
       "Type            FireWater  \n",
       "Total                 600  \n",
       "HP                     80  \n",
       "Attack                110  \n",
       "Defense               120  \n",
       "SpecialAttack         130  \n",
       "SpecialDefense         90  \n",
       "Speed                  70  \n",
       "\n",
       "[10 rows x 800 columns]"
      ]
     },
     "execution_count": 36,
     "metadata": {},
     "output_type": "execute_result"
    }
   ],
   "source": [
    "pd.DataFrame(newpd).T.head(10)"
   ]
  },
  {
   "cell_type": "markdown",
   "metadata": {
    "colab_type": "text",
    "id": "HMH5T-asr-jS"
   },
   "source": [
    "You can pass this data through to a pandas DataFrame as well, using the example code below:\n",
    "\n",
    "```pd.DataFrame(your_dict_name).head(10)```"
   ]
  },
  {
   "cell_type": "markdown",
   "metadata": {
    "colab_type": "text",
    "id": "fHalDQN_r-jT"
   },
   "source": [
    "{'Attack': 30.0,\n",
    "  'Defense': 50.0,\n",
    "  'HP': 40.0,\n",
    "  'Name': 'Voltorb',\n",
    "  'SpecialAttack': 55.0,\n",
    "  'SpecialDefense': 55.0,\n",
    "  'Speed': 100.0,\n",
    "  'Total': 330.0,\n",
    "  'Type': 'Electric'},## (OPTIONAL) 9. Write a function to filter your pokedex!\n",
    "---\n",
    "\n",
    "Your goal in this exercise is to search your pokedex based on your own defined criteria! Build a function that...\n",
    "\n",
    "* Takes arguments of: \n",
    "  * a pokedex dict (can be either the row or column oriented dict, pick the one of your choice!)\n",
    "  * a `filter_options` dict (described below)\n",
    "* For parameters in your `filter_options` dict, your function should return:\n",
    "  * pokemon that are >= (greater than or equal to) the value you passed in your `filter_options` for that field for continuous values\n",
    "  * pokemon of that name or type for string values (equal)\n",
    "* Return a list of the individual pokemon dictionaries that meet your search criteia!\n",
    "\n",
    "Example:\n",
    "\n",
    "```python\n",
    "\n",
    "# Only filter based on parameters passed\n",
    "filter_options = {\n",
    "    'Attack':   25,\n",
    "    'Defense':  30,\n",
    "    'Type':     'Electric'\n",
    "}\n",
    "\n",
    "# Return records with attack >= 24, defense >= 30, and type == \"Electric\"\n",
    "# Also anticipate that other paramters can also be passed such as \"SpecialAttack\", \"Speed\", etc.\n",
    "filtered_pokedex(pokedex_data, filter_options)\n",
    "\n",
    "# Example output:\n",
    "[{'Attack': 30.0,\n",
    "  'Defense': 50.0,\n",
    "  'HP': 40.0,\n",
    "  'Name': 'Voltorb',\n",
    "  'SpecialAttack': 55.0,\n",
    "  'SpecialDefense': 55.0,\n",
    "  'Speed': 100.0,\n",
    "  'Total': 330.0,\n",
    "  'Type': 'Electric'},\n",
    "  {'Attack': 30.0,\n",
    "  'Defense': 33.0,\n",
    "  'HP': 32.0,\n",
    "  'Name': 'Pikachu',\n",
    "  'SpecialAttack': 55.0,\n",
    "  'SpecialDefense': 55.0,\n",
    "  'Speed': 100.0,\n",
    "  'Total': 330.0,\n",
    "  'Type': 'Electric'},\n",
    "  ... etc\n",
    "  ]\n",
    "\n",
    "```\n",
    "\n"
   ]
  },
  {
   "cell_type": "code",
   "execution_count": 37,
   "metadata": {
    "collapsed": false,
    "inputHidden": false,
    "outputHidden": false
   },
   "outputs": [
    {
     "data": {
      "text/plain": [
       "{'Attack': 49.0,\n",
       " 'Defense': 49.0,\n",
       " 'HP': 45.0,\n",
       " 'Name': 'Bulbasaur',\n",
       " 'PokedexNumber': 1.0,\n",
       " 'SpecialAttack': 65.0,\n",
       " 'SpecialDefense': 65.0,\n",
       " 'Speed': 45.0,\n",
       " 'Total': 318.0,\n",
       " 'Type': 'GrassPoison'}"
      ]
     },
     "execution_count": 37,
     "metadata": {},
     "output_type": "execute_result"
    }
   ],
   "source": [
    "new_pd_dict[1]"
   ]
  },
  {
   "cell_type": "code",
   "execution_count": 38,
   "metadata": {
    "collapsed": false,
    "inputHidden": false,
    "outputHidden": false
   },
   "outputs": [
    {
     "ename": "NameError",
     "evalue": "name 'filtered_pokedex' is not defined",
     "output_type": "error",
     "traceback": [
      "\u001b[1;31m---------------------------------------------------------------------------\u001b[0m",
      "\u001b[1;31mNameError\u001b[0m                                 Traceback (most recent call last)",
      "\u001b[1;32m<ipython-input-38-0a5d9da792f8>\u001b[0m in \u001b[0;36m<module>\u001b[1;34m\u001b[0m\n\u001b[0;32m     11\u001b[0m                 \u001b[1;31m#print(new_pd_dict[x])\u001b[0m\u001b[1;33m\u001b[0m\u001b[1;33m\u001b[0m\u001b[0m\n\u001b[0;32m     12\u001b[0m \u001b[1;33m\u001b[0m\u001b[0m\n\u001b[1;32m---> 13\u001b[1;33m filtered_pokedex({\n\u001b[0m\u001b[0;32m     14\u001b[0m     \u001b[1;34m'Attack'\u001b[0m\u001b[1;33m:\u001b[0m   \u001b[1;36m100\u001b[0m\u001b[1;33m,\u001b[0m\u001b[1;33m\u001b[0m\u001b[0m\n\u001b[0;32m     15\u001b[0m     'Defense':  200 })\n",
      "\u001b[1;31mNameError\u001b[0m: name 'filtered_pokedex' is not defined"
     ]
    }
   ],
   "source": [
    "#Gave up. Took too long to figure it out\n",
    "filter_options = {\n",
    "    'Attack':   120,\n",
    "    'Defense':  100,\n",
    "    'Speed': 100}\n",
    "\n",
    "#def filtered_pokedex(filter_options):\n",
    "    #for x in range(1, len(new_pd_dict)):\n",
    "        #for k, v in filter_options.items():\n",
    "            #if new_pd_dict[x][k] >= filter_options[k]:\n",
    "                #print(new_pd_dict[x])\n",
    "                \n",
    "filtered_pokedex({\n",
    "    'Attack':   100,\n",
    "    'Defense':  200 })"
   ]
  },
  {
   "cell_type": "code",
   "execution_count": null,
   "metadata": {
    "colab": {},
    "colab_type": "code",
    "id": "tIuAPbQDr-jT"
   },
   "outputs": [],
   "source": []
  },
  {
   "cell_type": "code",
   "execution_count": null,
   "metadata": {},
   "outputs": [],
   "source": [
    "[new_pd_dict[x] for x in range(1, len(new_pd_dict)) if new_pd_dict[x]['Type'] == 'Bug']"
   ]
  },
  {
   "cell_type": "code",
   "execution_count": null,
   "metadata": {},
   "outputs": [],
   "source": [
    "[new_pd_dict[x]['Name'] for x in range(1, len(new_pd_dict)) if new_pd_dict[x]['Type'] == 'Electric']"
   ]
  },
  {
   "cell_type": "code",
   "execution_count": null,
   "metadata": {},
   "outputs": [],
   "source": []
  }
 ],
 "metadata": {
  "colab": {
   "collapsed_sections": [
    "UsHK4R6ur-jQ"
   ],
   "name": "Python_Lab_Pokemon_starter_update.ipynb",
   "provenance": [],
   "version": "0.3.2"
  },
  "kernel_info": {
   "name": "python3"
  },
  "kernelspec": {
   "display_name": "Python 3",
   "language": "python",
   "name": "python3"
  },
  "language_info": {
   "codemirror_mode": {
    "name": "ipython",
    "version": 3
   },
   "file_extension": ".py",
   "mimetype": "text/x-python",
   "name": "python",
   "nbconvert_exporter": "python",
   "pygments_lexer": "ipython3",
   "version": "3.6.6"
  },
  "nteract": {
   "version": "0.12.3"
  }
 },
 "nbformat": 4,
 "nbformat_minor": 2
}
