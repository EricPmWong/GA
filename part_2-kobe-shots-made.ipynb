{
 "cells": [
  {
   "cell_type": "markdown",
   "metadata": {},
   "source": [
    "<img src=\"http://imgur.com/1ZcRyrc.png\" style=\"float: left; margin: 20px; height: 55px\">\n",
    "\n",
    "\n",
    "# Predicting Shots Made Per Game by Kobe Bryant\n",
    "\n",
    "_Authors: Kiefer Katovich (SF)_\n",
    "\n",
    "---\n",
    "\n",
    "In this lab you'll be using regularized regression penalties — ridge, lasso, and elastic net — to try and predict how many shots Kobe Bryant made per game during his career.\n",
    "\n",
    "The Kobe Shots data set contains hundreds of columns representing different characteristics of each basketball game. Fitting an ordinary linear regression using every predictor would dramatically overfit the model, considering the limited number of observations (games) we have available. Plus, many of the predictors have significant multicollinearity. \n",
    "\n",
    "\n",
    "**Warning:** Some of these calculations are computationally expensive and may take a while to execute. It may be worthwhile to only use a portion of the data to perform these calculations, especially if you've experienced kernel issues in the past.\n",
    "\n",
    "---\n",
    "\n",
    "### 1) Load packages and data."
   ]
  },
  {
   "cell_type": "code",
   "execution_count": 71,
   "metadata": {
    "collapsed": true
   },
   "outputs": [],
   "source": [
    "import numpy as np\n",
    "import pandas as pd\n",
    "import patsy\n",
    "\n",
    "from sklearn.linear_model import Ridge, Lasso, ElasticNet, LinearRegression, RidgeCV, LassoCV, ElasticNetCV\n",
    "from sklearn.model_selection import cross_val_score, KFold\n",
    "\n",
    "import matplotlib\n",
    "import matplotlib.pyplot as plt\n",
    "import seaborn as sns\n",
    "plt.style.use('fivethirtyeight')\n",
    "\n",
    "%config InlineBackend.figure_format = 'retina'\n",
    "%matplotlib inline"
   ]
  },
  {
   "cell_type": "code",
   "execution_count": 72,
   "metadata": {
    "collapsed": true
   },
   "outputs": [],
   "source": [
    "kobe = pd.read_csv('./datasets/kobe_superwide_games.csv')"
   ]
  },
  {
   "cell_type": "code",
   "execution_count": 73,
   "metadata": {},
   "outputs": [
    {
     "data": {
      "text/plain": [
       "SHOTS_MADE                                        0\n",
       "AWAY_GAME                                         0\n",
       "SEASON_OPPONENT:atl:1996-97                       0\n",
       "SEASON_OPPONENT:atl:1997-98                       0\n",
       "SEASON_OPPONENT:atl:1999-00                       0\n",
       "SEASON_OPPONENT:atl:2000-01                       0\n",
       "SEASON_OPPONENT:atl:2001-02                       0\n",
       "SEASON_OPPONENT:atl:2002-03                       0\n",
       "SEASON_OPPONENT:atl:2003-04                       0\n",
       "SEASON_OPPONENT:atl:2004-05                       0\n",
       "SEASON_OPPONENT:atl:2005-06                       0\n",
       "SEASON_OPPONENT:atl:2006-07                       0\n",
       "SEASON_OPPONENT:atl:2007-08                       0\n",
       "SEASON_OPPONENT:atl:2008-09                       0\n",
       "SEASON_OPPONENT:atl:2009-10                       0\n",
       "SEASON_OPPONENT:atl:2010-11                       0\n",
       "SEASON_OPPONENT:atl:2011-12                       0\n",
       "SEASON_OPPONENT:atl:2012-13                       0\n",
       "SEASON_OPPONENT:atl:2013-14                       0\n",
       "SEASON_OPPONENT:atl:2014-15                       0\n",
       "SEASON_OPPONENT:atl:2015-16                       0\n",
       "SEASON_OPPONENT:bkn:2012-13                       0\n",
       "SEASON_OPPONENT:bkn:2015-16                       0\n",
       "SEASON_OPPONENT:bos:1996-97                       0\n",
       "SEASON_OPPONENT:bos:1997-98                       0\n",
       "SEASON_OPPONENT:bos:1999-00                       0\n",
       "SEASON_OPPONENT:bos:2001-02                       0\n",
       "SEASON_OPPONENT:bos:2002-03                       0\n",
       "SEASON_OPPONENT:bos:2003-04                       0\n",
       "SEASON_OPPONENT:bos:2004-05                       0\n",
       "                                                 ..\n",
       "ACTION_TYPE:pullup_jump_shot                      0\n",
       "ACTION_TYPE:putback_dunk_shot                     0\n",
       "ACTION_TYPE:putback_layup_shot                    0\n",
       "ACTION_TYPE:putback_slam_dunk_shot                0\n",
       "ACTION_TYPE:reverse_dunk_shot                     0\n",
       "ACTION_TYPE:reverse_layup_shot                    0\n",
       "ACTION_TYPE:reverse_slam_dunk_shot                0\n",
       "ACTION_TYPE:running_bank_shot                     0\n",
       "ACTION_TYPE:running_dunk_shot                     0\n",
       "ACTION_TYPE:running_finger_roll_layup_shot        0\n",
       "ACTION_TYPE:running_finger_roll_shot              0\n",
       "ACTION_TYPE:running_hook_shot                     0\n",
       "ACTION_TYPE:running_jump_shot                     0\n",
       "ACTION_TYPE:running_layup_shot                    0\n",
       "ACTION_TYPE:running_pull-up_jump_shot             0\n",
       "ACTION_TYPE:running_reverse_layup_shot            0\n",
       "ACTION_TYPE:running_slam_dunk_shot                0\n",
       "ACTION_TYPE:running_tip_shot                      0\n",
       "ACTION_TYPE:slam_dunk_shot                        0\n",
       "ACTION_TYPE:step_back_jump_shot                   0\n",
       "ACTION_TYPE:tip_layup_shot                        0\n",
       "ACTION_TYPE:tip_shot                              0\n",
       "ACTION_TYPE:turnaround_bank_shot                  0\n",
       "ACTION_TYPE:turnaround_fadeaway_bank_jump_shot    0\n",
       "ACTION_TYPE:turnaround_fadeaway_shot              0\n",
       "ACTION_TYPE:turnaround_finger_roll_shot           0\n",
       "ACTION_TYPE:turnaround_hook_shot                  0\n",
       "ACTION_TYPE:turnaround_jump_shot                  0\n",
       "SEASON_GAME_NUMBER                                0\n",
       "CAREER_GAME_NUMBER                                0\n",
       "Length: 645, dtype: int64"
      ]
     },
     "execution_count": 73,
     "metadata": {},
     "output_type": "execute_result"
    }
   ],
   "source": [
    "kobe.isnull().sum()"
   ]
  },
  {
   "cell_type": "markdown",
   "metadata": {},
   "source": [
    "---\n",
    "\n",
    "### 2) Examine the data.\n",
    "\n",
    "- How many columns are there?\n",
    "- Examine what the observations (rows) and columns represent.\n",
    "- Why might regularization be particularly useful for modeling this data?"
   ]
  },
  {
   "cell_type": "code",
   "execution_count": 74,
   "metadata": {
    "collapsed": true
   },
   "outputs": [
    {
     "data": {
      "text/html": [
       "<div>\n",
       "<style scoped>\n",
       "    .dataframe tbody tr th:only-of-type {\n",
       "        vertical-align: middle;\n",
       "    }\n",
       "\n",
       "    .dataframe tbody tr th {\n",
       "        vertical-align: top;\n",
       "    }\n",
       "\n",
       "    .dataframe thead th {\n",
       "        text-align: right;\n",
       "    }\n",
       "</style>\n",
       "<table border=\"1\" class=\"dataframe\">\n",
       "  <thead>\n",
       "    <tr style=\"text-align: right;\">\n",
       "      <th></th>\n",
       "      <th>SHOTS_MADE</th>\n",
       "      <th>AWAY_GAME</th>\n",
       "      <th>SEASON_OPPONENT:atl:1996-97</th>\n",
       "      <th>SEASON_OPPONENT:atl:1997-98</th>\n",
       "      <th>SEASON_OPPONENT:atl:1999-00</th>\n",
       "      <th>SEASON_OPPONENT:atl:2000-01</th>\n",
       "      <th>SEASON_OPPONENT:atl:2001-02</th>\n",
       "      <th>SEASON_OPPONENT:atl:2002-03</th>\n",
       "      <th>SEASON_OPPONENT:atl:2003-04</th>\n",
       "      <th>SEASON_OPPONENT:atl:2004-05</th>\n",
       "      <th>...</th>\n",
       "      <th>ACTION_TYPE:tip_layup_shot</th>\n",
       "      <th>ACTION_TYPE:tip_shot</th>\n",
       "      <th>ACTION_TYPE:turnaround_bank_shot</th>\n",
       "      <th>ACTION_TYPE:turnaround_fadeaway_bank_jump_shot</th>\n",
       "      <th>ACTION_TYPE:turnaround_fadeaway_shot</th>\n",
       "      <th>ACTION_TYPE:turnaround_finger_roll_shot</th>\n",
       "      <th>ACTION_TYPE:turnaround_hook_shot</th>\n",
       "      <th>ACTION_TYPE:turnaround_jump_shot</th>\n",
       "      <th>SEASON_GAME_NUMBER</th>\n",
       "      <th>CAREER_GAME_NUMBER</th>\n",
       "    </tr>\n",
       "  </thead>\n",
       "  <tbody>\n",
       "    <tr>\n",
       "      <th>0</th>\n",
       "      <td>0.0</td>\n",
       "      <td>0</td>\n",
       "      <td>0.0</td>\n",
       "      <td>0.0</td>\n",
       "      <td>0.0</td>\n",
       "      <td>0.0</td>\n",
       "      <td>0.0</td>\n",
       "      <td>0.0</td>\n",
       "      <td>0.0</td>\n",
       "      <td>0.0</td>\n",
       "      <td>...</td>\n",
       "      <td>0.0</td>\n",
       "      <td>0.0</td>\n",
       "      <td>0.0</td>\n",
       "      <td>0.0</td>\n",
       "      <td>0.0</td>\n",
       "      <td>0.0</td>\n",
       "      <td>0.0</td>\n",
       "      <td>0.0</td>\n",
       "      <td>1</td>\n",
       "      <td>1</td>\n",
       "    </tr>\n",
       "    <tr>\n",
       "      <th>1</th>\n",
       "      <td>0.0</td>\n",
       "      <td>1</td>\n",
       "      <td>0.0</td>\n",
       "      <td>0.0</td>\n",
       "      <td>0.0</td>\n",
       "      <td>0.0</td>\n",
       "      <td>0.0</td>\n",
       "      <td>0.0</td>\n",
       "      <td>0.0</td>\n",
       "      <td>0.0</td>\n",
       "      <td>...</td>\n",
       "      <td>0.0</td>\n",
       "      <td>0.0</td>\n",
       "      <td>0.0</td>\n",
       "      <td>0.0</td>\n",
       "      <td>0.0</td>\n",
       "      <td>0.0</td>\n",
       "      <td>0.0</td>\n",
       "      <td>0.0</td>\n",
       "      <td>2</td>\n",
       "      <td>2</td>\n",
       "    </tr>\n",
       "    <tr>\n",
       "      <th>2</th>\n",
       "      <td>2.0</td>\n",
       "      <td>1</td>\n",
       "      <td>0.0</td>\n",
       "      <td>0.0</td>\n",
       "      <td>0.0</td>\n",
       "      <td>0.0</td>\n",
       "      <td>0.0</td>\n",
       "      <td>0.0</td>\n",
       "      <td>0.0</td>\n",
       "      <td>0.0</td>\n",
       "      <td>...</td>\n",
       "      <td>0.0</td>\n",
       "      <td>0.0</td>\n",
       "      <td>0.0</td>\n",
       "      <td>0.0</td>\n",
       "      <td>0.0</td>\n",
       "      <td>0.0</td>\n",
       "      <td>0.0</td>\n",
       "      <td>0.0</td>\n",
       "      <td>3</td>\n",
       "      <td>3</td>\n",
       "    </tr>\n",
       "    <tr>\n",
       "      <th>3</th>\n",
       "      <td>2.0</td>\n",
       "      <td>1</td>\n",
       "      <td>0.0</td>\n",
       "      <td>0.0</td>\n",
       "      <td>0.0</td>\n",
       "      <td>0.0</td>\n",
       "      <td>0.0</td>\n",
       "      <td>0.0</td>\n",
       "      <td>0.0</td>\n",
       "      <td>0.0</td>\n",
       "      <td>...</td>\n",
       "      <td>0.0</td>\n",
       "      <td>0.0</td>\n",
       "      <td>0.0</td>\n",
       "      <td>0.0</td>\n",
       "      <td>0.0</td>\n",
       "      <td>0.0</td>\n",
       "      <td>0.0</td>\n",
       "      <td>0.0</td>\n",
       "      <td>4</td>\n",
       "      <td>4</td>\n",
       "    </tr>\n",
       "    <tr>\n",
       "      <th>4</th>\n",
       "      <td>0.0</td>\n",
       "      <td>0</td>\n",
       "      <td>1.0</td>\n",
       "      <td>0.0</td>\n",
       "      <td>0.0</td>\n",
       "      <td>0.0</td>\n",
       "      <td>0.0</td>\n",
       "      <td>0.0</td>\n",
       "      <td>0.0</td>\n",
       "      <td>0.0</td>\n",
       "      <td>...</td>\n",
       "      <td>0.0</td>\n",
       "      <td>0.0</td>\n",
       "      <td>0.0</td>\n",
       "      <td>0.0</td>\n",
       "      <td>0.0</td>\n",
       "      <td>0.0</td>\n",
       "      <td>0.0</td>\n",
       "      <td>0.0</td>\n",
       "      <td>5</td>\n",
       "      <td>5</td>\n",
       "    </tr>\n",
       "    <tr>\n",
       "      <th>5</th>\n",
       "      <td>1.0</td>\n",
       "      <td>1</td>\n",
       "      <td>0.0</td>\n",
       "      <td>0.0</td>\n",
       "      <td>0.0</td>\n",
       "      <td>0.0</td>\n",
       "      <td>0.0</td>\n",
       "      <td>0.0</td>\n",
       "      <td>0.0</td>\n",
       "      <td>0.0</td>\n",
       "      <td>...</td>\n",
       "      <td>0.0</td>\n",
       "      <td>0.0</td>\n",
       "      <td>0.0</td>\n",
       "      <td>0.0</td>\n",
       "      <td>0.0</td>\n",
       "      <td>0.0</td>\n",
       "      <td>0.0</td>\n",
       "      <td>0.0</td>\n",
       "      <td>6</td>\n",
       "      <td>6</td>\n",
       "    </tr>\n",
       "    <tr>\n",
       "      <th>6</th>\n",
       "      <td>2.0</td>\n",
       "      <td>1</td>\n",
       "      <td>0.0</td>\n",
       "      <td>0.0</td>\n",
       "      <td>0.0</td>\n",
       "      <td>0.0</td>\n",
       "      <td>0.0</td>\n",
       "      <td>0.0</td>\n",
       "      <td>0.0</td>\n",
       "      <td>0.0</td>\n",
       "      <td>...</td>\n",
       "      <td>0.0</td>\n",
       "      <td>0.0</td>\n",
       "      <td>0.0</td>\n",
       "      <td>0.0</td>\n",
       "      <td>0.0</td>\n",
       "      <td>0.0</td>\n",
       "      <td>0.0</td>\n",
       "      <td>0.0</td>\n",
       "      <td>7</td>\n",
       "      <td>7</td>\n",
       "    </tr>\n",
       "  </tbody>\n",
       "</table>\n",
       "<p>7 rows × 645 columns</p>\n",
       "</div>"
      ],
      "text/plain": [
       "   SHOTS_MADE  AWAY_GAME  SEASON_OPPONENT:atl:1996-97  \\\n",
       "0         0.0          0                          0.0   \n",
       "1         0.0          1                          0.0   \n",
       "2         2.0          1                          0.0   \n",
       "3         2.0          1                          0.0   \n",
       "4         0.0          0                          1.0   \n",
       "5         1.0          1                          0.0   \n",
       "6         2.0          1                          0.0   \n",
       "\n",
       "   SEASON_OPPONENT:atl:1997-98  SEASON_OPPONENT:atl:1999-00  \\\n",
       "0                          0.0                          0.0   \n",
       "1                          0.0                          0.0   \n",
       "2                          0.0                          0.0   \n",
       "3                          0.0                          0.0   \n",
       "4                          0.0                          0.0   \n",
       "5                          0.0                          0.0   \n",
       "6                          0.0                          0.0   \n",
       "\n",
       "   SEASON_OPPONENT:atl:2000-01  SEASON_OPPONENT:atl:2001-02  \\\n",
       "0                          0.0                          0.0   \n",
       "1                          0.0                          0.0   \n",
       "2                          0.0                          0.0   \n",
       "3                          0.0                          0.0   \n",
       "4                          0.0                          0.0   \n",
       "5                          0.0                          0.0   \n",
       "6                          0.0                          0.0   \n",
       "\n",
       "   SEASON_OPPONENT:atl:2002-03  SEASON_OPPONENT:atl:2003-04  \\\n",
       "0                          0.0                          0.0   \n",
       "1                          0.0                          0.0   \n",
       "2                          0.0                          0.0   \n",
       "3                          0.0                          0.0   \n",
       "4                          0.0                          0.0   \n",
       "5                          0.0                          0.0   \n",
       "6                          0.0                          0.0   \n",
       "\n",
       "   SEASON_OPPONENT:atl:2004-05         ...          \\\n",
       "0                          0.0         ...           \n",
       "1                          0.0         ...           \n",
       "2                          0.0         ...           \n",
       "3                          0.0         ...           \n",
       "4                          0.0         ...           \n",
       "5                          0.0         ...           \n",
       "6                          0.0         ...           \n",
       "\n",
       "   ACTION_TYPE:tip_layup_shot  ACTION_TYPE:tip_shot  \\\n",
       "0                         0.0                   0.0   \n",
       "1                         0.0                   0.0   \n",
       "2                         0.0                   0.0   \n",
       "3                         0.0                   0.0   \n",
       "4                         0.0                   0.0   \n",
       "5                         0.0                   0.0   \n",
       "6                         0.0                   0.0   \n",
       "\n",
       "   ACTION_TYPE:turnaround_bank_shot  \\\n",
       "0                               0.0   \n",
       "1                               0.0   \n",
       "2                               0.0   \n",
       "3                               0.0   \n",
       "4                               0.0   \n",
       "5                               0.0   \n",
       "6                               0.0   \n",
       "\n",
       "   ACTION_TYPE:turnaround_fadeaway_bank_jump_shot  \\\n",
       "0                                             0.0   \n",
       "1                                             0.0   \n",
       "2                                             0.0   \n",
       "3                                             0.0   \n",
       "4                                             0.0   \n",
       "5                                             0.0   \n",
       "6                                             0.0   \n",
       "\n",
       "   ACTION_TYPE:turnaround_fadeaway_shot  \\\n",
       "0                                   0.0   \n",
       "1                                   0.0   \n",
       "2                                   0.0   \n",
       "3                                   0.0   \n",
       "4                                   0.0   \n",
       "5                                   0.0   \n",
       "6                                   0.0   \n",
       "\n",
       "   ACTION_TYPE:turnaround_finger_roll_shot  ACTION_TYPE:turnaround_hook_shot  \\\n",
       "0                                      0.0                               0.0   \n",
       "1                                      0.0                               0.0   \n",
       "2                                      0.0                               0.0   \n",
       "3                                      0.0                               0.0   \n",
       "4                                      0.0                               0.0   \n",
       "5                                      0.0                               0.0   \n",
       "6                                      0.0                               0.0   \n",
       "\n",
       "   ACTION_TYPE:turnaround_jump_shot  SEASON_GAME_NUMBER  CAREER_GAME_NUMBER  \n",
       "0                               0.0                   1                   1  \n",
       "1                               0.0                   2                   2  \n",
       "2                               0.0                   3                   3  \n",
       "3                               0.0                   4                   4  \n",
       "4                               0.0                   5                   5  \n",
       "5                               0.0                   6                   6  \n",
       "6                               0.0                   7                   7  \n",
       "\n",
       "[7 rows x 645 columns]"
      ]
     },
     "execution_count": 74,
     "metadata": {},
     "output_type": "execute_result"
    }
   ],
   "source": [
    "#There are 645 columns \n",
    "#Each row represents a game played, columns represent stats of a game\n",
    "# Regularization is good for lowerinig variance and giving more usability to a model through bias. If we want some \n",
    "# predicatbility to this model, we may need instinatate regularization\n",
    "kobe.head(7)"
   ]
  },
  {
   "cell_type": "markdown",
   "metadata": {},
   "source": [
    "---\n",
    "\n",
    "### 3) Create predictor and target variables. Standardize the predictors.\n",
    "\n",
    "Why is normalization necessary for regularized regressions?\n",
    "\n",
    "Use the `sklearn.preprocessing` class `StandardScaler` to standardize the predictors."
   ]
  },
  {
   "cell_type": "code",
   "execution_count": 75,
   "metadata": {
    "collapsed": true
   },
   "outputs": [
    {
     "name": "stderr",
     "output_type": "stream",
     "text": [
      "C:\\ProgramData\\Anaconda3\\lib\\site-packages\\sklearn\\preprocessing\\data.py:617: DataConversionWarning: Data with input dtype int64, float64 were all converted to float64 by StandardScaler.\n",
      "  return self.partial_fit(X, y)\n",
      "C:\\ProgramData\\Anaconda3\\lib\\site-packages\\ipykernel_launcher.py:8: DataConversionWarning: Data with input dtype int64, float64 were all converted to float64 by StandardScaler.\n",
      "  \n"
     ]
    }
   ],
   "source": [
    "notSM = [x for x in kobe if x!= 'SHOTS_MADE']\n",
    "X = kobe[notSM]\n",
    "y = kobe['SHOTS_MADE']\n",
    "\n",
    "from sklearn.preprocessing import StandardScaler\n",
    "ss = StandardScaler()\n",
    "ss.fit(X)\n",
    "kX = ss.transform(X)"
   ]
  },
  {
   "cell_type": "code",
   "execution_count": 76,
   "metadata": {
    "collapsed": true
   },
   "outputs": [],
   "source": [
    "lr = LinearRegression()\n",
    "lr.fit(kX, y)\n",
    "kobepr = lr.predict(kX)"
   ]
  },
  {
   "cell_type": "code",
   "execution_count": 77,
   "metadata": {},
   "outputs": [
    {
     "name": "stderr",
     "output_type": "stream",
     "text": [
      "C:\\ProgramData\\Anaconda3\\lib\\site-packages\\scipy\\stats\\stats.py:1713: FutureWarning: Using a non-tuple sequence for multidimensional indexing is deprecated; use `arr[tuple(seq)]` instead of `arr[seq]`. In the future this will be interpreted as an array index, `arr[np.array(seq)]`, which will result either in an error or a different result.\n",
      "  return np.add.reduce(sorted[indexer] * weights, axis=axis) / sumval\n"
     ]
    },
    {
     "data": {
      "text/plain": [
       "<matplotlib.axes._subplots.AxesSubplot at 0x26981f2ec50>"
      ]
     },
     "execution_count": 77,
     "metadata": {},
     "output_type": "execute_result"
    },
    {
     "data": {
      "image/png": "[encoded data removed]",
      "text/plain": [
       "<Figure size 432x288 with 1 Axes>"
      ]
     },
     "metadata": {
      "image/png": {
       "height": 261,
       "width": 422
      },
      "needs_background": "light"
     },
     "output_type": "display_data"
    }
   ],
   "source": [
    "plt.title('Linear Regression')\n",
    "sns.regplot(kobepr, y, line_kws={'color':'red'})"
   ]
  },
  {
   "cell_type": "markdown",
   "metadata": {},
   "source": [
    "---\n",
    "\n",
    "### 4. Build a linear regression predicting `SHOTS_MADE` from the rest of the columns.\n",
    "\n",
    "Cross-validate the $R^2$ of an ordinary linear regression model with 10 cross-validation folds.\n",
    "\n",
    "How does it perform?"
   ]
  },
  {
   "cell_type": "code",
   "execution_count": 78,
   "metadata": {},
   "outputs": [
    {
     "data": {
      "text/plain": [
       "-3.588616646962929e+27"
      ]
     },
     "execution_count": 78,
     "metadata": {},
     "output_type": "execute_result"
    }
   ],
   "source": [
    "kf = KFold(n_splits=10, random_state=42, shuffle=True)\n",
    "cross_val_score(lr, kX, y, cv=kf).mean()"
   ]
  },
  {
   "cell_type": "code",
   "execution_count": 79,
   "metadata": {},
   "outputs": [],
   "source": [
    "## The cross val score tell us that our model does not perform accurately"
   ]
  },
  {
   "cell_type": "markdown",
   "metadata": {},
   "source": [
    "---\n",
    "\n",
    "### 5) Find an optimal value for the ridge regression alpha using `RidgeCV`.\n",
    "\n",
    "Go to the documentation and [read how RidgeCV works](http://scikit-learn.org/stable/modules/generated/sklearn.linear_model.RidgeCV.html).\n",
    "\n",
    "> *Hint: Once the RidgeCV is fit, the attribute `.alpha_` contains the best alpha parameter it found through cross-validation.*\n",
    "\n",
    "Recall that ridge performs best when searching alphas through logarithmic space (`np.logspace`). This may take awhile to fit.\n"
   ]
  },
  {
   "cell_type": "code",
   "execution_count": 107,
   "metadata": {
    "collapsed": true
   },
   "outputs": [
    {
     "name": "stderr",
     "output_type": "stream",
     "text": [
      "C:\\ProgramData\\Anaconda3\\lib\\site-packages\\sklearn\\model_selection\\_search.py:841: DeprecationWarning: The default of the `iid` parameter will change from True to False in version 0.22 and will be removed in 0.24. This will change numeric results when test-set sizes are unequal.\n",
      "  DeprecationWarning)\n"
     ]
    },
    {
     "data": {
      "text/plain": [
       "RidgeCV(alphas=array([1.00000e+00, 1.05956e+00, ..., 9.43788e+04, 1.00000e+05]),\n",
       "    cv=10, fit_intercept=True, gcv_mode=None, normalize=False,\n",
       "    scoring='r2', store_cv_values=False)"
      ]
     },
     "execution_count": 107,
     "metadata": {},
     "output_type": "execute_result"
    }
   ],
   "source": [
    "rcv = RidgeCV(alphas = np.logspace(0,5,200), cv = 10, scoring ='r2')\n",
    "rcv.fit(kX, y)"
   ]
  },
  {
   "cell_type": "code",
   "execution_count": 108,
   "metadata": {},
   "outputs": [
    {
     "data": {
      "text/plain": [
       "0.7798565133622948"
      ]
     },
     "execution_count": 108,
     "metadata": {},
     "output_type": "execute_result"
    }
   ],
   "source": [
    "rcv.score(kX, y)"
   ]
  },
  {
   "cell_type": "code",
   "execution_count": 106,
   "metadata": {},
   "outputs": [
    {
     "data": {
      "text/plain": [
       "775.2597488629465"
      ]
     },
     "execution_count": 106,
     "metadata": {},
     "output_type": "execute_result"
    }
   ],
   "source": [
    "RO = rcv.alpha_\n",
    "RO"
   ]
  },
  {
   "cell_type": "markdown",
   "metadata": {},
   "source": [
    "---\n",
    "\n",
    "### 6) Cross-validate the ridge regression $R^2$ with the optimal alpha.\n",
    "\n",
    "Is it better than the linear regression? If so, why might this be?"
   ]
  },
  {
   "cell_type": "code",
   "execution_count": 83,
   "metadata": {
    "collapsed": true
   },
   "outputs": [],
   "source": [
    "# A: Yes, there are multiple reasons but the major one could be that there are many variables acting on the regression and therefore causing\n",
    "#a lot of \"noise\" to our regression. The other thing is we are working with 600+ variables. "
   ]
  },
  {
   "cell_type": "markdown",
   "metadata": {},
   "source": [
    "---\n",
    "\n",
    "### 7) Find an optimal value for lasso regression alpha using `LassoCV`.\n",
    "\n",
    "Go to the documentation and [read how LassoCV works](http://scikit-learn.org/stable/modules/generated/sklearn.linear_model.LassoCV.html). It is very similar to `RidgeCV`.\n",
    "\n",
    "> *Hint: Again, once the `LassoCV` is fit, the attribute `.alpha_` contains the best alpha parameter it found through cross-validation.*\n",
    "\n",
    "Recall that lasso, unlike ridge, performs best when searching for alpha through linear space (`np.linspace`). However, you can actually let the LassoCV decide what alphas to use itself by setting the keyword argument `n_alphas=` to however many alphas you want it to search over. We recommend letting scikit-learn choose the range of alphas.\n",
    "\n",
    "_**Tip:** If you find your CV taking a long time and you're not sure if it's working, set `verbose =1`._"
   ]
  },
  {
   "cell_type": "code",
   "execution_count": 110,
   "metadata": {
    "collapsed": true
   },
   "outputs": [],
   "source": [
    "# A: \n",
    "lcv = LassoCV(n_alphas = 200, cv = 10)\n",
    "lcv.fit(kX, y)\n",
    "lcvp = lcv.predict(kX)"
   ]
  },
  {
   "cell_type": "code",
   "execution_count": 111,
   "metadata": {},
   "outputs": [
    {
     "data": {
      "text/plain": [
       "0.7099635073522508"
      ]
     },
     "execution_count": 111,
     "metadata": {},
     "output_type": "execute_result"
    }
   ],
   "source": [
    "lcv.score(kX, y)"
   ]
  },
  {
   "cell_type": "code",
   "execution_count": 86,
   "metadata": {},
   "outputs": [
    {
     "data": {
      "text/plain": [
       "0.06857472683790841"
      ]
     },
     "execution_count": 86,
     "metadata": {},
     "output_type": "execute_result"
    }
   ],
   "source": [
    "LO = lcv.alpha_\n",
    "LO"
   ]
  },
  {
   "cell_type": "code",
   "execution_count": 87,
   "metadata": {},
   "outputs": [
    {
     "name": "stderr",
     "output_type": "stream",
     "text": [
      "C:\\ProgramData\\Anaconda3\\lib\\site-packages\\scipy\\stats\\stats.py:1713: FutureWarning: Using a non-tuple sequence for multidimensional indexing is deprecated; use `arr[tuple(seq)]` instead of `arr[seq]`. In the future this will be interpreted as an array index, `arr[np.array(seq)]`, which will result either in an error or a different result.\n",
      "  return np.add.reduce(sorted[indexer] * weights, axis=axis) / sumval\n"
     ]
    },
    {
     "data": {
      "text/plain": [
       "<matplotlib.axes._subplots.AxesSubplot at 0x26981fb55c0>"
      ]
     },
     "execution_count": 87,
     "metadata": {},
     "output_type": "execute_result"
    },
    {
     "data": {
      "image/png": "[encoded data removed]",
      "text/plain": [
       "<Figure size 432x288 with 1 Axes>"
      ]
     },
     "metadata": {
      "image/png": {
       "height": 261,
       "width": 422
      },
      "needs_background": "light"
     },
     "output_type": "display_data"
    }
   ],
   "source": [
    "plt.title('Lasso')\n",
    "sns.regplot(lcvp, y, line_kws={'color':'red'})"
   ]
  },
  {
   "cell_type": "markdown",
   "metadata": {},
   "source": [
    "---\n",
    "\n",
    "### 8) Cross-validate the lasso $R^2$ with the optimal alpha.\n",
    "\n",
    "Is it better than the linear regression? Is it better than ridge? What do the differences in results imply about the issues with the data set?"
   ]
  },
  {
   "cell_type": "code",
   "execution_count": 89,
   "metadata": {
    "collapsed": true
   },
   "outputs": [],
   "source": [
    "#Ridge appears to be the higher score. It is likely due to the fact there may be colinearity among several variables. Since we have so many, the chances of it increases.\n",
    "#l1 (Lasso) = 0.7099635073522508\n",
    "#L2 (Ridge) = 0.7798565133622948"
   ]
  },
  {
   "cell_type": "markdown",
   "metadata": {},
   "source": [
    "---\n",
    "\n",
    "### 9) Look at the coefficients for variables in the lasso.\n",
    "\n",
    "1. Show the coefficient for variables, ordered from largest to smallest coefficient by absolute value.\n",
    "2. What percent of the variables in the original data set are \"zeroed-out\" by the lasso?\n",
    "3. What are the most important predictors for how many shots Kobe made in a game?\n",
    "\n",
    "> **Note:** If you only fit the lasso within `cross_val_score`, you'll have to refit it outside of that function to pull out the coefficients."
   ]
  },
  {
   "cell_type": "code",
   "execution_count": 90,
   "metadata": {
    "collapsed": true
   },
   "outputs": [],
   "source": [
    "#Alpha Coefficent:\n",
    "# L1 Lasso: 0.06857472683790841\n",
    "# L2 Ridge: 775.2597488629465\n"
   ]
  },
  {
   "cell_type": "code",
   "execution_count": 91,
   "metadata": {},
   "outputs": [
    {
     "data": {
      "text/plain": [
       "array([2.71599147e-01, 2.54132211e-01, 2.50996313e-01, 2.28627222e-01,\n",
       "       2.26872594e-01, 2.24674471e-01, 2.19035643e-01, 2.13666033e-01,\n",
       "       2.09142376e-01, 1.74258364e-01, 1.68962367e-01, 1.64220391e-01,\n",
       "       1.55484471e-01, 1.41094089e-01, 1.33524195e-01, 1.30759206e-01,\n",
       "       1.29465958e-01, 1.20987186e-01, 1.18414348e-01, 1.14115114e-01,\n",
       "       1.13060298e-01, 1.10586816e-01, 1.09768772e-01, 1.05760884e-01,\n",
       "       1.05265981e-01, 1.04987374e-01, 1.01872669e-01, 1.01662020e-01,\n",
       "       1.01268615e-01, 9.89267358e-02, 9.78649344e-02, 9.66402681e-02,\n",
       "       9.55307530e-02, 9.06798233e-02, 8.77852572e-02, 8.77222669e-02,\n",
       "       8.72728662e-02, 8.70512115e-02, 8.69836505e-02, 7.92718103e-02,\n",
       "       7.82047322e-02, 7.80809537e-02, 7.69289531e-02, 7.54792975e-02,\n",
       "       7.40880387e-02, 7.40553276e-02, 7.37048280e-02, 7.36427584e-02,\n",
       "       7.31213902e-02, 7.25356024e-02, 7.15663929e-02, 7.03707495e-02,\n",
       "       6.90333936e-02, 6.89290385e-02, 6.85814238e-02, 6.79062621e-02,\n",
       "       6.78412161e-02, 6.76898152e-02, 6.76127871e-02, 6.75613374e-02,\n",
       "       6.73683607e-02, 6.73422634e-02, 6.71099987e-02, 6.70017538e-02,\n",
       "       6.69585717e-02, 6.68729251e-02, 6.66545454e-02, 6.66106330e-02,\n",
       "       6.65298561e-02, 6.62662329e-02, 6.62497578e-02, 6.62305502e-02,\n",
       "       6.55515999e-02, 6.51388157e-02, 6.49032652e-02, 6.46710303e-02,\n",
       "       6.39163665e-02, 6.36134295e-02, 6.31159556e-02, 6.26356386e-02,\n",
       "       6.24579003e-02, 6.19758734e-02, 6.18166898e-02, 6.17521162e-02,\n",
       "       6.12774439e-02, 6.09855915e-02, 6.09168189e-02, 6.01280610e-02,\n",
       "       6.00720278e-02, 6.00347650e-02, 5.99230493e-02, 5.98925486e-02,\n",
       "       5.93269739e-02, 5.90226779e-02, 5.85698008e-02, 5.83752558e-02,\n",
       "       5.72214185e-02, 5.71957630e-02, 5.67733554e-02, 5.63145574e-02,\n",
       "       5.61486064e-02, 5.61080800e-02, 5.57089869e-02, 5.54201795e-02,\n",
       "       5.51453721e-02, 5.48992984e-02, 5.47508574e-02, 5.43728065e-02,\n",
       "       5.38920085e-02, 5.35234908e-02, 5.35200696e-02, 5.31771707e-02,\n",
       "       5.29862139e-02, 5.27302294e-02, 5.25764088e-02, 5.25348993e-02,\n",
       "       5.21507375e-02, 5.21469986e-02, 5.19133573e-02, 5.13696825e-02,\n",
       "       5.12727613e-02, 5.09865441e-02, 5.04720914e-02, 4.98115639e-02,\n",
       "       4.92203526e-02, 4.91974437e-02, 4.91808055e-02, 4.84617161e-02,\n",
       "       4.84488071e-02, 4.82298219e-02, 4.82069012e-02, 4.82051230e-02,\n",
       "       4.80637783e-02, 4.78535488e-02, 4.78267427e-02, 4.74421316e-02,\n",
       "       4.74016548e-02, 4.69291035e-02, 4.68479791e-02, 4.66460694e-02,\n",
       "       4.66150835e-02, 4.59643750e-02, 4.58245342e-02, 4.53884486e-02,\n",
       "       4.53578657e-02, 4.53360088e-02, 4.52712798e-02, 4.48744454e-02,\n",
       "       4.47439130e-02, 4.47057604e-02, 4.46719716e-02, 4.43199631e-02,\n",
       "       4.41711822e-02, 4.41537834e-02, 4.40754399e-02, 4.39903114e-02,\n",
       "       4.38046621e-02, 4.35119976e-02, 4.34108871e-02, 4.32634170e-02,\n",
       "       4.32453076e-02, 4.30648331e-02, 4.29281048e-02, 4.29051272e-02,\n",
       "       4.27037068e-02, 4.24276634e-02, 4.24238500e-02, 4.23660068e-02,\n",
       "       4.21073747e-02, 4.18394811e-02, 4.18017615e-02, 4.15312973e-02,\n",
       "       4.15309605e-02, 4.15151199e-02, 4.11333113e-02, 4.11142713e-02,\n",
       "       4.09926117e-02, 4.08663660e-02, 4.07401825e-02, 4.06863431e-02,\n",
       "       4.06841373e-02, 4.03830520e-02, 3.99118407e-02, 3.95491168e-02,\n",
       "       3.94317921e-02, 3.93777163e-02, 3.90382030e-02, 3.90130837e-02,\n",
       "       3.89959643e-02, 3.89394189e-02, 3.87213157e-02, 3.86894114e-02,\n",
       "       3.84828219e-02, 3.81378488e-02, 3.81068458e-02, 3.80786455e-02,\n",
       "       3.76323296e-02, 3.75720461e-02, 3.75537386e-02, 3.75525668e-02,\n",
       "       3.73717068e-02, 3.72385396e-02, 3.68782729e-02, 3.68757155e-02,\n",
       "       3.68100430e-02, 3.65272835e-02, 3.64951082e-02, 3.64808413e-02,\n",
       "       3.64259642e-02, 3.62560190e-02, 3.60131514e-02, 3.59855459e-02,\n",
       "       3.59851148e-02, 3.57609486e-02, 3.56967213e-02, 3.52095266e-02,\n",
       "       3.51989602e-02, 3.51240845e-02, 3.50851267e-02, 3.50322222e-02,\n",
       "       3.49290821e-02, 3.48915262e-02, 3.48655050e-02, 3.48103665e-02,\n",
       "       3.46770730e-02, 3.46527941e-02, 3.45782422e-02, 3.45486598e-02,\n",
       "       3.44742200e-02, 3.43497884e-02, 3.43472199e-02, 3.42282106e-02,\n",
       "       3.41250055e-02, 3.41196700e-02, 3.39824481e-02, 3.39213600e-02,\n",
       "       3.38323400e-02, 3.31113736e-02, 3.30230415e-02, 3.28456625e-02,\n",
       "       3.26905229e-02, 3.26782131e-02, 3.23523306e-02, 3.22557030e-02,\n",
       "       3.18463493e-02, 3.17623360e-02, 3.14736560e-02, 3.12396389e-02,\n",
       "       3.11458273e-02, 3.08198677e-02, 3.07772929e-02, 3.07698963e-02,\n",
       "       3.06950613e-02, 3.05838770e-02, 3.05660143e-02, 3.05126903e-02,\n",
       "       3.02522416e-02, 3.01601551e-02, 3.01576605e-02, 3.01519051e-02,\n",
       "       3.01336051e-02, 3.00745785e-02, 2.97586019e-02, 2.96874243e-02,\n",
       "       2.96302103e-02, 2.94227413e-02, 2.93999536e-02, 2.93942597e-02,\n",
       "       2.92115900e-02, 2.90626763e-02, 2.90475385e-02, 2.90279870e-02,\n",
       "       2.90277234e-02, 2.89894009e-02, 2.89527690e-02, 2.86569550e-02,\n",
       "       2.85628853e-02, 2.84881726e-02, 2.78833302e-02, 2.78175365e-02,\n",
       "       2.76622736e-02, 2.74550184e-02, 2.74328655e-02, 2.74298779e-02,\n",
       "       2.72752274e-02, 2.71490135e-02, 2.69755955e-02, 2.68893303e-02,\n",
       "       2.67107812e-02, 2.64744851e-02, 2.64639303e-02, 2.64299004e-02,\n",
       "       2.62200528e-02, 2.62038262e-02, 2.59529293e-02, 2.59396227e-02,\n",
       "       2.58124254e-02, 2.57645571e-02, 2.56962422e-02, 2.56705106e-02,\n",
       "       2.56572766e-02, 2.56270423e-02, 2.55919443e-02, 2.55571169e-02,\n",
       "       2.55031257e-02, 2.52528601e-02, 2.51265747e-02, 2.51142541e-02,\n",
       "       2.50306429e-02, 2.49469758e-02, 2.48050257e-02, 2.47843651e-02,\n",
       "       2.45698491e-02, 2.45563356e-02, 2.45166737e-02, 2.43751374e-02,\n",
       "       2.42995341e-02, 2.42759113e-02, 2.42253691e-02, 2.42220103e-02,\n",
       "       2.41496010e-02, 2.40285014e-02, 2.39981550e-02, 2.39654010e-02,\n",
       "       2.39604520e-02, 2.39202136e-02, 2.37547607e-02, 2.37487612e-02,\n",
       "       2.36614170e-02, 2.35340074e-02, 2.34008697e-02, 2.32525298e-02,\n",
       "       2.31457219e-02, 2.28160760e-02, 2.26434364e-02, 2.23081738e-02,\n",
       "       2.22932033e-02, 2.22571197e-02, 2.21652791e-02, 2.21450724e-02,\n",
       "       2.20767323e-02, 2.20657752e-02, 2.20576484e-02, 2.19746114e-02,\n",
       "       2.16703649e-02, 2.16114461e-02, 2.16008909e-02, 2.15422069e-02,\n",
       "       2.14943996e-02, 2.12175548e-02, 2.11203930e-02, 2.11093746e-02,\n",
       "       2.10802649e-02, 2.08133458e-02, 2.07443692e-02, 2.06210439e-02,\n",
       "       2.05820180e-02, 2.05765608e-02, 2.04716363e-02, 2.04051402e-02,\n",
       "       2.01992667e-02, 2.00901834e-02, 1.99037192e-02, 1.98799576e-02,\n",
       "       1.98780414e-02, 1.98497681e-02, 1.97760029e-02, 1.96300625e-02,\n",
       "       1.96149765e-02, 1.95774931e-02, 1.95469156e-02, 1.94021721e-02,\n",
       "       1.93138053e-02, 1.91936174e-02, 1.91750818e-02, 1.91230616e-02,\n",
       "       1.90723708e-02, 1.90357582e-02, 1.89521923e-02, 1.88869390e-02,\n",
       "       1.88369349e-02, 1.87340663e-02, 1.86372719e-02, 1.85210681e-02,\n",
       "       1.84777570e-02, 1.84472312e-02, 1.83797444e-02, 1.83794123e-02,\n",
       "       1.81400440e-02, 1.81070549e-02, 1.80981634e-02, 1.80763504e-02,\n",
       "       1.78730973e-02, 1.78567171e-02, 1.78072025e-02, 1.77786325e-02,\n",
       "       1.76291463e-02, 1.75573706e-02, 1.74404457e-02, 1.73276274e-02,\n",
       "       1.72681587e-02, 1.72102041e-02, 1.71189279e-02, 1.70524987e-02,\n",
       "       1.69054064e-02, 1.66681657e-02, 1.66414999e-02, 1.66200797e-02,\n",
       "       1.64982913e-02, 1.64382080e-02, 1.63387190e-02, 1.63053661e-02,\n",
       "       1.62468283e-02, 1.61372986e-02, 1.60886263e-02, 1.60676186e-02,\n",
       "       1.60660943e-02, 1.60119352e-02, 1.58070267e-02, 1.56986028e-02,\n",
       "       1.56758561e-02, 1.55222478e-02, 1.53552555e-02, 1.51934223e-02,\n",
       "       1.50646762e-02, 1.48480299e-02, 1.45785570e-02, 1.43332204e-02,\n",
       "       1.42825054e-02, 1.41520774e-02, 1.41131311e-02, 1.40584575e-02,\n",
       "       1.39765747e-02, 1.38807691e-02, 1.37823439e-02, 1.37440938e-02,\n",
       "       1.36033157e-02, 1.34320355e-02, 1.32942880e-02, 1.32051670e-02,\n",
       "       1.31916781e-02, 1.31807614e-02, 1.31780623e-02, 1.31616087e-02,\n",
       "       1.30482512e-02, 1.30436826e-02, 1.29698614e-02, 1.29403121e-02,\n",
       "       1.29327417e-02, 1.29274631e-02, 1.28568012e-02, 1.28349952e-02,\n",
       "       1.28021736e-02, 1.27523922e-02, 1.27418198e-02, 1.27397948e-02,\n",
       "       1.25794761e-02, 1.24716925e-02, 1.24128677e-02, 1.23692266e-02,\n",
       "       1.21732275e-02, 1.20085304e-02, 1.19923703e-02, 1.19894911e-02,\n",
       "       1.19497211e-02, 1.19114102e-02, 1.18466385e-02, 1.16675264e-02,\n",
       "       1.16267010e-02, 1.15728392e-02, 1.15615249e-02, 1.15147551e-02,\n",
       "       1.15135031e-02, 1.14774383e-02, 1.13191972e-02, 1.12778329e-02,\n",
       "       1.12326545e-02, 1.11856625e-02, 1.10697101e-02, 1.09855461e-02,\n",
       "       1.09692509e-02, 1.09586972e-02, 1.09547699e-02, 1.09220393e-02,\n",
       "       1.08639647e-02, 1.08351030e-02, 1.07326848e-02, 1.05134792e-02,\n",
       "       1.04789597e-02, 1.04270037e-02, 1.03862914e-02, 1.03053435e-02,\n",
       "       1.02432950e-02, 1.00554548e-02, 9.87813923e-03, 9.85312971e-03,\n",
       "       9.80549103e-03, 9.77852652e-03, 9.71880065e-03, 9.69595867e-03,\n",
       "       9.64541217e-03, 9.64457532e-03, 9.39411419e-03, 9.34678820e-03,\n",
       "       9.22376999e-03, 9.16993876e-03, 9.16659094e-03, 9.10793171e-03,\n",
       "       9.10077742e-03, 9.04911090e-03, 9.04227709e-03, 9.02634054e-03,\n",
       "       8.95158829e-03, 8.79676295e-03, 8.76343284e-03, 8.75102735e-03,\n",
       "       8.74806141e-03, 8.72932142e-03, 8.58818193e-03, 8.55133632e-03,\n",
       "       8.55029910e-03, 8.54176767e-03, 8.43886752e-03, 8.38412539e-03,\n",
       "       8.36105595e-03, 8.20390648e-03, 8.03866853e-03, 8.03866853e-03,\n",
       "       7.99045597e-03, 7.95791348e-03, 7.93972769e-03, 7.91949827e-03,\n",
       "       7.89478727e-03, 7.82169137e-03, 7.58850819e-03, 7.54199469e-03,\n",
       "       7.21759962e-03, 7.19275205e-03, 6.98716813e-03, 6.98471706e-03,\n",
       "       6.96813012e-03, 6.89433497e-03, 6.82675019e-03, 6.80152864e-03,\n",
       "       6.61768066e-03, 6.58802563e-03, 6.45135643e-03, 6.37357021e-03,\n",
       "       6.35546311e-03, 6.34800108e-03, 6.23915727e-03, 6.06348657e-03,\n",
       "       5.91745397e-03, 5.88563312e-03, 5.88319439e-03, 5.74249620e-03,\n",
       "       5.62701712e-03, 5.57499263e-03, 5.32087707e-03, 5.22439202e-03,\n",
       "       5.19958553e-03, 5.15637220e-03, 5.09457767e-03, 4.95580096e-03,\n",
       "       4.82122970e-03, 4.78465574e-03, 4.72168741e-03, 4.71909327e-03,\n",
       "       4.56027622e-03, 4.54385540e-03, 4.43724818e-03, 4.36250075e-03,\n",
       "       4.29621194e-03, 4.28021770e-03, 4.27463947e-03, 4.19913686e-03,\n",
       "       4.17319087e-03, 4.13786375e-03, 4.12512989e-03, 4.02941162e-03,\n",
       "       4.02230210e-03, 3.67093368e-03, 3.66877965e-03, 3.66586964e-03,\n",
       "       3.66491851e-03, 3.48485940e-03, 3.47372950e-03, 3.46771353e-03,\n",
       "       3.43480781e-03, 3.33781294e-03, 3.27681966e-03, 3.24934695e-03,\n",
       "       3.15182312e-03, 3.14692776e-03, 3.13138132e-03, 3.10161118e-03,\n",
       "       3.08334176e-03, 3.05412511e-03, 3.04898193e-03, 2.75460236e-03,\n",
       "       2.72192437e-03, 2.70307009e-03, 2.65521923e-03, 2.65144900e-03,\n",
       "       2.55285612e-03, 2.47331038e-03, 2.31654337e-03, 2.19260881e-03,\n",
       "       2.15185249e-03, 2.15129763e-03, 2.14227022e-03, 2.09226224e-03,\n",
       "       2.05262991e-03, 2.01853003e-03, 1.98073104e-03, 1.97499497e-03,\n",
       "       1.96057349e-03, 1.90199879e-03, 1.88529944e-03, 1.84140192e-03,\n",
       "       1.66077304e-03, 1.57422198e-03, 1.53645390e-03, 1.48486593e-03,\n",
       "       1.39099035e-03, 1.23878043e-03, 1.17802145e-03, 1.14265261e-03,\n",
       "       1.08680731e-03, 9.95576872e-04, 8.78516778e-04, 8.49691213e-04,\n",
       "       7.69580453e-04, 7.42131040e-04, 6.97332623e-04, 6.46473321e-04,\n",
       "       5.91884421e-04, 5.75292216e-04, 2.93324082e-04, 2.65831435e-04,\n",
       "       2.37770018e-04, 1.66400805e-04, 5.71210089e-05, 3.26391649e-06])"
      ]
     },
     "execution_count": 91,
     "metadata": {},
     "output_type": "execute_result"
    }
   ],
   "source": [
    "np.sort(abs(rcv.coef_))[:: -1]"
   ]
  },
  {
   "cell_type": "code",
   "execution_count": 92,
   "metadata": {},
   "outputs": [
    {
     "data": {
      "text/plain": [
       "array([1.23112046e+00, 8.69577199e-01, 4.51875972e-01, 2.74703985e-01,\n",
       "       2.71477489e-01, 1.41237124e-01, 1.32855473e-01, 1.29086174e-01,\n",
       "       1.26247994e-01, 1.18177613e-01, 1.16283268e-01, 1.14575966e-01,\n",
       "       1.10669232e-01, 1.04095930e-01, 9.86847496e-02, 9.63419533e-02,\n",
       "       9.43851046e-02, 8.85156746e-02, 7.81749592e-02, 7.44785645e-02,\n",
       "       7.07531065e-02, 7.02872913e-02, 6.80152565e-02, 6.74679260e-02,\n",
       "       6.47174139e-02, 6.20363439e-02, 5.85418445e-02, 5.49207943e-02,\n",
       "       5.31257790e-02, 5.28445130e-02, 5.20102600e-02, 5.15148935e-02,\n",
       "       4.94310968e-02, 4.84822625e-02, 4.68467975e-02, 4.40237907e-02,\n",
       "       4.17461858e-02, 4.16442660e-02, 4.16082113e-02, 3.99053479e-02,\n",
       "       3.95554805e-02, 3.74917496e-02, 3.53045450e-02, 3.52465653e-02,\n",
       "       3.51397527e-02, 3.47783180e-02, 3.40551554e-02, 3.17486709e-02,\n",
       "       3.12888906e-02, 3.03678355e-02, 3.02820892e-02, 2.93166905e-02,\n",
       "       2.93044270e-02, 2.92894637e-02, 2.85692973e-02, 2.85512096e-02,\n",
       "       2.78191810e-02, 2.74811331e-02, 2.74738122e-02, 2.70798509e-02,\n",
       "       2.69596564e-02, 2.68975475e-02, 2.68021791e-02, 2.63524221e-02,\n",
       "       2.62929491e-02, 2.59141917e-02, 2.54209775e-02, 2.52619439e-02,\n",
       "       2.50978517e-02, 2.46508767e-02, 2.40712279e-02, 2.35059872e-02,\n",
       "       2.32293526e-02, 2.20083090e-02, 2.19648909e-02, 2.16876075e-02,\n",
       "       2.09332955e-02, 2.06007933e-02, 2.04410724e-02, 1.93610411e-02,\n",
       "       1.85233625e-02, 1.73327145e-02, 1.70905052e-02, 1.59636911e-02,\n",
       "       1.57231587e-02, 1.56004269e-02, 1.55237485e-02, 1.53743215e-02,\n",
       "       1.50758975e-02, 1.46714321e-02, 1.38361320e-02, 1.37469620e-02,\n",
       "       1.36535096e-02, 1.25996742e-02, 1.23278760e-02, 1.20841130e-02,\n",
       "       1.19846442e-02, 1.15380821e-02, 1.10362239e-02, 1.01463799e-02,\n",
       "       1.01369376e-02, 9.93217948e-03, 8.77404502e-03, 8.18010067e-03,\n",
       "       8.11396637e-03, 7.76119021e-03, 7.71928791e-03, 7.59957656e-03,\n",
       "       7.01237150e-03, 6.88151004e-03, 6.10022133e-03, 5.98455552e-03,\n",
       "       5.83349006e-03, 5.76139527e-03, 5.66742599e-03, 5.54407501e-03,\n",
       "       5.27134646e-03, 5.18867003e-03, 4.24966493e-03, 4.21547649e-03,\n",
       "       4.15061862e-03, 4.11805587e-03, 3.48355663e-03, 2.92891689e-03,\n",
       "       2.29097878e-03, 2.00673295e-03, 1.59638677e-03, 1.25510326e-03,\n",
       "       1.16819653e-03, 8.62573754e-04, 8.10212137e-04, 7.87707996e-04,\n",
       "       4.67989803e-04, 3.52306610e-04, 1.58106910e-04, 0.00000000e+00,\n",
       "       0.00000000e+00, 0.00000000e+00, 0.00000000e+00, 0.00000000e+00,\n",
       "       0.00000000e+00, 0.00000000e+00, 0.00000000e+00, 0.00000000e+00,\n",
       "       0.00000000e+00, 0.00000000e+00, 0.00000000e+00, 0.00000000e+00,\n",
       "       0.00000000e+00, 0.00000000e+00, 0.00000000e+00, 0.00000000e+00,\n",
       "       0.00000000e+00, 0.00000000e+00, 0.00000000e+00, 0.00000000e+00,\n",
       "       0.00000000e+00, 0.00000000e+00, 0.00000000e+00, 0.00000000e+00,\n",
       "       0.00000000e+00, 0.00000000e+00, 0.00000000e+00, 0.00000000e+00,\n",
       "       0.00000000e+00, 0.00000000e+00, 0.00000000e+00, 0.00000000e+00,\n",
       "       0.00000000e+00, 0.00000000e+00, 0.00000000e+00, 0.00000000e+00,\n",
       "       0.00000000e+00, 0.00000000e+00, 0.00000000e+00, 0.00000000e+00,\n",
       "       0.00000000e+00, 0.00000000e+00, 0.00000000e+00, 0.00000000e+00,\n",
       "       0.00000000e+00, 0.00000000e+00, 0.00000000e+00, 0.00000000e+00,\n",
       "       0.00000000e+00, 0.00000000e+00, 0.00000000e+00, 0.00000000e+00,\n",
       "       0.00000000e+00, 0.00000000e+00, 0.00000000e+00, 0.00000000e+00,\n",
       "       0.00000000e+00, 0.00000000e+00, 0.00000000e+00, 0.00000000e+00,\n",
       "       0.00000000e+00, 0.00000000e+00, 0.00000000e+00, 0.00000000e+00,\n",
       "       0.00000000e+00, 0.00000000e+00, 0.00000000e+00, 0.00000000e+00,\n",
       "       0.00000000e+00, 0.00000000e+00, 0.00000000e+00, 0.00000000e+00,\n",
       "       0.00000000e+00, 0.00000000e+00, 0.00000000e+00, 0.00000000e+00,\n",
       "       0.00000000e+00, 0.00000000e+00, 0.00000000e+00, 0.00000000e+00,\n",
       "       0.00000000e+00, 0.00000000e+00, 0.00000000e+00, 0.00000000e+00,\n",
       "       0.00000000e+00, 0.00000000e+00, 0.00000000e+00, 0.00000000e+00,\n",
       "       0.00000000e+00, 0.00000000e+00, 0.00000000e+00, 0.00000000e+00,\n",
       "       0.00000000e+00, 0.00000000e+00, 0.00000000e+00, 0.00000000e+00,\n",
       "       0.00000000e+00, 0.00000000e+00, 0.00000000e+00, 0.00000000e+00,\n",
       "       0.00000000e+00, 0.00000000e+00, 0.00000000e+00, 0.00000000e+00,\n",
       "       0.00000000e+00, 0.00000000e+00, 0.00000000e+00, 0.00000000e+00,\n",
       "       0.00000000e+00, 0.00000000e+00, 0.00000000e+00, 0.00000000e+00,\n",
       "       0.00000000e+00, 0.00000000e+00, 0.00000000e+00, 0.00000000e+00,\n",
       "       0.00000000e+00, 0.00000000e+00, 0.00000000e+00, 0.00000000e+00,\n",
       "       0.00000000e+00, 0.00000000e+00, 0.00000000e+00, 0.00000000e+00,\n",
       "       0.00000000e+00, 0.00000000e+00, 0.00000000e+00, 0.00000000e+00,\n",
       "       0.00000000e+00, 0.00000000e+00, 0.00000000e+00, 0.00000000e+00,\n",
       "       0.00000000e+00, 0.00000000e+00, 0.00000000e+00, 0.00000000e+00,\n",
       "       0.00000000e+00, 0.00000000e+00, 0.00000000e+00, 0.00000000e+00,\n",
       "       0.00000000e+00, 0.00000000e+00, 0.00000000e+00, 0.00000000e+00,\n",
       "       0.00000000e+00, 0.00000000e+00, 0.00000000e+00, 0.00000000e+00,\n",
       "       0.00000000e+00, 0.00000000e+00, 0.00000000e+00, 0.00000000e+00,\n",
       "       0.00000000e+00, 0.00000000e+00, 0.00000000e+00, 0.00000000e+00,\n",
       "       0.00000000e+00, 0.00000000e+00, 0.00000000e+00, 0.00000000e+00,\n",
       "       0.00000000e+00, 0.00000000e+00, 0.00000000e+00, 0.00000000e+00,\n",
       "       0.00000000e+00, 0.00000000e+00, 0.00000000e+00, 0.00000000e+00,\n",
       "       0.00000000e+00, 0.00000000e+00, 0.00000000e+00, 0.00000000e+00,\n",
       "       0.00000000e+00, 0.00000000e+00, 0.00000000e+00, 0.00000000e+00,\n",
       "       0.00000000e+00, 0.00000000e+00, 0.00000000e+00, 0.00000000e+00,\n",
       "       0.00000000e+00, 0.00000000e+00, 0.00000000e+00, 0.00000000e+00,\n",
       "       0.00000000e+00, 0.00000000e+00, 0.00000000e+00, 0.00000000e+00,\n",
       "       0.00000000e+00, 0.00000000e+00, 0.00000000e+00, 0.00000000e+00,\n",
       "       0.00000000e+00, 0.00000000e+00, 0.00000000e+00, 0.00000000e+00,\n",
       "       0.00000000e+00, 0.00000000e+00, 0.00000000e+00, 0.00000000e+00,\n",
       "       0.00000000e+00, 0.00000000e+00, 0.00000000e+00, 0.00000000e+00,\n",
       "       0.00000000e+00, 0.00000000e+00, 0.00000000e+00, 0.00000000e+00,\n",
       "       0.00000000e+00, 0.00000000e+00, 0.00000000e+00, 0.00000000e+00,\n",
       "       0.00000000e+00, 0.00000000e+00, 0.00000000e+00, 0.00000000e+00,\n",
       "       0.00000000e+00, 0.00000000e+00, 0.00000000e+00, 0.00000000e+00,\n",
       "       0.00000000e+00, 0.00000000e+00, 0.00000000e+00, 0.00000000e+00,\n",
       "       0.00000000e+00, 0.00000000e+00, 0.00000000e+00, 0.00000000e+00,\n",
       "       0.00000000e+00, 0.00000000e+00, 0.00000000e+00, 0.00000000e+00,\n",
       "       0.00000000e+00, 0.00000000e+00, 0.00000000e+00, 0.00000000e+00,\n",
       "       0.00000000e+00, 0.00000000e+00, 0.00000000e+00, 0.00000000e+00,\n",
       "       0.00000000e+00, 0.00000000e+00, 0.00000000e+00, 0.00000000e+00,\n",
       "       0.00000000e+00, 0.00000000e+00, 0.00000000e+00, 0.00000000e+00,\n",
       "       0.00000000e+00, 0.00000000e+00, 0.00000000e+00, 0.00000000e+00,\n",
       "       0.00000000e+00, 0.00000000e+00, 0.00000000e+00, 0.00000000e+00,\n",
       "       0.00000000e+00, 0.00000000e+00, 0.00000000e+00, 0.00000000e+00,\n",
       "       0.00000000e+00, 0.00000000e+00, 0.00000000e+00, 0.00000000e+00,\n",
       "       0.00000000e+00, 0.00000000e+00, 0.00000000e+00, 0.00000000e+00,\n",
       "       0.00000000e+00, 0.00000000e+00, 0.00000000e+00, 0.00000000e+00,\n",
       "       0.00000000e+00, 0.00000000e+00, 0.00000000e+00, 0.00000000e+00,\n",
       "       0.00000000e+00, 0.00000000e+00, 0.00000000e+00, 0.00000000e+00,\n",
       "       0.00000000e+00, 0.00000000e+00, 0.00000000e+00, 0.00000000e+00,\n",
       "       0.00000000e+00, 0.00000000e+00, 0.00000000e+00, 0.00000000e+00,\n",
       "       0.00000000e+00, 0.00000000e+00, 0.00000000e+00, 0.00000000e+00,\n",
       "       0.00000000e+00, 0.00000000e+00, 0.00000000e+00, 0.00000000e+00,\n",
       "       0.00000000e+00, 0.00000000e+00, 0.00000000e+00, 0.00000000e+00,\n",
       "       0.00000000e+00, 0.00000000e+00, 0.00000000e+00, 0.00000000e+00,\n",
       "       0.00000000e+00, 0.00000000e+00, 0.00000000e+00, 0.00000000e+00,\n",
       "       0.00000000e+00, 0.00000000e+00, 0.00000000e+00, 0.00000000e+00,\n",
       "       0.00000000e+00, 0.00000000e+00, 0.00000000e+00, 0.00000000e+00,\n",
       "       0.00000000e+00, 0.00000000e+00, 0.00000000e+00, 0.00000000e+00,\n",
       "       0.00000000e+00, 0.00000000e+00, 0.00000000e+00, 0.00000000e+00,\n",
       "       0.00000000e+00, 0.00000000e+00, 0.00000000e+00, 0.00000000e+00,\n",
       "       0.00000000e+00, 0.00000000e+00, 0.00000000e+00, 0.00000000e+00,\n",
       "       0.00000000e+00, 0.00000000e+00, 0.00000000e+00, 0.00000000e+00,\n",
       "       0.00000000e+00, 0.00000000e+00, 0.00000000e+00, 0.00000000e+00,\n",
       "       0.00000000e+00, 0.00000000e+00, 0.00000000e+00, 0.00000000e+00,\n",
       "       0.00000000e+00, 0.00000000e+00, 0.00000000e+00, 0.00000000e+00,\n",
       "       0.00000000e+00, 0.00000000e+00, 0.00000000e+00, 0.00000000e+00,\n",
       "       0.00000000e+00, 0.00000000e+00, 0.00000000e+00, 0.00000000e+00,\n",
       "       0.00000000e+00, 0.00000000e+00, 0.00000000e+00, 0.00000000e+00,\n",
       "       0.00000000e+00, 0.00000000e+00, 0.00000000e+00, 0.00000000e+00,\n",
       "       0.00000000e+00, 0.00000000e+00, 0.00000000e+00, 0.00000000e+00,\n",
       "       0.00000000e+00, 0.00000000e+00, 0.00000000e+00, 0.00000000e+00,\n",
       "       0.00000000e+00, 0.00000000e+00, 0.00000000e+00, 0.00000000e+00,\n",
       "       0.00000000e+00, 0.00000000e+00, 0.00000000e+00, 0.00000000e+00,\n",
       "       0.00000000e+00, 0.00000000e+00, 0.00000000e+00, 0.00000000e+00,\n",
       "       0.00000000e+00, 0.00000000e+00, 0.00000000e+00, 0.00000000e+00,\n",
       "       0.00000000e+00, 0.00000000e+00, 0.00000000e+00, 0.00000000e+00,\n",
       "       0.00000000e+00, 0.00000000e+00, 0.00000000e+00, 0.00000000e+00,\n",
       "       0.00000000e+00, 0.00000000e+00, 0.00000000e+00, 0.00000000e+00,\n",
       "       0.00000000e+00, 0.00000000e+00, 0.00000000e+00, 0.00000000e+00,\n",
       "       0.00000000e+00, 0.00000000e+00, 0.00000000e+00, 0.00000000e+00,\n",
       "       0.00000000e+00, 0.00000000e+00, 0.00000000e+00, 0.00000000e+00,\n",
       "       0.00000000e+00, 0.00000000e+00, 0.00000000e+00, 0.00000000e+00,\n",
       "       0.00000000e+00, 0.00000000e+00, 0.00000000e+00, 0.00000000e+00,\n",
       "       0.00000000e+00, 0.00000000e+00, 0.00000000e+00, 0.00000000e+00,\n",
       "       0.00000000e+00, 0.00000000e+00, 0.00000000e+00, 0.00000000e+00,\n",
       "       0.00000000e+00, 0.00000000e+00, 0.00000000e+00, 0.00000000e+00,\n",
       "       0.00000000e+00, 0.00000000e+00, 0.00000000e+00, 0.00000000e+00,\n",
       "       0.00000000e+00, 0.00000000e+00, 0.00000000e+00, 0.00000000e+00,\n",
       "       0.00000000e+00, 0.00000000e+00, 0.00000000e+00, 0.00000000e+00,\n",
       "       0.00000000e+00, 0.00000000e+00, 0.00000000e+00, 0.00000000e+00,\n",
       "       0.00000000e+00, 0.00000000e+00, 0.00000000e+00, 0.00000000e+00,\n",
       "       0.00000000e+00, 0.00000000e+00, 0.00000000e+00, 0.00000000e+00,\n",
       "       0.00000000e+00, 0.00000000e+00, 0.00000000e+00, 0.00000000e+00,\n",
       "       0.00000000e+00, 0.00000000e+00, 0.00000000e+00, 0.00000000e+00,\n",
       "       0.00000000e+00, 0.00000000e+00, 0.00000000e+00, 0.00000000e+00,\n",
       "       0.00000000e+00, 0.00000000e+00, 0.00000000e+00, 0.00000000e+00,\n",
       "       0.00000000e+00, 0.00000000e+00, 0.00000000e+00, 0.00000000e+00,\n",
       "       0.00000000e+00, 0.00000000e+00, 0.00000000e+00, 0.00000000e+00,\n",
       "       0.00000000e+00, 0.00000000e+00, 0.00000000e+00, 0.00000000e+00,\n",
       "       0.00000000e+00, 0.00000000e+00, 0.00000000e+00, 0.00000000e+00,\n",
       "       0.00000000e+00, 0.00000000e+00, 0.00000000e+00, 0.00000000e+00,\n",
       "       0.00000000e+00, 0.00000000e+00, 0.00000000e+00, 0.00000000e+00,\n",
       "       0.00000000e+00, 0.00000000e+00, 0.00000000e+00, 0.00000000e+00,\n",
       "       0.00000000e+00, 0.00000000e+00, 0.00000000e+00, 0.00000000e+00,\n",
       "       0.00000000e+00, 0.00000000e+00, 0.00000000e+00, 0.00000000e+00])"
      ]
     },
     "execution_count": 92,
     "metadata": {},
     "output_type": "execute_result"
    }
   ],
   "source": [
    "np.sort(abs(lcv.coef_))[::-1]"
   ]
  },
  {
   "cell_type": "code",
   "execution_count": 93,
   "metadata": {},
   "outputs": [
    {
     "data": {
      "text/plain": [
       "0.7903726708074534"
      ]
     },
     "execution_count": 93,
     "metadata": {},
     "output_type": "execute_result"
    }
   ],
   "source": [
    "not0lasso = 0\n",
    "for notzero in lcv.coef_:\n",
    "    if notzero == 0:\n",
    "        not0lasso += 1\n",
    "not0lasso/ len(lcv.coef_)\n",
    "\n",
    "# 79% of the coefficents have been zeroed out"
   ]
  },
  {
   "cell_type": "code",
   "execution_count": 94,
   "metadata": {},
   "outputs": [
    {
     "data": {
      "text/plain": [
       "579"
      ]
     },
     "execution_count": 94,
     "metadata": {},
     "output_type": "execute_result"
    }
   ],
   "source": [
    "np.argmax(lcv.coef_)"
   ]
  },
  {
   "cell_type": "code",
   "execution_count": 95,
   "metadata": {},
   "outputs": [
    {
     "data": {
      "text/plain": [
       "1.2311204562269409"
      ]
     },
     "execution_count": 95,
     "metadata": {},
     "output_type": "execute_result"
    }
   ],
   "source": [
    "lcv.coef_[579]"
   ]
  },
  {
   "cell_type": "code",
   "execution_count": 96,
   "metadata": {},
   "outputs": [
    {
     "data": {
      "text/plain": [
       "'COMBINED_SHOT_TYPE:hook_shot'"
      ]
     },
     "execution_count": 96,
     "metadata": {},
     "output_type": "execute_result"
    }
   ],
   "source": [
    "kobe.columns[579]\n",
    "#Hook Shot is most correlated "
   ]
  },
  {
   "cell_type": "code",
   "execution_count": 97,
   "metadata": {},
   "outputs": [
    {
     "data": {
      "text/plain": [
       "<matplotlib.collections.PathCollection at 0x2698002ac18>"
      ]
     },
     "execution_count": 97,
     "metadata": {},
     "output_type": "execute_result"
    },
    {
     "data": {
      "image/png": "[encoded data removed]",
      "text/plain": [
       "<Figure size 432x288 with 1 Axes>"
      ]
     },
     "metadata": {
      "image/png": {
       "height": 244,
       "width": 406
      },
      "needs_background": "light"
     },
     "output_type": "display_data"
    }
   ],
   "source": [
    "plt.scatter(kobe['COMBINED_SHOT_TYPE:hook_shot'], kobe['SHOTS_MADE'])"
   ]
  },
  {
   "cell_type": "markdown",
   "metadata": {},
   "source": [
    "---\n",
    "\n",
    "### 10) Find an optimal value for elastic net regression alpha using `ElasticNetCV`.\n",
    "\n",
    "Go to the documentation and [read how ElasticNetCV works](http://scikit-learn.org/stable/modules/generated/sklearn.linear_model.ElasticNetCV.html).\n",
    "\n",
    "Note that here you'll be optimizing both the alpha parameter and the l1_ratio:\n",
    "- `alpha`: Strength of regularization.\n",
    "- `l1_ratio`: Amount of ridge vs. lasso (0 = all ridge, 1 = all lasso).\n",
    "    \n",
    "Do not include 0 in the search for `l1_ratio` — it won't allow it and will break.\n",
    "\n",
    "You can use `n_alphas` for the alpha parameters instead of setting your own values, which we highly recommend.\n",
    "\n",
    "Also, be careful setting too many l1_ratios over cross-validation folds in your search. It can take a long time if you choose too many combinations and, for the most part, there are diminishing returns in this data."
   ]
  },
  {
   "cell_type": "code",
   "execution_count": 98,
   "metadata": {
    "collapsed": true
   },
   "outputs": [
    {
     "data": {
      "text/plain": [
       "0.06857472683790841"
      ]
     },
     "execution_count": 98,
     "metadata": {},
     "output_type": "execute_result"
    }
   ],
   "source": [
    "import numpy as np\n",
    "\n",
    "# Ridge: 1742.6333860096508\n",
    "# Lasso: 0.07610097429914478\n",
    "\n",
    "enet_model = ElasticNetCV(n_alphas=200, l1_ratio=[.01, .25,.50,.75, 1],  cv=10)\n",
    "enet_model = enet_model.fit(kX, y)\n",
    "enet_model.alpha_\n"
   ]
  },
  {
   "cell_type": "code",
   "execution_count": 99,
   "metadata": {},
   "outputs": [
    {
     "data": {
      "text/plain": [
       "1.0"
      ]
     },
     "execution_count": 99,
     "metadata": {},
     "output_type": "execute_result"
    }
   ],
   "source": [
    "enet_model.l1_ratio_"
   ]
  },
  {
   "cell_type": "code",
   "execution_count": 112,
   "metadata": {},
   "outputs": [
    {
     "data": {
      "text/plain": [
       "0.7099635073522508"
      ]
     },
     "execution_count": 112,
     "metadata": {},
     "output_type": "execute_result"
    }
   ],
   "source": [
    "enet_model.score(kX, y)"
   ]
  },
  {
   "cell_type": "markdown",
   "metadata": {},
   "source": [
    "---\n",
    "\n",
    "### 11) Cross-validate the elastic net $R^2$ with the optimal alpha and l1_ratio.\n",
    "\n",
    "How does it compare to the ridge and lasso regularized regressions?"
   ]
  },
  {
   "cell_type": "code",
   "execution_count": null,
   "metadata": {},
   "outputs": [],
   "source": [
    "#It's a lower score than ridge and the Elastic net model believes optimium\n",
    "# would be to adopt a strict lasso regularization to\n",
    "# reduce the high variance which may be noise in our data"
   ]
  },
  {
   "cell_type": "code",
   "execution_count": null,
   "metadata": {
    "collapsed": true
   },
   "outputs": [],
   "source": []
  },
  {
   "cell_type": "markdown",
   "metadata": {},
   "source": [
    "---\n",
    "\n",
    "### 12. [Bonus] Compare the residuals for ridge and lasso visually.\n"
   ]
  },
  {
   "cell_type": "code",
   "execution_count": 102,
   "metadata": {
    "collapsed": true
   },
   "outputs": [],
   "source": [
    "# A: Maybe a jointplot?"
   ]
  }
 ],
 "metadata": {
  "kernelspec": {
   "display_name": "Python 3",
   "language": "python",
   "name": "python3"
  },
  "language_info": {
   "codemirror_mode": {
    "name": "ipython",
    "version": 3
   },
   "file_extension": ".py",
   "mimetype": "text/x-python",
   "name": "python",
   "nbconvert_exporter": "python",
   "pygments_lexer": "ipython3",
   "version": "3.6.6"
  }
 },
 "nbformat": 4,
 "nbformat_minor": 2
}
