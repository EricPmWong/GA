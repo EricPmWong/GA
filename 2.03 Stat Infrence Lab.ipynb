{
  "cells": [
    {
      "cell_type": "markdown",
      "source": [
        "<img src=\"http://imgur.com/1ZcRyrc.png\" style=\"float: left; margin: 20px; height: 55px\">\n",
        "\n",
        "# Inferential Statistics Lab\n",
        "\n_Author: Matt Brems (DC)_"
      ],
      "metadata": {}
    },
    {
      "cell_type": "markdown",
      "source": [
        "Head to the `data` folder. There are two files:\n",
        "- `crx_names.txt`: This summarizes the source of the data and provides information that is important to understanding what the data mean. **Be sure to read this first!**\n",
        "- `crx_data.csv`: This will be the data itself. **Note that there are no column headers.**\n",
        "\nA source of the data is [here](https://archive.ics.uci.edu/ml/datasets/Japanese+Credit+Screening) if you would like to learn more."
      ],
      "metadata": {}
    },
    {
      "cell_type": "markdown",
      "source": [
        "**Exercise 1**: Load the data in using any method that you choose."
      ],
      "metadata": {}
    },
    {
      "cell_type": "code",
      "source": [
        "import pandas as pd\n",
        "import numpy as np\n",
        "import scipy.stats as stats"
      ],
      "outputs": [],
      "execution_count": 51,
      "metadata": {}
    },
    {
      "cell_type": "code",
      "source": [
        "df = pd.read_csv(\"data/crx_data.csv\", header=None)\n"
      ],
      "outputs": [
        {
          "output_type": "execute_result",
          "execution_count": 70,
          "data": {
            "text/plain": [
              "  0      1      2  3  4  5  6     7  8  9   10 11 12     13   14 15\n",
              "0  b  30.83  0.000  u  g  w  v  1.25  t  t   1  f  g  00202    0  +\n",
              "1  a  58.67  4.460  u  g  q  h  3.04  t  t   6  f  g  00043  560  +\n",
              "2  a  24.50  0.500  u  g  q  h  1.50  t  f   0  f  g  00280  824  +\n",
              "3  b  27.83  1.540  u  g  w  v  3.75  t  t   5  t  g  00100    3  +\n",
              "4  b  20.17  5.625  u  g  w  v  1.71  t  f   0  f  s  00120    0  +"
            ],
            "text/html": [
              "<div>\n",
              "<style scoped>\n",
              "    .dataframe tbody tr th:only-of-type {\n",
              "        vertical-align: middle;\n",
              "    }\n",
              "\n",
              "    .dataframe tbody tr th {\n",
              "        vertical-align: top;\n",
              "    }\n",
              "\n",
              "    .dataframe thead th {\n",
              "        text-align: right;\n",
              "    }\n",
              "</style>\n",
              "<table border=\"1\" class=\"dataframe\">\n",
              "  <thead>\n",
              "    <tr style=\"text-align: right;\">\n",
              "      <th></th>\n",
              "      <th>0</th>\n",
              "      <th>1</th>\n",
              "      <th>2</th>\n",
              "      <th>3</th>\n",
              "      <th>4</th>\n",
              "      <th>5</th>\n",
              "      <th>6</th>\n",
              "      <th>7</th>\n",
              "      <th>8</th>\n",
              "      <th>9</th>\n",
              "      <th>10</th>\n",
              "      <th>11</th>\n",
              "      <th>12</th>\n",
              "      <th>13</th>\n",
              "      <th>14</th>\n",
              "      <th>15</th>\n",
              "    </tr>\n",
              "  </thead>\n",
              "  <tbody>\n",
              "    <tr>\n",
              "      <th>0</th>\n",
              "      <td>b</td>\n",
              "      <td>30.83</td>\n",
              "      <td>0.000</td>\n",
              "      <td>u</td>\n",
              "      <td>g</td>\n",
              "      <td>w</td>\n",
              "      <td>v</td>\n",
              "      <td>1.25</td>\n",
              "      <td>t</td>\n",
              "      <td>t</td>\n",
              "      <td>1</td>\n",
              "      <td>f</td>\n",
              "      <td>g</td>\n",
              "      <td>00202</td>\n",
              "      <td>0</td>\n",
              "      <td>+</td>\n",
              "    </tr>\n",
              "    <tr>\n",
              "      <th>1</th>\n",
              "      <td>a</td>\n",
              "      <td>58.67</td>\n",
              "      <td>4.460</td>\n",
              "      <td>u</td>\n",
              "      <td>g</td>\n",
              "      <td>q</td>\n",
              "      <td>h</td>\n",
              "      <td>3.04</td>\n",
              "      <td>t</td>\n",
              "      <td>t</td>\n",
              "      <td>6</td>\n",
              "      <td>f</td>\n",
              "      <td>g</td>\n",
              "      <td>00043</td>\n",
              "      <td>560</td>\n",
              "      <td>+</td>\n",
              "    </tr>\n",
              "    <tr>\n",
              "      <th>2</th>\n",
              "      <td>a</td>\n",
              "      <td>24.50</td>\n",
              "      <td>0.500</td>\n",
              "      <td>u</td>\n",
              "      <td>g</td>\n",
              "      <td>q</td>\n",
              "      <td>h</td>\n",
              "      <td>1.50</td>\n",
              "      <td>t</td>\n",
              "      <td>f</td>\n",
              "      <td>0</td>\n",
              "      <td>f</td>\n",
              "      <td>g</td>\n",
              "      <td>00280</td>\n",
              "      <td>824</td>\n",
              "      <td>+</td>\n",
              "    </tr>\n",
              "    <tr>\n",
              "      <th>3</th>\n",
              "      <td>b</td>\n",
              "      <td>27.83</td>\n",
              "      <td>1.540</td>\n",
              "      <td>u</td>\n",
              "      <td>g</td>\n",
              "      <td>w</td>\n",
              "      <td>v</td>\n",
              "      <td>3.75</td>\n",
              "      <td>t</td>\n",
              "      <td>t</td>\n",
              "      <td>5</td>\n",
              "      <td>t</td>\n",
              "      <td>g</td>\n",
              "      <td>00100</td>\n",
              "      <td>3</td>\n",
              "      <td>+</td>\n",
              "    </tr>\n",
              "    <tr>\n",
              "      <th>4</th>\n",
              "      <td>b</td>\n",
              "      <td>20.17</td>\n",
              "      <td>5.625</td>\n",
              "      <td>u</td>\n",
              "      <td>g</td>\n",
              "      <td>w</td>\n",
              "      <td>v</td>\n",
              "      <td>1.71</td>\n",
              "      <td>t</td>\n",
              "      <td>f</td>\n",
              "      <td>0</td>\n",
              "      <td>f</td>\n",
              "      <td>s</td>\n",
              "      <td>00120</td>\n",
              "      <td>0</td>\n",
              "      <td>+</td>\n",
              "    </tr>\n",
              "  </tbody>\n",
              "</table>\n",
              "</div>"
            ]
          },
          "metadata": {}
        }
      ],
      "execution_count": 70,
      "metadata": {
        "collapsed": false,
        "outputHidden": false,
        "inputHidden": false
      }
    },
    {
      "cell_type": "markdown",
      "source": [
        "**Exercise 2**: Note that there are no meaningful column names. Why is this the case? Do you agree with this or disagree with this?"
      ],
      "metadata": {}
    },
    {
      "cell_type": "markdown",
      "source": [
        "**Answer**: According to the text file the column titles has been changed and removed in the interest of confidentiality of credit data. This makes sense but I would believe there are better ways to do this without have the data be inherently hard to decipher to anyone who sees it."
      ],
      "metadata": {}
    },
    {
      "cell_type": "markdown",
      "source": [
        "**Exercise 3:** You want to give names to each column. Read the following line of code:\n",
        "\n",
        "```python\n",
        "['X' + str(i) for i in range(1,17)]\n",
        "```\n",
        "\nBefore running this line of code, what will this create? Go ahead and use this for the column names."
      ],
      "metadata": {}
    },
    {
      "cell_type": "markdown",
      "source": [
        "**Answer**: It will give a list with the letter X and a number per line of string from 1 to 16"
      ],
      "metadata": {}
    },
    {
      "cell_type": "code",
      "source": [
        "new_header = ['X' + str(i) for i in range(1,17)]\n",
        "df = df[0:]\n",
        "df.columns = new_header\n",
        "df.head()"
      ],
      "outputs": [
        {
          "output_type": "execute_result",
          "execution_count": 71,
          "data": {
            "text/plain": [
              "  X1     X2     X3 X4 X5 X6 X7    X8 X9 X10  X11 X12 X13    X14  X15 X16\n",
              "0  b  30.83  0.000  u  g  w  v  1.25  t   t    1   f   g  00202    0   +\n",
              "1  a  58.67  4.460  u  g  q  h  3.04  t   t    6   f   g  00043  560   +\n",
              "2  a  24.50  0.500  u  g  q  h  1.50  t   f    0   f   g  00280  824   +\n",
              "3  b  27.83  1.540  u  g  w  v  3.75  t   t    5   t   g  00100    3   +\n",
              "4  b  20.17  5.625  u  g  w  v  1.71  t   f    0   f   s  00120    0   +"
            ],
            "text/html": [
              "<div>\n",
              "<style scoped>\n",
              "    .dataframe tbody tr th:only-of-type {\n",
              "        vertical-align: middle;\n",
              "    }\n",
              "\n",
              "    .dataframe tbody tr th {\n",
              "        vertical-align: top;\n",
              "    }\n",
              "\n",
              "    .dataframe thead th {\n",
              "        text-align: right;\n",
              "    }\n",
              "</style>\n",
              "<table border=\"1\" class=\"dataframe\">\n",
              "  <thead>\n",
              "    <tr style=\"text-align: right;\">\n",
              "      <th></th>\n",
              "      <th>X1</th>\n",
              "      <th>X2</th>\n",
              "      <th>X3</th>\n",
              "      <th>X4</th>\n",
              "      <th>X5</th>\n",
              "      <th>X6</th>\n",
              "      <th>X7</th>\n",
              "      <th>X8</th>\n",
              "      <th>X9</th>\n",
              "      <th>X10</th>\n",
              "      <th>X11</th>\n",
              "      <th>X12</th>\n",
              "      <th>X13</th>\n",
              "      <th>X14</th>\n",
              "      <th>X15</th>\n",
              "      <th>X16</th>\n",
              "    </tr>\n",
              "  </thead>\n",
              "  <tbody>\n",
              "    <tr>\n",
              "      <th>0</th>\n",
              "      <td>b</td>\n",
              "      <td>30.83</td>\n",
              "      <td>0.000</td>\n",
              "      <td>u</td>\n",
              "      <td>g</td>\n",
              "      <td>w</td>\n",
              "      <td>v</td>\n",
              "      <td>1.25</td>\n",
              "      <td>t</td>\n",
              "      <td>t</td>\n",
              "      <td>1</td>\n",
              "      <td>f</td>\n",
              "      <td>g</td>\n",
              "      <td>00202</td>\n",
              "      <td>0</td>\n",
              "      <td>+</td>\n",
              "    </tr>\n",
              "    <tr>\n",
              "      <th>1</th>\n",
              "      <td>a</td>\n",
              "      <td>58.67</td>\n",
              "      <td>4.460</td>\n",
              "      <td>u</td>\n",
              "      <td>g</td>\n",
              "      <td>q</td>\n",
              "      <td>h</td>\n",
              "      <td>3.04</td>\n",
              "      <td>t</td>\n",
              "      <td>t</td>\n",
              "      <td>6</td>\n",
              "      <td>f</td>\n",
              "      <td>g</td>\n",
              "      <td>00043</td>\n",
              "      <td>560</td>\n",
              "      <td>+</td>\n",
              "    </tr>\n",
              "    <tr>\n",
              "      <th>2</th>\n",
              "      <td>a</td>\n",
              "      <td>24.50</td>\n",
              "      <td>0.500</td>\n",
              "      <td>u</td>\n",
              "      <td>g</td>\n",
              "      <td>q</td>\n",
              "      <td>h</td>\n",
              "      <td>1.50</td>\n",
              "      <td>t</td>\n",
              "      <td>f</td>\n",
              "      <td>0</td>\n",
              "      <td>f</td>\n",
              "      <td>g</td>\n",
              "      <td>00280</td>\n",
              "      <td>824</td>\n",
              "      <td>+</td>\n",
              "    </tr>\n",
              "    <tr>\n",
              "      <th>3</th>\n",
              "      <td>b</td>\n",
              "      <td>27.83</td>\n",
              "      <td>1.540</td>\n",
              "      <td>u</td>\n",
              "      <td>g</td>\n",
              "      <td>w</td>\n",
              "      <td>v</td>\n",
              "      <td>3.75</td>\n",
              "      <td>t</td>\n",
              "      <td>t</td>\n",
              "      <td>5</td>\n",
              "      <td>t</td>\n",
              "      <td>g</td>\n",
              "      <td>00100</td>\n",
              "      <td>3</td>\n",
              "      <td>+</td>\n",
              "    </tr>\n",
              "    <tr>\n",
              "      <th>4</th>\n",
              "      <td>b</td>\n",
              "      <td>20.17</td>\n",
              "      <td>5.625</td>\n",
              "      <td>u</td>\n",
              "      <td>g</td>\n",
              "      <td>w</td>\n",
              "      <td>v</td>\n",
              "      <td>1.71</td>\n",
              "      <td>t</td>\n",
              "      <td>f</td>\n",
              "      <td>0</td>\n",
              "      <td>f</td>\n",
              "      <td>s</td>\n",
              "      <td>00120</td>\n",
              "      <td>0</td>\n",
              "      <td>+</td>\n",
              "    </tr>\n",
              "  </tbody>\n",
              "</table>\n",
              "</div>"
            ]
          },
          "metadata": {}
        }
      ],
      "execution_count": 71,
      "metadata": {}
    },
    {
      "cell_type": "markdown",
      "source": [
        "s**Exercise 4**: Count the number of missing values in each column. (There are multiple ways to do this.)"
      ],
      "metadata": {}
    },
    {
      "cell_type": "code",
      "source": [
        "#Counts nans and then summing them\n",
        "df.info()\n",
        "df.isna().sum()\n",
        "#no NanS"
      ],
      "outputs": [
        {
          "output_type": "stream",
          "name": "stdout",
          "text": [
            "<class 'pandas.core.frame.DataFrame'>\n",
            "RangeIndex: 690 entries, 0 to 689\n",
            "Data columns (total 16 columns):\n",
            "X1     690 non-null object\n",
            "X2     690 non-null object\n",
            "X3     690 non-null float64\n",
            "X4     690 non-null object\n",
            "X5     690 non-null object\n",
            "X6     690 non-null object\n",
            "X7     690 non-null object\n",
            "X8     690 non-null float64\n",
            "X9     690 non-null object\n",
            "X10    690 non-null object\n",
            "X11    690 non-null int64\n",
            "X12    690 non-null object\n",
            "X13    690 non-null object\n",
            "X14    690 non-null object\n",
            "X15    690 non-null int64\n",
            "X16    690 non-null object\n",
            "dtypes: float64(2), int64(2), object(12)\n",
            "memory usage: 86.3+ KB\n"
          ]
        },
        {
          "output_type": "execute_result",
          "execution_count": 54,
          "data": {
            "text/plain": [
              "X1     0\n",
              "X2     0\n",
              "X3     0\n",
              "X4     0\n",
              "X5     0\n",
              "X6     0\n",
              "X7     0\n",
              "X8     0\n",
              "X9     0\n",
              "X10    0\n",
              "X11    0\n",
              "X12    0\n",
              "X13    0\n",
              "X14    0\n",
              "X15    0\n",
              "X16    0\n",
              "dtype: int64"
            ]
          },
          "metadata": {}
        }
      ],
      "execution_count": 54,
      "metadata": {}
    },
    {
      "cell_type": "code",
      "source": [
        "#Filter views to find question marks. And then returns the sum of the NonNAs, aka. the questions marks. \n",
        "df[(df == '?')].notna().sum()\n"
      ],
      "outputs": [
        {
          "output_type": "execute_result",
          "execution_count": 55,
          "data": {
            "text/plain": [
              "X1     12\n",
              "X2     12\n",
              "X3      0\n",
              "X4      6\n",
              "X5      6\n",
              "X6      9\n",
              "X7      9\n",
              "X8      0\n",
              "X9      0\n",
              "X10     0\n",
              "X11     0\n",
              "X12     0\n",
              "X13     0\n",
              "X14    13\n",
              "X15     0\n",
              "X16     0\n",
              "dtype: int64"
            ]
          },
          "metadata": {}
        }
      ],
      "execution_count": 55,
      "metadata": {
        "collapsed": false,
        "outputHidden": false,
        "inputHidden": false
      }
    },
    {
      "cell_type": "markdown",
      "source": [
        "**Exercise 5**: Our goal is to learn about the population of interest. In this case, our population is all credit applications submitted to this company.\n",
        "\nHow would you describe the sample here?"
      ],
      "metadata": {}
    },
    {
      "cell_type": "markdown",
      "source": [
        "**Answer**: The sample represents a number of 689 credit applications submitted to this bank who were rejected or approved."
      ],
      "metadata": {}
    },
    {
      "cell_type": "markdown",
      "source": [
        "**Exercise 6**: Our goal is to learn about the population of interest. In this case, our population is all credit applications submitted to this company. We specifically want to estimate the true proportion of approved applications for this company.\n",
        "\n",
        "What is the parameter here? What is the statistic here? \n",
        "> Be sure to identify which is which!"
      ],
      "metadata": {}
    },
    {
      "cell_type": "markdown",
      "source": [
        "**Answer**: The statistic is the percent of pooled applications for this sample of 689. The parameter applies to the population for all credit applications submitted to the company. "
      ],
      "metadata": {}
    },
    {
      "cell_type": "markdown",
      "source": [
        "**Exercise 7**: Recall that the formula for a confidence interval is:\n",
        "\n",
        "$$\n",
        "\\text{[sample statistic] } \\pm \\text{[multiplier] } \\times \\text{[standard deviation of sampling distribution]}\n",
        "$$\n",
        "\n",
        "Calculate the:\n",
        "- sample percentage of `+` applications\n",
        "- sample standard deviation of `+` applications\n",
        "- size of our sample.\n",
        "\n",
        "Use these to generate a 95% confidence interval for the true proportion of approved applications for this company. Note that column `X16` identifies which applications in our sample were approved (`+`) and denied (`-`).\n",
        "\n> Some data \"munging\" (cleaning/transforming) may be required!"
      ],
      "metadata": {}
    },
    {
      "cell_type": "code",
      "source": [
        "for x in range(0, len(df)):\n",
        "    try:\n",
        "        df['X2'] = pd.to_numeric(df.X2)\n",
        "    except:\n",
        "        pass"
      ],
      "outputs": [],
      "execution_count": 56,
      "metadata": {}
    },
    {
      "cell_type": "code",
      "source": [
        "#Converting columns to numberic instead of object\n",
        "for x in range(0, len(df)):\n",
        "    try:\n",
        "        df['X14'] = pd.to_numeric(df.X14)   \n",
        "    except:\n",
        "        pass\n"
      ],
      "outputs": [],
      "execution_count": 57,
      "metadata": {
        "collapsed": false,
        "outputHidden": false,
        "inputHidden": false
      }
    },
    {
      "cell_type": "code",
      "source": [
        "#Caclulates the amount of + and - and then converting it to percentages\n",
        "plusminusper = (df['X16'].value_counts()) / len(df['X16'])\n",
        "plusminusper"
      ],
      "outputs": [
        {
          "output_type": "execute_result",
          "execution_count": 58,
          "data": {
            "text/plain": [
              "-    0.555072\n",
              "+    0.444928\n",
              "Name: X16, dtype: float64"
            ]
          },
          "metadata": {}
        }
      ],
      "execution_count": 58,
      "metadata": {
        "collapsed": false,
        "outputHidden": false,
        "inputHidden": false
      }
    },
    {
      "cell_type": "code",
      "source": [
        "x16mean = np.mean((df['X16'] == '+'))\n",
        "x16mean"
      ],
      "outputs": [
        {
          "output_type": "execute_result",
          "execution_count": 59,
          "data": {
            "text/plain": [
              "0.4449275362318841"
            ]
          },
          "metadata": {}
        }
      ],
      "execution_count": 59,
      "metadata": {
        "collapsed": false,
        "outputHidden": false,
        "inputHidden": false
      }
    },
    {
      "cell_type": "code",
      "source": [
        "#Finding STD\n",
        "stdx16 = (df['X16'] == '+')\n",
        "stdx16 = stdx16*1\n",
        "stdx16 = np.std(stdx16)\n",
        "stdx16"
      ],
      "outputs": [
        {
          "output_type": "execute_result",
          "execution_count": 60,
          "data": {
            "text/plain": [
              "0.4969577685623922"
            ]
          },
          "metadata": {}
        }
      ],
      "execution_count": 60,
      "metadata": {
        "collapsed": false,
        "outputHidden": false,
        "inputHidden": false
      }
    },
    {
      "cell_type": "code",
      "source": [
        "n = len(df['X16'])"
      ],
      "outputs": [],
      "execution_count": 61,
      "metadata": {
        "collapsed": false,
        "outputHidden": false,
        "inputHidden": false
      }
    },
    {
      "cell_type": "code",
      "source": [
        "#Finding confidence interval\n",
        "round(x16mean + 1.96 * stdx16 / (n ** 0.5), 4)\n"
      ],
      "outputs": [
        {
          "output_type": "execute_result",
          "execution_count": 62,
          "data": {
            "text/plain": [
              "0.482"
            ]
          },
          "metadata": {}
        }
      ],
      "execution_count": 62,
      "metadata": {
        "collapsed": false,
        "outputHidden": false,
        "inputHidden": false
      }
    },
    {
      "cell_type": "code",
      "source": [
        "round(x16mean - 1.96 * stdx16 / (n ** 0.5), 4)"
      ],
      "outputs": [
        {
          "output_type": "execute_result",
          "execution_count": 63,
          "data": {
            "text/plain": [
              "0.4078"
            ]
          },
          "metadata": {}
        }
      ],
      "execution_count": 63,
      "metadata": {
        "collapsed": false,
        "outputHidden": false,
        "inputHidden": false
      }
    },
    {
      "cell_type": "markdown",
      "source": [
        "|**Answer**: We are 95% confident that the number of passed credit applications is between 49.07% and 41.42% "
      ],
      "metadata": {}
    },
    {
      "cell_type": "markdown",
      "source": [
        "**Exercise 8**: Interpret the above interval.\n",
        "> The confidence interval represents that with 95% confidence that the true population mean lies between the two confidence intervals of 49.07% and 41.42% based on our sample."
      ],
      "metadata": {}
    },
    {
      "cell_type": "markdown",
      "source": [
        "**Answer**:  The confidence interval represents that with 95% confidence that the true population mean lies between the two confidence intervals of 49.07% and 41.42% based on our sample."
      ],
      "metadata": {
        "collapsed": true
      }
    },
    {
      "cell_type": "markdown",
      "source": [
        "**Exercise 9**: Define a function named `conf_int()` that accepts two arguments: \n",
        "- `data`, which should be an array or Series of data\n",
        "- `conf_level`, which should be either `90`, `95`, or `99`.\n",
        "\n",
        "Your function should return the 90% confidence interval, 95% confidence interval, or 99% confidence interval, depending on what value the user selected. **Set the default to be 95.**\n",
        "\n",
        "> For a 90% confidence interval, the multiplier is 1.645.\n",
        "\n",
        "> For a 95% confidence interval, the multiplier is 1.96.\n",
        "\n> For a 99% confidence interval, the multiplier is 2.576."
      ],
      "metadata": {}
    },
    {
      "cell_type": "code",
      "source": [
        "def conf_int(data, conf_level):\n",
        "    mean = np.mean(data)\n",
        "    std = np.std(data)\n",
        "    n = len(data)\n",
        "    \n",
        "    \n",
        "    if conf_level == 90:\n",
        "        con = 1.645\n",
        "    elif conf_level == 99:\n",
        "        con = 2.576\n",
        "    else: \n",
        "        con = 1.96\n",
        "    \n",
        "    return ( round(mean - con * std / (n ** 0.5), 4) ), ( round(mean + con * std / (n ** 0.5), 4) )"
      ],
      "outputs": [],
      "execution_count": 64,
      "metadata": {}
    },
    {
      "cell_type": "markdown",
      "source": [
        "**Exercise 10**: Test your function to find the 99% confidence interval for the mean of `X3`. Your answer should be **(4.2709, 5.2466)**. Also interpret the interval."
      ],
      "metadata": {}
    },
    {
      "cell_type": "code",
      "source": [
        "conf_int(df['X3'], 99)"
      ],
      "outputs": [
        {
          "output_type": "execute_result",
          "execution_count": 65,
          "data": {
            "text/plain": [
              "(4.2709, 5.2466)"
            ]
          },
          "metadata": {}
        }
      ],
      "execution_count": 65,
      "metadata": {}
    },
    {
      "cell_type": "code",
      "source": [
        "df.head()"
      ],
      "outputs": [
        {
          "output_type": "execute_result",
          "execution_count": 66,
          "data": {
            "text/plain": [
              "  X1     X2     X3 X4 X5 X6 X7    X8 X9 X10  X11 X12 X13    X14  X15 X16\n",
              "0  b  30.83  0.000  u  g  w  v  1.25  t   t    1   f   g  00202    0   +\n",
              "1  a  58.67  4.460  u  g  q  h  3.04  t   t    6   f   g  00043  560   +\n",
              "2  a  24.50  0.500  u  g  q  h  1.50  t   f    0   f   g  00280  824   +\n",
              "3  b  27.83  1.540  u  g  w  v  3.75  t   t    5   t   g  00100    3   +\n",
              "4  b  20.17  5.625  u  g  w  v  1.71  t   f    0   f   s  00120    0   +"
            ],
            "text/html": [
              "<div>\n",
              "<style scoped>\n",
              "    .dataframe tbody tr th:only-of-type {\n",
              "        vertical-align: middle;\n",
              "    }\n",
              "\n",
              "    .dataframe tbody tr th {\n",
              "        vertical-align: top;\n",
              "    }\n",
              "\n",
              "    .dataframe thead th {\n",
              "        text-align: right;\n",
              "    }\n",
              "</style>\n",
              "<table border=\"1\" class=\"dataframe\">\n",
              "  <thead>\n",
              "    <tr style=\"text-align: right;\">\n",
              "      <th></th>\n",
              "      <th>X1</th>\n",
              "      <th>X2</th>\n",
              "      <th>X3</th>\n",
              "      <th>X4</th>\n",
              "      <th>X5</th>\n",
              "      <th>X6</th>\n",
              "      <th>X7</th>\n",
              "      <th>X8</th>\n",
              "      <th>X9</th>\n",
              "      <th>X10</th>\n",
              "      <th>X11</th>\n",
              "      <th>X12</th>\n",
              "      <th>X13</th>\n",
              "      <th>X14</th>\n",
              "      <th>X15</th>\n",
              "      <th>X16</th>\n",
              "    </tr>\n",
              "  </thead>\n",
              "  <tbody>\n",
              "    <tr>\n",
              "      <th>0</th>\n",
              "      <td>b</td>\n",
              "      <td>30.83</td>\n",
              "      <td>0.000</td>\n",
              "      <td>u</td>\n",
              "      <td>g</td>\n",
              "      <td>w</td>\n",
              "      <td>v</td>\n",
              "      <td>1.25</td>\n",
              "      <td>t</td>\n",
              "      <td>t</td>\n",
              "      <td>1</td>\n",
              "      <td>f</td>\n",
              "      <td>g</td>\n",
              "      <td>00202</td>\n",
              "      <td>0</td>\n",
              "      <td>+</td>\n",
              "    </tr>\n",
              "    <tr>\n",
              "      <th>1</th>\n",
              "      <td>a</td>\n",
              "      <td>58.67</td>\n",
              "      <td>4.460</td>\n",
              "      <td>u</td>\n",
              "      <td>g</td>\n",
              "      <td>q</td>\n",
              "      <td>h</td>\n",
              "      <td>3.04</td>\n",
              "      <td>t</td>\n",
              "      <td>t</td>\n",
              "      <td>6</td>\n",
              "      <td>f</td>\n",
              "      <td>g</td>\n",
              "      <td>00043</td>\n",
              "      <td>560</td>\n",
              "      <td>+</td>\n",
              "    </tr>\n",
              "    <tr>\n",
              "      <th>2</th>\n",
              "      <td>a</td>\n",
              "      <td>24.50</td>\n",
              "      <td>0.500</td>\n",
              "      <td>u</td>\n",
              "      <td>g</td>\n",
              "      <td>q</td>\n",
              "      <td>h</td>\n",
              "      <td>1.50</td>\n",
              "      <td>t</td>\n",
              "      <td>f</td>\n",
              "      <td>0</td>\n",
              "      <td>f</td>\n",
              "      <td>g</td>\n",
              "      <td>00280</td>\n",
              "      <td>824</td>\n",
              "      <td>+</td>\n",
              "    </tr>\n",
              "    <tr>\n",
              "      <th>3</th>\n",
              "      <td>b</td>\n",
              "      <td>27.83</td>\n",
              "      <td>1.540</td>\n",
              "      <td>u</td>\n",
              "      <td>g</td>\n",
              "      <td>w</td>\n",
              "      <td>v</td>\n",
              "      <td>3.75</td>\n",
              "      <td>t</td>\n",
              "      <td>t</td>\n",
              "      <td>5</td>\n",
              "      <td>t</td>\n",
              "      <td>g</td>\n",
              "      <td>00100</td>\n",
              "      <td>3</td>\n",
              "      <td>+</td>\n",
              "    </tr>\n",
              "    <tr>\n",
              "      <th>4</th>\n",
              "      <td>b</td>\n",
              "      <td>20.17</td>\n",
              "      <td>5.625</td>\n",
              "      <td>u</td>\n",
              "      <td>g</td>\n",
              "      <td>w</td>\n",
              "      <td>v</td>\n",
              "      <td>1.71</td>\n",
              "      <td>t</td>\n",
              "      <td>f</td>\n",
              "      <td>0</td>\n",
              "      <td>f</td>\n",
              "      <td>s</td>\n",
              "      <td>00120</td>\n",
              "      <td>0</td>\n",
              "      <td>+</td>\n",
              "    </tr>\n",
              "  </tbody>\n",
              "</table>\n",
              "</div>"
            ]
          },
          "metadata": {}
        }
      ],
      "execution_count": 66,
      "metadata": {
        "collapsed": false,
        "outputHidden": false,
        "inputHidden": false
      }
    },
    {
      "cell_type": "markdown",
      "source": [
        "**Answer**: The interval means we are 99% confident that the true mean lies between 4.2709 and 5.2466. "
      ],
      "metadata": {}
    },
    {
      "cell_type": "markdown",
      "source": [
        "**Exercise 11**: We want to test whether or not the mean of $X_3$ was equal to 5.\n",
        "\nState the null and alternative hypotheses."
      ],
      "metadata": {}
    },
    {
      "cell_type": "markdown",
      "source": [
        "**Answer:** The null hypothesis would state that the mean of X3 is not 5. Whereas the alternative hypothesis states that the mean of X3 is 5."
      ],
      "metadata": {}
    },
    {
      "cell_type": "markdown",
      "source": [
        "**Exercise 12**: Use a one-sample $t$-test to test the above hypotheses at the $\\alpha = 0.05$ significance level. Report and interpret your $p$-value.\n",
        "> Hint: You might find [this link](https://docs.scipy.org/doc/scipy/reference/generated/scipy.stats.ttest_1samp.html) to be helpful! Check out the `a` and `popmean` arguments."
      ],
      "metadata": {}
    },
    {
      "cell_type": "code",
      "source": [
        "\n",
        "pval = stats.ttest_1samp(df['X3'], 5.0)\n",
        "pval.statistic, pval.pvalue"
      ],
      "outputs": [
        {
          "output_type": "execute_result",
          "execution_count": 67,
          "data": {
            "text/plain": [
              "(-1.2731172058046707, 0.20340583433417578)"
            ]
          },
          "metadata": {}
        }
      ],
      "execution_count": 67,
      "metadata": {}
    },
    {
      "cell_type": "markdown",
      "source": [
        "**Answer**: The T stat is the measure of difference and the p value indicates the proability that our measured difference was because of random chance. We have a Tstat of -1.223 and a pvalue of .2169. Since the P-Value is greater than the signficance. We need to accept the null hypothesis in this case. there is a high chance that a mean of 5 is by chance."
      ],
      "metadata": {
        "collapsed": true
      }
    },
    {
      "cell_type": "markdown",
      "source": [
        "**Exercise 13**: We want to test whether or not the true proportion of $X_{16}$ was equal to 0.5.\n",
        "\nState the null and alternative hypotheses."
      ],
      "metadata": {}
    },
    {
      "cell_type": "markdown",
      "source": [
        "**Answer**: The null hypothesis is that X16 true mean is not equal to .5. Alternative hypothesis is that X16 true mean is equal to .5"
      ],
      "metadata": {}
    },
    {
      "cell_type": "markdown",
      "source": [
        "**Exercise 14**: Use a one-sample $t$-test to test the above hypotheses at the $\\alpha = 0.05$ significance level. Report and interpret your $p$-value.\n",
        "> Hint: You might find [this link](https://docs.scipy.org/doc/scipy/reference/generated/scipy.stats.ttest_1samp.html) to be helpful! Check out the `a` and `popmean` arguments."
      ],
      "metadata": {}
    },
    {
      "cell_type": "code",
      "source": [
        "DF16 = df.X16\n",
        "\n",
        "for x in range(0, len(DF16)):\n",
        "    if DF16[x] == '+':\n",
        "        DF16[x] = 1\n",
        "    elif DF16[x] == '-':\n",
        "        DF16[x] = 0\n",
        "        \n",
        "DF16.mean()"
      ],
      "outputs": [
        {
          "output_type": "stream",
          "name": "stderr",
          "text": [
            "C:\\ProgramData\\Anaconda3\\lib\\site-packages\\ipykernel_launcher.py:5: SettingWithCopyWarning: \n",
            "A value is trying to be set on a copy of a slice from a DataFrame\n",
            "\n",
            "See the caveats in the documentation: http://pandas.pydata.org/pandas-docs/stable/indexing.html#indexing-view-versus-copy\n",
            "  \"\"\"\n",
            "C:\\ProgramData\\Anaconda3\\lib\\site-packages\\ipykernel_launcher.py:7: SettingWithCopyWarning: \n",
            "A value is trying to be set on a copy of a slice from a DataFrame\n",
            "\n",
            "See the caveats in the documentation: http://pandas.pydata.org/pandas-docs/stable/indexing.html#indexing-view-versus-copy\n",
            "  import sys\n"
          ]
        },
        {
          "output_type": "execute_result",
          "execution_count": 68,
          "data": {
            "text/plain": [
              "0.4449275362318841"
            ]
          },
          "metadata": {}
        }
      ],
      "execution_count": 68,
      "metadata": {
        "collapsed": false,
        "outputHidden": false,
        "inputHidden": false
      }
    },
    {
      "cell_type": "code",
      "source": [
        "pval = stats.ttest_1samp(DF16, .5)\n",
        "pval.statistic, pval.pvalue"
      ],
      "outputs": [
        {
          "output_type": "execute_result",
          "execution_count": 69,
          "data": {
            "text/plain": [
              "(-2.9088721445108887, 0.0037441556293536346)"
            ]
          },
          "metadata": {}
        }
      ],
      "execution_count": 69,
      "metadata": {
        "collapsed": false,
        "outputHidden": false,
        "inputHidden": false
      }
    },
    {
      "cell_type": "markdown",
      "source": [
        "**Answer**: We reject the null hypothesis in this case since the P value is lower than the significance value of .05"
      ],
      "metadata": {}
    }
  ],
  "metadata": {
    "anaconda-cloud": {},
    "kernelspec": {
      "name": "python3",
      "language": "python",
      "display_name": "Python 3"
    },
    "language_info": {
      "name": "python",
      "version": "3.6.6",
      "mimetype": "text/x-python",
      "codemirror_mode": {
        "name": "ipython",
        "version": 3
      },
      "pygments_lexer": "ipython3",
      "nbconvert_exporter": "python",
      "file_extension": ".py"
    },
    "varInspector": {
      "cols": {
        "lenName": 16,
        "lenType": 16,
        "lenVar": 40
      },
      "kernels_config": {
        "python": {
          "delete_cmd_postfix": "",
          "delete_cmd_prefix": "del ",
          "library": "var_list.py",
          "varRefreshCmd": "print(var_dic_list())"
        },
        "r": {
          "delete_cmd_postfix": ") ",
          "delete_cmd_prefix": "rm(",
          "library": "var_list.r",
          "varRefreshCmd": "cat(var_dic_list()) "
        }
      },
      "types_to_exclude": [
        "module",
        "function",
        "builtin_function_or_method",
        "instance",
        "_Feature"
      ],
      "window_display": false
    },
    "kernel_info": {
      "name": "python3"
    },
    "nteract": {
      "version": "0.12.3"
    }
  },
  "nbformat": 4,
  "nbformat_minor": 1
}